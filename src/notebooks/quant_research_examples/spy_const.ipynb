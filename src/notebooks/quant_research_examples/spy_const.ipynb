{
 "cells": [
  {
   "cell_type": "code",
   "execution_count": 1,
   "metadata": {
    "execution": {
     "iopub.execute_input": "2023-03-10T21:32:12.162400Z",
     "iopub.status.busy": "2023-03-10T21:32:12.161131Z",
     "iopub.status.idle": "2023-03-10T21:32:27.996869Z",
     "shell.execute_reply": "2023-03-10T21:32:27.996773Z",
     "shell.execute_reply.started": "2023-03-10 21:32:12.173465+00:00"
    },
    "tags": []
   },
   "outputs": [
    {
     "name": "stderr",
     "output_type": "stream",
     "text": [
      "[I 2023-03-10 21:32:12,172.172 configure_magic] Magic cell payload received: {\"conf\": {\"spark.pyspark.python\": \"python3\", \"spark.pyspark.virtualenv.enabled\": \"true\", \"spark.pyspark.virtualenv.type\": \"native\", \"spark.pyspark.virtualenv.bin.path\": \"/usr/bin/virtualenv\", \"spark.sql.execution.arrow.enabled\": \"true\"}, \"proxyUser\": \"assumed-role_fdp_blitvin-Isengard\"}\n",
      "\n",
      "[I 2023-03-10 21:32:12,173.173 configure_magic] Sending request to update kernel. Please wait while the kernel will be refreshed.\n"
     ]
    },
    {
     "name": "stdout",
     "output_type": "stream",
     "text": [
      "The kernel is successfully refreshed."
     ]
    }
   ],
   "source": [
    "%%configure -f\n",
    "{ \"conf\":{\n",
    "          \"spark.pyspark.python\": \"python3\",\n",
    "          \"spark.pyspark.virtualenv.enabled\": \"true\",\n",
    "          \"spark.pyspark.virtualenv.type\":\"native\",\n",
    "          \"spark.pyspark.virtualenv.bin.path\":\"/usr/bin/virtualenv\",\n",
    "          \"spark.sql.execution.arrow.enabled\":\"true\"\n",
    "         }\n",
    "}"
   ]
  },
  {
   "cell_type": "code",
   "execution_count": null,
   "metadata": {
    "tags": []
   },
   "outputs": [],
   "source": []
  },
  {
   "cell_type": "code",
   "execution_count": 1,
   "metadata": {
    "execution": {
     "iopub.execute_input": "2023-03-10T21:32:31.760765Z",
     "iopub.status.busy": "2023-03-10T21:32:31.760229Z",
     "iopub.status.idle": "2023-03-10T21:32:43.549193Z",
     "shell.execute_reply": "2023-03-10T21:32:43.548255Z",
     "shell.execute_reply.started": "2023-03-10T21:32:31.760672Z"
    },
    "tags": []
   },
   "outputs": [
    {
     "name": "stdout",
     "output_type": "stream",
     "text": [
      "Collecting dowhy\n",
      "  Downloading dowhy-0.8-py3-none-any.whl (287 kB)\n",
      "Collecting pydot>=1.4\n",
      "  Downloading pydot-1.4.2-py2.py3-none-any.whl (21 kB)\n",
      "Requirement already satisfied: scikit-learn in /usr/local/lib64/python3.7/site-packages (from dowhy) (1.0.2)\n",
      "Requirement already satisfied: pandas>=0.24 in /usr/local/lib64/python3.7/site-packages (from dowhy) (1.3.5)\n",
      "Collecting networkx>=2.0\n",
      "  Downloading networkx-2.6.3-py3-none-any.whl (1.9 MB)\n",
      "Requirement already satisfied: scipy in /usr/local/lib64/python3.7/site-packages (from dowhy) (1.7.3)\n",
      "Collecting sympy>=1.4\n",
      "  Downloading sympy-1.10.1-py3-none-any.whl (6.4 MB)\n",
      "Requirement already satisfied: numpy>=1.15 in /usr/local/lib64/python3.7/site-packages (from dowhy) (1.21.6)\n",
      "Requirement already satisfied: statsmodels in /usr/local/lib64/python3.7/site-packages (from dowhy) (0.13.5)\n",
      "Requirement already satisfied: pyparsing>=2.1.4 in /usr/local/lib/python3.7/site-packages (from pydot>=1.4->dowhy) (3.0.9)\n",
      "Requirement already satisfied: joblib>=0.11 in /usr/local/lib/python3.7/site-packages (from scikit-learn->dowhy) (1.2.0)\n",
      "Requirement already satisfied: threadpoolctl>=2.0.0 in /usr/local/lib/python3.7/site-packages (from scikit-learn->dowhy) (3.1.0)\n",
      "Requirement already satisfied: python-dateutil>=2.7.3 in /usr/local/lib/python3.7/site-packages (from pandas>=0.24->dowhy) (2.8.2)\n",
      "Requirement already satisfied: pytz>=2017.3 in /usr/local/lib/python3.7/site-packages (from pandas>=0.24->dowhy) (2022.6)\n",
      "Collecting mpmath>=0.19\n",
      "  Downloading mpmath-1.3.0-py3-none-any.whl (536 kB)\n",
      "Requirement already satisfied: patsy>=0.5.2 in /usr/local/lib/python3.7/site-packages (from statsmodels->dowhy) (0.5.3)\n",
      "Requirement already satisfied: packaging>=21.3 in /usr/local/lib/python3.7/site-packages (from statsmodels->dowhy) (21.3)\n",
      "Requirement already satisfied: six>=1.5 in /usr/local/lib/python3.7/site-packages (from python-dateutil>=2.7.3->pandas>=0.24->dowhy) (1.16.0)\n",
      "Installing collected packages: pydot, networkx, mpmath, sympy, dowhy\n",
      "Successfully installed dowhy-0.8 mpmath-1.3.0 networkx-2.6.3 pydot-1.4.2 sympy-1.10.1\n",
      "\n"
     ]
    },
    {
     "name": "stderr",
     "output_type": "stream",
     "text": [
      "\n"
     ]
    }
   ],
   "source": [
    "sc.install_pypi_package(\"dowhy\")"
   ]
  },
  {
   "cell_type": "code",
   "execution_count": 2,
   "metadata": {
    "execution": {
     "iopub.execute_input": "2023-03-10T21:32:43.551172Z",
     "iopub.status.busy": "2023-03-10T21:32:43.550818Z",
     "iopub.status.idle": "2023-03-10T21:32:47.358818Z",
     "shell.execute_reply": "2023-03-10T21:32:47.357930Z",
     "shell.execute_reply.started": "2023-03-10T21:32:43.551141Z"
    },
    "tags": []
   },
   "outputs": [
    {
     "name": "stderr",
     "output_type": "stream",
     "text": [
      "/usr/local/lib/python3.7/site-packages/tzlocal/unix.py:177: UserWarning: Can not find any timezone configuration, defaulting to UTC.\n",
      "  warnings.warn(\"Can not find any timezone configuration, defaulting to UTC.\")\n",
      "/usr/local/lib/python3.7/site-packages/pyfolio/pos.py:27: UserWarning: Module \"zipline.assets\" not found; mutltipliers will not be applied to position notionals.\n",
      "  'Module \"zipline.assets\" not found; mutltipliers will not be applied' +\n"
     ]
    }
   ],
   "source": [
    "import pyEX as p\n",
    "import requests\n",
    "import json\n",
    "import pandas as pd\n",
    "import numpy as np\n",
    "import vectorbt as vbt\n",
    "import matplotlib.pyplot as plt\n",
    "import itertools\n",
    "import datetime\n",
    "#import awswrangler as wr\n",
    "import vectorbt as vbt\n",
    "import pyspark.sql.functions as py_f\n",
    "import pyspark.sql.types as py_t\n",
    "import pyspark.sql.window as py_w\n",
    "from alpaca.data.historical import StockHistoricalDataClient\n",
    "from alpaca.data.timeframe import TimeFrame, TimeFrameUnit\n",
    "from alpaca.data.requests import StockBarsRequest\n",
    "import pyarrow as pa\n",
    "import pyarrow.parquet as pq\n",
    "import boto3\n",
    "from botocore.exceptions import ClientError\n",
    "import pyfolio as pf\n",
    "import scipy.stats as stats\n",
    "from numba import jit\n",
    "from dowhy import CausalModel\n",
    "\n",
    "isSandbox = False\n",
    "if isSandbox:\n",
    "    token = 'Tpk_02dcd2036e7641b880dd4cbb01fa9c67'\n",
    "    iex_ver = 'sandbox'\n",
    "else:\n",
    "    #token ='pk_2e94555e43da4135a6032433c6b18fa5'\n",
    "    token = 'pk_79d147436c1349f3abbec37591323e52'\n",
    "    iex_ver = 'stable'\n",
    "pyEX_cl = p.Client(api_token=token)\n",
    "timeframe = 'max'"
   ]
  },
  {
   "cell_type": "code",
   "execution_count": 100,
   "metadata": {
    "execution": {
     "iopub.execute_input": "2023-03-11T00:28:40.772259Z",
     "iopub.status.busy": "2023-03-11T00:28:40.771769Z",
     "iopub.status.idle": "2023-03-11T00:28:40.776373Z",
     "shell.execute_reply": "2023-03-11T00:28:40.775639Z",
     "shell.execute_reply.started": "2023-03-11T00:28:40.772225Z"
    },
    "tags": []
   },
   "outputs": [],
   "source": [
    "md_file = 's3://fsidatalake/intraday_market_data/OHLC_1m.parquet'"
   ]
  },
  {
   "cell_type": "code",
   "execution_count": null,
   "metadata": {},
   "outputs": [],
   "source": []
  },
  {
   "cell_type": "code",
   "execution_count": 101,
   "metadata": {
    "execution": {
     "iopub.execute_input": "2023-03-11T00:28:41.959537Z",
     "iopub.status.busy": "2023-03-11T00:28:41.959119Z",
     "iopub.status.idle": "2023-03-11T00:28:41.978246Z",
     "shell.execute_reply": "2023-03-11T00:28:41.977550Z",
     "shell.execute_reply.started": "2023-03-11T00:28:41.959507Z"
    },
    "tags": []
   },
   "outputs": [],
   "source": [
    "sp500 = [\n",
    "            \"AAPL\", \"MSFT\", \"AMZN\", \"GOOGL\", \"BRK.B\", \"GOOG\", \"NVDA\", \"TSLA\",\n",
    "            \"XOM\", \"UNH\", \"JNJ\", \"JPM\", \"V\", \"META\", \"PG\", \"HD\", \"CVX\", \"MA\",\n",
    "            \"LLY\", \"MRK\", \"ABBV\", \"BAC\", \"PFE\", \"AVGO\", \"KO\", \"PEP\", \"TMO\",\n",
    "            \"COST\", \"WMT\", \"DIS\", \"MCD\", \"CSCO\", \"ABT\", \"WFC\", \"ACN\", \"DHR\",\n",
    "            \"ADBE\", \"CMCSA\", \"VZ\", \"CRM\", \"PM\", \"NKE\", \"NFLX\", \"LIN\", \"TXN\",\n",
    "            \"COP\", \"BMY\", \"NEE\", \"QCOM\", \"RTX\", \"T\", \"HON\", \"CAT\", \"ORCL\",\n",
    "            \"AMGN\", \"UPS\", \"MS\", \"LOW\", \"SBUX\", \"UNP\", \"SPGI\", \"IBM\", \"AMD\",\n",
    "            \"GS\", \"PLD\", \"INTU\", \"BA\", \"ELV\", \"INTC\", \"CVS\", \"DE\", \"BLK\",\n",
    "            \"SCHW\", \"MDT\", \"LMT\", \"GILD\", \"AXP\", \"AMT\", \"C\", \"AMAT\", \"BKNG\",\n",
    "            \"TJX\", \"CB\", \"CI\", \"PYPL\", \"NOW\", \"ADP\", \"GE\", \"ADI\", \"MDLZ\",\n",
    "            \"TMUS\", \"ISRG\", \"MMC\", \"SYK\", \"VRTX\", \"SLB\", \"REGN\", \"MO\", \"EOG\",\n",
    "            \"PGR\", \"DUK\", \"TGT\", \"ZTS\", \"SO\", \"BDX\", \"APD\", \"MU\", \"FISV\",\n",
    "            \"EQIX\", \"AON\", \"LRCX\", \"USB\", \"PNC\", \"BSX\", \"TFC\", \"ITW\", \"ETN\",\n",
    "            \"FCX\", \"MMM\", \"NOC\", \"CCI\", \"CSX\", \"CME\", \"MRNA\", \"EL\", \"MPC\",\n",
    "            \"HUM\", \"ICE\", \"CL\", \"WM\", \"KLAC\", \"PXD\", \"NSC\", \"VLO\", \"HCA\",\n",
    "            \"ATVI\", \"SNPS\", \"MCK\", \"GM\", \"SHW\", \"DG\", \"EMR\", \"F\", \"PSX\", \"D\",\n",
    "            \"GD\", \"SRE\", \"CDNS\", \"MCO\", \"OXY\", \"EW\", \"ORLY\", \"MET\", \"AEP\",\n",
    "            \"NXPI\", \"JCI\", \"PSA\", \"AIG\", \"MAR\", \"APH\", \"A\", \"GIS\", \"ROP\", \"ADM\",\n",
    "            \"CTVA\", \"FDX\", \"ADSK\", \"AZO\", \"COF\", \"FIS\", \"TRV\", \"CMG\", \"NUE\",\n",
    "            \"KMB\", \"HES\", \"CNC\", \"O\", \"IQV\", \"MCHP\", \"DVN\", \"CHTR\", \"MSI\",\n",
    "            \"DOW\", \"NEM\", \"BIIB\", \"MSCI\", \"AFL\", \"SPG\", \"DXCM\", \"ROST\", \"EXC\",\n",
    "            \"TT\", \"PH\", \"AJG\", \"IDXX\", \"LHX\", \"TEL\", \"SYY\", \"HLT\", \"MNST\",\n",
    "            \"PCAR\", \"PRU\", \"WMB\", \"CTAS\", \"XEL\", \"ECL\", \"STZ\", \"AMP\", \"KMI\",\n",
    "            \"HAL\", \"DD\", \"BK\", \"CARR\", \"TDG\", \"YUM\", \"PAYX\", \"WELL\", \"CMI\",\n",
    "            \"ALL\", \"FTNT\", \"MTD\", \"OTIS\", \"EA\", \"CTSH\", \"ED\", \"ILMN\", \"STT\",\n",
    "            \"ALB\", \"RMD\", \"AME\", \"ROK\", \"VICI\", \"WBD\", \"HSY\", \"DFS\", \"DLR\",\n",
    "            \"KEYS\", \"ON\", \"CSGP\", \"DLTR\", \"BKR\", \"KHC\", \"GPN\", \"SBAC\", \"ANET\",\n",
    "            \"OKE\", \"ODFL\", \"DHI\", \"URI\", \"PEG\", \"APTV\", \"PPG\", \"KDP\", \"KR\",\n",
    "            \"WEC\", \"CPRT\", \"AWK\", \"IFF\", \"FAST\", \"ENPH\", \"CEG\", \"VRSK\", \"ES\",\n",
    "            \"GLW\", \"WTW\", \"MTB\", \"CBRE\", \"EBAY\", \"FANG\", \"EFX\", \"WBA\", \"ABC\",\n",
    "            \"HPQ\", \"ZBH\", \"EIX\", \"ULTA\", \"IT\", \"TROW\", \"CDW\", \"PCG\", \"GWW\",\n",
    "            \"FRC\", \"LEN\", \"GEHC\", \"WY\", \"RSG\", \"TSCO\", \"AVB\", \"FITB\", \"HIG\",\n",
    "            \"DAL\", \"LYB\", \"VMC\", \"ARE\", \"FTV\", \"ACGL\", \"GPC\", \"BAX\", \"ANSS\",\n",
    "            \"LH\", \"AEE\", \"FE\", \"IR\", \"ETR\", \"RF\", \"DTE\", \"PPL\", \"RJF\", \"LUV\",\n",
    "            \"PFG\", \"HBAN\", \"MLM\", \"EQR\", \"CFG\", \"PWR\", \"EXR\", \"HPE\", \"HOLX\",\n",
    "            \"DOV\", \"STE\", \"NDAQ\", \"VTR\", \"VRSN\", \"CTRA\", \"CAH\", \"NTRS\", \"WAT\",\n",
    "            \"STLD\", \"WST\", \"ALGN\", \"EPAM\", \"TDY\", \"LVS\", \"CHD\", \"TSN\", \"MPWR\",\n",
    "            \"INVH\", \"MAA\", \"WAB\", \"MKC\", \"CNP\", \"XYL\", \"DRI\", \"BALL\", \"MRO\",\n",
    "            \"CMS\", \"AMCR\", \"IEX\", \"TTWO\", \"FSLR\", \"SWKS\", \"AES\", \"BR\", \"EXPD\",\n",
    "            \"SIVB\", \"KEY\", \"MOH\", \"OMC\", \"PKI\", \"K\", \"EXPE\", \"CAG\", \"ETSY\",\n",
    "            \"BBY\", \"CLX\", \"MOS\", \"TRGP\", \"DGX\", \"SEDG\", \"COO\", \"CINF\", \"SYF\",\n",
    "            \"FMC\", \"CF\", \"ZBRA\", \"TER\", \"SJM\", \"ATO\", \"UAL\", \"INCY\", \"FDS\",\n",
    "            \"JBHT\", \"IRM\", \"NVR\", \"J\", \"PAYC\", \"AVY\", \"FLT\", \"TXT\", \"GRMN\",\n",
    "            \"MTCH\", \"POOL\", \"LKQ\", \"APA\", \"HWM\", \"PEAK\", \"NTAP\", \"TRMB\", \"ESS\",\n",
    "            \"VTRS\", \"PTC\", \"LW\", \"WRB\", \"MKTX\", \"EVRG\", \"WDC\", \"RCL\", \"IPG\",\n",
    "            \"KIM\", \"AKAM\", \"RE\", \"IP\", \"TYL\", \"LNT\", \"STX\", \"MGM\", \"BRO\",\n",
    "            \"JKHY\", \"LDOS\", \"GEN\", \"HST\", \"SNA\", \"PKG\", \"HRL\", \"NDSN\", \"CPT\",\n",
    "            \"CBOE\", \"UDR\", \"DPZ\", \"SWK\", \"TECH\", \"CRL\", \"PHM\", \"CHRW\", \"BF.B\",\n",
    "            \"EQT\", \"CE\", \"HSIC\", \"L\", \"PARA\", \"QRVO\", \"MAS\", \"LYV\", \"TFX\",\n",
    "            \"KMX\", \"CZR\", \"NI\", \"CDAY\", \"TPR\", \"BWA\", \"GL\", \"WYNN\", \"CCL\",\n",
    "            \"EMN\", \"AAL\", \"FOXA\", \"BXP\", \"CPB\", \"JNPR\", \"BIO\", \"BBWI\", \"REG\",\n",
    "            \"ALLE\", \"VFC\", \"UHS\", \"WRK\", \"TAP\", \"CTLT\", \"CMA\", \"RHI\", \"AAP\",\n",
    "            \"FFIV\", \"HII\", \"PNR\", \"WHR\", \"BEN\", \"ROL\", \"PNW\", \"IVZ\", \"FRT\",\n",
    "            \"ZION\", \"XRAY\", \"NWSA\", \"SEE\", \"SBNY\", \"NRG\", \"AOS\", \"OGN\", \"HAS\",\n",
    "            \"GNRC\", \"AIZ\", \"DXC\", \"ALK\", \"NCLH\", \"MHK\", \"NWL\", \"LNC\", \"RL\",\n",
    "            \"LUMN\", \"FOX\", \"DVA\", \"DISH\", \"NWS\"\n",
    "        ]"
   ]
  },
  {
   "cell_type": "code",
   "execution_count": 103,
   "metadata": {
    "execution": {
     "iopub.execute_input": "2023-03-11T00:30:32.895289Z",
     "iopub.status.busy": "2023-03-11T00:30:32.894850Z",
     "iopub.status.idle": "2023-03-11T00:31:00.652496Z",
     "shell.execute_reply": "2023-03-11T00:31:00.651679Z",
     "shell.execute_reply.started": "2023-03-11T00:30:32.895258Z"
    },
    "tags": []
   },
   "outputs": [
    {
     "name": "stdout",
     "output_type": "stream",
     "text": [
      "+-------+-------+-------+-------+---------+--------------+----------+----------+---------+-----------+--------------------+--------------------+-------------------+------+------+\n",
      "|   open|   high|    low|  close| notional|numberOfTrades|marketOpen|marketHigh|marketLow|marketClose|      marketNotional|marketNumberOfTrades|               date|minute|symbol|\n",
      "+-------+-------+-------+-------+---------+--------------+----------+----------+---------+-----------+--------------------+--------------------+-------------------+------+------+\n",
      "| 129.47| 131.09| 129.47| 130.93| 339313.5|          24.0|     131.0|     133.0|   129.39|    131.045|1.3287531239999998E7|              1762.0|2023-02-08 00:00:00| 09:30|   AIZ|\n",
      "|  92.04|  93.72|  92.04|  93.66| 418750.0|          40.0|     92.19|     93.76|    91.81|      93.62|       1.261769571E7|              1781.0|2023-02-08 00:00:00| 09:30|   PFG|\n",
      "| 452.66| 456.27| 452.66| 454.37|1999016.0|          44.0|     451.0|    456.72|    451.0|     454.54|       4.460277807E7|              2132.0|2023-02-08 00:00:00| 09:30|   NOC|\n",
      "| 92.455|  92.72|  92.37|  92.72| 231348.0|          23.0|     92.91|     92.93|    92.27|      92.74|   8509694.419999998|              1254.0|2023-02-08 00:00:00| 09:30|    ED|\n",
      "|  389.5|  389.5| 386.17| 388.96|1240020.0|          21.0|    388.58|    390.22|   385.39|     388.66|       1.511128057E7|               991.0|2023-02-08 00:00:00| 09:30|  POOL|\n",
      "|372.415| 376.72|372.415| 376.72|1310474.5|          31.0|    372.92|    377.09|   371.98|     376.92|       7.472835443E7|              3732.0|2023-02-08 00:00:00| 09:30|    GS|\n",
      "| 366.09| 369.34| 365.24| 368.62| 367309.0|           9.0|    367.34|    369.69|   365.09|     369.23|2.6625302530000005E7|              1549.0|2023-02-08 00:00:00| 09:30|  ODFL|\n",
      "|230.975|230.975| 230.12| 230.73| 299725.0|          13.0|    230.34|    231.24|  229.746|     230.73|1.8269697759999994E7|              1653.0|2023-02-08 00:00:00| 09:30|    GD|\n",
      "|123.085|124.015|123.085| 123.72|  61752.0|           5.0|    122.82|    124.02|    122.7|     124.02|  2878444.4000000004|               458.0|2023-02-08 00:00:00| 09:30|   CPT|\n",
      "|  177.0| 178.08|176.745| 178.04| 904589.5|          46.0|     177.3|    178.16|   176.56|    178.035|1.7350863119999997E7|              1413.0|2023-02-08 00:00:00| 09:30|  VRSK|\n",
      "|288.855| 290.14| 286.71| 289.79|4759708.0|         157.0|    287.95|    290.73|    286.5|     290.18| 8.153061080000001E7|              3694.0|2023-02-08 00:00:00| 09:30|    CI|\n",
      "| 216.32|217.225|215.145|217.035|1126175.0|          45.0|    215.92|    217.41|   214.12|    217.035|1.0789895809999999E7|              1039.0|2023-02-08 00:00:00| 09:30|   STE|\n",
      "| 204.07| 204.58| 202.75| 203.85|1284056.0|          58.0|    203.93|    204.81|  202.615|     203.85|6.3603827760000005E7|              5980.0|2023-02-08 00:00:00| 09:30|   HON|\n",
      "| 165.09| 167.08| 165.09| 166.95| 481714.0|          29.0|    165.15|    167.08|  164.745|     166.95| 2.552467161000001E7|              2147.0|2023-02-08 00:00:00| 09:30|   NUE|\n",
      "| 737.98| 739.69| 737.98| 738.12| 221579.0|           3.0|    735.37|     741.4|   735.37|    740.145|2.1929368110000003E7|              1546.0|2023-02-08 00:00:00| 09:30|   BLK|\n",
      "| 302.16|  302.3|  296.3|300.355|3472937.0|          99.0|    302.98|    302.98|   295.69|     299.68|       9.284432375E7|              7054.0|2023-02-08 00:00:00| 09:30|  VRTX|\n",
      "| 100.02| 100.03|  99.73|  99.98| 289598.0|          28.0|     100.2|   100.285|    99.65|      100.0|2.5407232310000002E7|              3155.0|2023-02-08 00:00:00| 09:30|   DUK|\n",
      "| 62.405|   62.6| 62.405|   62.6|  18751.5|           3.0|     62.41|     62.71|    62.25|      62.69|  1999688.1200000006|               538.0|2023-02-08 00:00:00| 09:30|     L|\n",
      "| 285.71| 290.27|  285.3| 289.88|1440761.5|          46.0|    284.45|    290.33|   284.45|     289.71| 4.886826391999999E7|              3508.0|2023-02-08 00:00:00| 09:30|   APD|\n",
      "|  243.9| 246.12| 243.75| 245.96|      0.0|           0.0|     243.9|    246.12|   243.75|     245.96|  1184646.5999999999|               261.0|2023-02-08 00:00:00| 09:30|  NDSN|\n",
      "+-------+-------+-------+-------+---------+--------------+----------+----------+---------+-----------+--------------------+--------------------+-------------------+------+------+\n",
      "only showing top 20 rows\n",
      "\n"
     ]
    }
   ],
   "source": [
    "if True: \n",
    "    study_df =spark.read.parquet(md_file).where((py_f.col(f\"symbol\").isin(sp500)) ) #spark.read.parquet('s3://fsidatalake/intraday_market_data/OHLC_30m.parquet')#mdg.parquet_file_out)\n",
    "    study_df_bench =spark.read.parquet(md_file)\\\n",
    "    .where((py_f.col(f\"symbol\").isin(['SPY'])) )\n",
    "    if False:\n",
    "        study_pd_bench = study_df_bench.select('date','close').toPandas().set_index('date').sort_index().pct_change()\n",
    "else:\n",
    "    sym_sample = spark.read.parquet(etf_parquet_file)\n",
    "study_df.orderBy('date','minute').show()\n",
    "study_config = {'first_bar':'14:30',\n",
    "                'last_bar':'20:30',\n",
    "                'random_check_bar':'17:00',\n",
    "                'bench_symbol':'SPY'\n",
    "               }"
   ]
  },
  {
   "cell_type": "code",
   "execution_count": null,
   "metadata": {},
   "outputs": [],
   "source": []
  },
  {
   "cell_type": "code",
   "execution_count": 26,
   "metadata": {
    "execution": {
     "iopub.execute_input": "2023-03-10T23:04:18.960368Z",
     "iopub.status.busy": "2023-03-10T23:04:18.959921Z",
     "iopub.status.idle": "2023-03-10T23:04:22.744750Z",
     "shell.execute_reply": "2023-03-10T23:04:22.743995Z",
     "shell.execute_reply.started": "2023-03-10T23:04:18.960337Z"
    },
    "tags": []
   },
   "outputs": [],
   "source": [
    "study_pd=study_df.groupBy(\"date\").pivot(\"symbol\").mean(\"close\").toPandas().set_index('date').sort_index()\n",
    "study_pd_diff=study_pd.pct_change().fillna(method='ffill')\n"
   ]
  },
  {
   "cell_type": "code",
   "execution_count": 97,
   "metadata": {
    "execution": {
     "iopub.execute_input": "2023-03-10T23:40:53.563691Z",
     "iopub.status.busy": "2023-03-10T23:40:53.563255Z",
     "iopub.status.idle": "2023-03-10T23:40:53.743274Z",
     "shell.execute_reply": "2023-03-10T23:40:53.742472Z",
     "shell.execute_reply.started": "2023-03-10T23:40:53.563662Z"
    },
    "tags": []
   },
   "outputs": [
    {
     "data": {
      "text/plain": [
       "<AxesSubplot:xlabel='pct_pos', ylabel='close'>"
      ]
     },
     "execution_count": 97,
     "metadata": {},
     "output_type": "execute_result"
    },
    {
     "data": {
      "image/png": "[encoded data removed]",
      "text/plain": [
       "<Figure size 640x480 with 1 Axes>"
      ]
     },
     "metadata": {},
     "output_type": "display_data"
    }
   ],
   "source": [
    "market_breadth_pd = (study_pd_diff>0)*1\n",
    "market_breadth_pd =market_breadth_pd.sum(axis=1).to_frame(name=\"pos_count\").join(market_breadth_pd.count(axis=1).to_frame(name=\"total_count\"))\\\n",
    "                                .join(study_pd_diff.mean(axis=1).to_frame(name=\"mean_pnl\")+0.5)\n",
    "market_breadth_pd['pct_pos']=market_breadth_pd['pos_count']/market_breadth_pd['total_count']\n",
    "market_breadth_pd=market_breadth_pd.join(study_pd_bench*10+0.5)\n",
    "tf=1\n",
    "market_breadth_pd.rolling(tf,min_periods=1).mean().plot.scatter(x='pct_pos',y='close')"
   ]
  },
  {
   "cell_type": "code",
   "execution_count": 85,
   "metadata": {
    "execution": {
     "iopub.execute_input": "2023-03-10T23:30:34.701258Z",
     "iopub.status.busy": "2023-03-10T23:30:34.700842Z",
     "iopub.status.idle": "2023-03-10T23:30:34.893318Z",
     "shell.execute_reply": "2023-03-10T23:30:34.892518Z",
     "shell.execute_reply.started": "2023-03-10T23:30:34.701228Z"
    },
    "tags": []
   },
   "outputs": [
    {
     "data": {
      "text/plain": [
       "<AxesSubplot:xlabel='date'>"
      ]
     },
     "execution_count": 85,
     "metadata": {},
     "output_type": "execute_result"
    },
    {
     "data": {
      "image/png": "[encoded data removed]",
      "text/plain": [
       "<Figure size 640x480 with 1 Axes>"
      ]
     },
     "metadata": {},
     "output_type": "display_data"
    }
   ],
   "source": [
    "\n",
    "market_breadth_pd[['mean_pnl']].rolling(100,min_periods=100).mean().plot()"
   ]
  },
  {
   "cell_type": "code",
   "execution_count": 20,
   "metadata": {
    "execution": {
     "iopub.execute_input": "2023-03-10T21:39:14.042096Z",
     "iopub.status.busy": "2023-03-10T21:39:14.041649Z",
     "iopub.status.idle": "2023-03-10T21:39:14.047049Z",
     "shell.execute_reply": "2023-03-10T21:39:14.046330Z",
     "shell.execute_reply.started": "2023-03-10T21:39:14.042053Z"
    },
    "tags": []
   },
   "outputs": [
    {
     "name": "stderr",
     "output_type": "stream",
     "text": [
      "[W 2023-03-10 21:39:14,043.043 dowhy.causal_model] Causal Graph not provided. DoWhy will construct a graph based on data inputs.\n",
      "[W 2023-03-10 21:39:14,043.043 dowhy.causal_model] Relevant variables to build causal graph not provided. You may want to use the learn_graph() function to construct the causal graph.\n"
     ]
    }
   ],
   "source": [
    "model = CausalModel(\n",
    "    data=study_pd_diff,\n",
    "    treatment='SPY',\n",
    "    outcome='XLE')"
   ]
  },
  {
   "cell_type": "code",
   "execution_count": 21,
   "metadata": {
    "execution": {
     "iopub.execute_input": "2023-03-10T21:39:14.419872Z",
     "iopub.status.busy": "2023-03-10T21:39:14.419440Z",
     "iopub.status.idle": "2023-03-10T21:39:14.425834Z",
     "shell.execute_reply": "2023-03-10T21:39:14.425176Z",
     "shell.execute_reply.started": "2023-03-10T21:39:14.419843Z"
    },
    "tags": []
   },
   "outputs": [
    {
     "name": "stdout",
     "output_type": "stream",
     "text": [
      "Estimand type: nonparametric-ate\n",
      "\n",
      "### Estimand : 1\n",
      "Estimand name: backdoor\n",
      "Estimand expression:\n",
      "  d           \n",
      "──────(E[XLE])\n",
      "d[SPY]        \n",
      "Estimand assumption 1, Unconfoundedness: If U→{SPY} and U→XLE then P(XLE|SPY,,U) = P(XLE|SPY,)\n",
      "\n",
      "### Estimand : 2\n",
      "Estimand name: iv\n",
      "No such variable(s) found!\n",
      "\n",
      "### Estimand : 3\n",
      "Estimand name: frontdoor\n",
      "No such variable(s) found!\n",
      "\n"
     ]
    }
   ],
   "source": [
    "identified_estimand = model.identify_effect(proceed_when_unidentifiable=True)\n",
    "print(identified_estimand)"
   ]
  },
  {
   "cell_type": "code",
   "execution_count": 19,
   "metadata": {
    "execution": {
     "iopub.execute_input": "2023-03-10T21:39:01.057390Z",
     "iopub.status.busy": "2023-03-10T21:39:01.056925Z",
     "iopub.status.idle": "2023-03-10T21:39:01.077601Z",
     "shell.execute_reply": "2023-03-10T21:39:01.076680Z",
     "shell.execute_reply.started": "2023-03-10T21:39:01.057361Z"
    },
    "tags": []
   },
   "outputs": [
    {
     "name": "stdout",
     "output_type": "stream",
     "text": [
      "propensity_score_stratification\n"
     ]
    },
    {
     "name": "stderr",
     "output_type": "stream",
     "text": [
      "[E 2023-03-10 21:39:01,060.060 dowhy.causal_estimator] No common causes/confounders present. Propensity score based methods are not applicable\n"
     ]
    },
    {
     "ename": "Exception",
     "evalue": "No common causes/confounders present. Propensity score based methods are not applicable",
     "output_type": "error",
     "traceback": [
      "\u001b[0;31m---------------------------------------------------------------------------\u001b[0m",
      "\u001b[0;31mException\u001b[0m                                 Traceback (most recent call last)",
      "\u001b[0;32m/usr/local/bin/kernel-launchers/python/scripts/launch_ipykernel.py\u001b[0m in \u001b[0;36m<module>\u001b[0;34m\u001b[0m\n\u001b[0;32m----> 1\u001b[0;31m \u001b[0mcausal_estimate\u001b[0m \u001b[0;34m=\u001b[0m \u001b[0mmodel\u001b[0m\u001b[0;34m.\u001b[0m\u001b[0mestimate_effect\u001b[0m\u001b[0;34m(\u001b[0m\u001b[0midentified_estimand\u001b[0m\u001b[0;34m,\u001b[0m\u001b[0mmethod_name\u001b[0m\u001b[0;34m=\u001b[0m\u001b[0;34m\"backdoor.propensity_score_stratification\"\u001b[0m\u001b[0;34m)\u001b[0m\u001b[0;34m\u001b[0m\u001b[0;34m\u001b[0m\u001b[0m\n\u001b[0m\u001b[1;32m      2\u001b[0m \u001b[0mprint\u001b[0m\u001b[0;34m(\u001b[0m\u001b[0mcausal_estimate\u001b[0m\u001b[0;34m)\u001b[0m\u001b[0;34m\u001b[0m\u001b[0;34m\u001b[0m\u001b[0m\n",
      "\u001b[0;32m~/virtualenv_spark-12ac8acf823d42899e0c86032c97f840_0/lib/python3.7/site-packages/dowhy/causal_model.py\u001b[0m in \u001b[0;36mestimate_effect\u001b[0;34m(self, identified_estimand, method_name, control_value, treatment_value, test_significance, evaluate_effect_strength, confidence_intervals, target_units, effect_modifiers, fit_estimator, method_params)\u001b[0m\n\u001b[1;32m    307\u001b[0m                     \u001b[0meffect_modifiers\u001b[0m \u001b[0;34m=\u001b[0m \u001b[0meffect_modifiers\u001b[0m\u001b[0;34m,\u001b[0m\u001b[0;34m\u001b[0m\u001b[0;34m\u001b[0m\u001b[0m\n\u001b[1;32m    308\u001b[0m                     \u001b[0;34m**\u001b[0m\u001b[0mmethod_params\u001b[0m\u001b[0;34m,\u001b[0m\u001b[0;34m\u001b[0m\u001b[0;34m\u001b[0m\u001b[0m\n\u001b[0;32m--> 309\u001b[0;31m                     **extra_args)\n\u001b[0m\u001b[1;32m    310\u001b[0m             \u001b[0;32melse\u001b[0m\u001b[0;34m:\u001b[0m\u001b[0;34m\u001b[0m\u001b[0;34m\u001b[0m\u001b[0m\n\u001b[1;32m    311\u001b[0m                 \u001b[0;31m# Estimator had been computed in a previous call\u001b[0m\u001b[0;34m\u001b[0m\u001b[0;34m\u001b[0m\u001b[0;34m\u001b[0m\u001b[0m\n",
      "\u001b[0;32m~/virtualenv_spark-12ac8acf823d42899e0c86032c97f840_0/lib/python3.7/site-packages/dowhy/causal_estimators/propensity_score_stratification_estimator.py\u001b[0m in \u001b[0;36m__init__\u001b[0;34m(self, num_strata, clipping_threshold, propensity_score_model, recalculate_propensity_score, propensity_score_column, *args, **kwargs)\u001b[0m\n\u001b[1;32m     56\u001b[0m             \u001b[0mrecalculate_propensity_score\u001b[0m\u001b[0;34m=\u001b[0m\u001b[0mrecalculate_propensity_score\u001b[0m\u001b[0;34m,\u001b[0m\u001b[0;34m\u001b[0m\u001b[0;34m\u001b[0m\u001b[0m\n\u001b[1;32m     57\u001b[0m             \u001b[0mpropensity_score_column\u001b[0m\u001b[0;34m=\u001b[0m\u001b[0mpropensity_score_column\u001b[0m\u001b[0;34m,\u001b[0m\u001b[0;34m\u001b[0m\u001b[0;34m\u001b[0m\u001b[0m\n\u001b[0;32m---> 58\u001b[0;31m             **args_dict)\n\u001b[0m\u001b[1;32m     59\u001b[0m \u001b[0;34m\u001b[0m\u001b[0m\n\u001b[1;32m     60\u001b[0m         \u001b[0mself\u001b[0m\u001b[0;34m.\u001b[0m\u001b[0mlogger\u001b[0m\u001b[0;34m.\u001b[0m\u001b[0minfo\u001b[0m\u001b[0;34m(\u001b[0m\u001b[0;34m\"Using Propensity Score Stratification Estimator\"\u001b[0m\u001b[0;34m)\u001b[0m\u001b[0;34m\u001b[0m\u001b[0;34m\u001b[0m\u001b[0m\n",
      "\u001b[0;32m~/virtualenv_spark-12ac8acf823d42899e0c86032c97f840_0/lib/python3.7/site-packages/dowhy/causal_estimators/propensity_score_estimator.py\u001b[0m in \u001b[0;36m__init__\u001b[0;34m(self, propensity_score_model, recalculate_propensity_score, propensity_score_column, *args, **kwargs)\u001b[0m\n\u001b[1;32m     69\u001b[0m             \u001b[0merror_msg\u001b[0m \u001b[0;34m=\u001b[0m \u001b[0;34m\"No common causes/confounders present. Propensity score based methods are not applicable\"\u001b[0m\u001b[0;34m\u001b[0m\u001b[0;34m\u001b[0m\u001b[0m\n\u001b[1;32m     70\u001b[0m             \u001b[0mself\u001b[0m\u001b[0;34m.\u001b[0m\u001b[0mlogger\u001b[0m\u001b[0;34m.\u001b[0m\u001b[0merror\u001b[0m\u001b[0;34m(\u001b[0m\u001b[0merror_msg\u001b[0m\u001b[0;34m)\u001b[0m\u001b[0;34m\u001b[0m\u001b[0;34m\u001b[0m\u001b[0m\n\u001b[0;32m---> 71\u001b[0;31m             \u001b[0;32mraise\u001b[0m \u001b[0mException\u001b[0m\u001b[0;34m(\u001b[0m\u001b[0merror_msg\u001b[0m\u001b[0;34m)\u001b[0m\u001b[0;34m\u001b[0m\u001b[0;34m\u001b[0m\u001b[0m\n\u001b[0m\u001b[1;32m     72\u001b[0m \u001b[0;34m\u001b[0m\u001b[0m\n\u001b[1;32m     73\u001b[0m     \u001b[0;32mdef\u001b[0m \u001b[0m_refresh_propensity_score\u001b[0m\u001b[0;34m(\u001b[0m\u001b[0mself\u001b[0m\u001b[0;34m)\u001b[0m\u001b[0;34m:\u001b[0m\u001b[0;34m\u001b[0m\u001b[0;34m\u001b[0m\u001b[0m\n",
      "\u001b[0;31mException\u001b[0m: No common causes/confounders present. Propensity score based methods are not applicable"
     ]
    }
   ],
   "source": [
    "causal_estimate = model.estimate_effect(identified_estimand,method_name=\"backdoor.propensity_score_stratification\")\n",
    "print(causal_estimate)"
   ]
  },
  {
   "cell_type": "code",
   "execution_count": null,
   "metadata": {},
   "outputs": [],
   "source": []
  }
 ],
 "metadata": {
  "kernelspec": {
   "display_name": "PySpark (Kubernetes)",
   "language": "python",
   "name": "spark_python_kubernetes"
  },
  "language_info": {
   "codemirror_mode": {
    "name": "ipython",
    "version": 3
   },
   "file_extension": ".py",
   "mimetype": "text/x-python",
   "name": "python",
   "nbconvert_exporter": "python",
   "pygments_lexer": "ipython3",
   "version": "3.7.10"
  }
 },
 "nbformat": 4,
 "nbformat_minor": 4
}
