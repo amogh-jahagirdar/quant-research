{
 "cells": [
  {
   "cell_type": "code",
   "execution_count": 1,
   "id": "52f0683d-273b-400f-99c5-22a5b251288d",
   "metadata": {
    "execution": {
     "iopub.execute_input": "2023-01-28T17:59:52.674384Z",
     "iopub.status.busy": "2023-01-28T17:59:52.673870Z",
     "iopub.status.idle": "2023-01-28T18:00:07.325976Z",
     "shell.execute_reply": "2023-01-28T18:00:07.325887Z",
     "shell.execute_reply.started": "2023-01-28 17:59:52.680575+00:00"
    },
    "tags": []
   },
   "outputs": [
    {
     "name": "stderr",
     "output_type": "stream",
     "text": [
      "[I 2023-01-28 17:59:52,680.680 configure_magic] Magic cell payload received: {\"conf\": {\"spark.pyspark.python\": \"python3\", \"spark.pyspark.virtualenv.enabled\": \"true\", \"spark.pyspark.virtualenv.type\": \"native\", \"spark.pyspark.virtualenv.bin.path\": \"/usr/bin/virtualenv\", \"spark.sql.execution.arrow.enabled\": \"true\"}, \"proxyUser\": \"assumed-role_fdp_blitvin-Isengard\"}\n",
      "\n",
      "[I 2023-01-28 17:59:52,680.680 configure_magic] Sending request to update kernel. Please wait while the kernel will be refreshed.\n"
     ]
    },
    {
     "name": "stdout",
     "output_type": "stream",
     "text": [
      "The kernel is successfully refreshed."
     ]
    }
   ],
   "source": [
    "%%configure -f\n",
    "{ \"conf\":{\n",
    "          \"spark.pyspark.python\": \"python3\",\n",
    "          \"spark.pyspark.virtualenv.enabled\": \"true\",\n",
    "          \"spark.pyspark.virtualenv.type\":\"native\",\n",
    "          \"spark.pyspark.virtualenv.bin.path\":\"/usr/bin/virtualenv\",\n",
    "          \"spark.sql.execution.arrow.enabled\":\"true\"\n",
    "         }\n",
    "}"
   ]
  },
  {
   "cell_type": "code",
   "execution_count": null,
   "id": "1ab8a1bd-e038-49e6-a7b8-7aa66e90c24e",
   "metadata": {
    "tags": []
   },
   "outputs": [],
   "source": []
  },
  {
   "cell_type": "code",
   "execution_count": null,
   "id": "3b1a13f6-a7a6-4999-bffd-0a4190e5ba02",
   "metadata": {
    "tags": []
   },
   "outputs": [],
   "source": []
  },
  {
   "cell_type": "code",
   "execution_count": 3,
   "id": "e27b0e40",
   "metadata": {
    "execution": {
     "iopub.execute_input": "2023-01-28T18:45:54.764908Z",
     "iopub.status.busy": "2023-01-28T18:45:54.764494Z",
     "iopub.status.idle": "2023-01-28T18:45:54.902865Z",
     "shell.execute_reply": "2023-01-28T18:45:54.902075Z",
     "shell.execute_reply.started": "2023-01-28T18:45:54.764877Z"
    },
    "tags": []
   },
   "outputs": [],
   "source": [
    "import pyEX as p\n",
    "import requests\n",
    "import json\n",
    "import pandas as pd\n",
    "import numpy as np\n",
    "#import vectorbt as vbt\n",
    "import matplotlib.pyplot as plt \n",
    "import itertools \n",
    "import datetime \n",
    "import awswrangler as wr\n",
    "import vectorbt as vbt\n",
    "import pyspark.sql.functions as py_f\n",
    "import pyspark.sql.types as py_t\n",
    "isSandbox = False\n",
    "if isSandbox:\n",
    "    token ='Tpk_02dcd2036e7641b880dd4cbb01fa9c67'\n",
    "    iex_ver = 'sandbox'\n",
    "else:\n",
    "    #token ='pk_2e94555e43da4135a6032433c6b18fa5'\n",
    "    token ='pk_79d147436c1349f3abbec37591323e52'\n",
    "    iex_ver = 'stable'\n",
    "pyEX_cl = p.Client(api_token=token)\n",
    "timeframe='max'"
   ]
  },
  {
   "cell_type": "code",
   "execution_count": 4,
   "id": "92276f70",
   "metadata": {
    "execution": {
     "iopub.execute_input": "2023-01-28T18:45:55.540001Z",
     "iopub.status.busy": "2023-01-28T18:45:55.539576Z",
     "iopub.status.idle": "2023-01-28T18:45:55.548313Z",
     "shell.execute_reply": "2023-01-28T18:45:55.547570Z",
     "shell.execute_reply.started": "2023-01-28T18:45:55.539970Z"
    },
    "tags": []
   },
   "outputs": [],
   "source": [
    "if False:\n",
    "    fx_etf_symbols = ['FXA','FXY','FXE','FXB','UUP','FXC','FXF',]\n",
    "    bitcoin_etf_symbols = ['BITO']\n",
    "    commod_etf_symbols = ['USO','GLD','DBA','DBB','SLV',]\n",
    "    fi_etf_symbols = ['IAGG','AGG','IHY','EMLC','HYG',]\n",
    "    equity_etf_symbols = ['AMJ','AMLP','ARKF','ARKG','ARKK','ARKQ','ARKW','BOTZ','BUG','CGW','CIBR','COPX','CRBN','DRIV','EFV','EMLP','FBT','FDN','FIVG',\n",
    "    'FIW','FTXG','GDX','GNR','GUNR','HACK','IAT','IBB','ICLN','IEO','IFRA','IGE','IGF','IGM','IGV','IHF','IHI','ITB','ITZ','IWD','IWN','IWS','IYT','JETS','KBWB',\n",
    "                          'KOMP','KRE','KWEB','LCTU','LIT','MLPA',\n",
    "    'MLPX','MOO','NFRA','OIH','PABU','PAVE','PBW','PEJ','PHO','PICK','PPA','QCLN','REET','REMX','ROBO','SCHH','SIL','SKYY','SMH','SOXX','SRVR','TAN','URA','URNM',\n",
    "                          'VUG','XAR','XBI','XHB','XME','XOP','XSD','QQQ','EWZ','AAXJ','VTI','EWJ','EWA','EWC','MCHI','EWU','EWQ','EWG','FM','EIS']\n",
    "    sectors = ['XLC','XLY','XLP','XLE','XLF','XLV','XLI','XLB','XLRE','XLK','XLU']\n",
    "    bench_symbol=['SPY','QQQ','IVV']\n",
    "    all_symbols =fx_etf_symbols+bitcoin_etf_symbols+commod_etf_symbols+fi_etf_symbols+equity_etf_symbols+bench_symbol+sectors\n",
    "    #all_symbols\n",
    "    columns_to_capture = ['close','open','symbol']\n",
    "    data_folder = 's3://fsidatalake/eod_market_data/etf_trend_following/'\n",
    "    parquet_file_out =f\"{data_folder}/etf_market_data.parquet\""
   ]
  },
  {
   "cell_type": "code",
   "execution_count": 37,
   "id": "41134075-356c-44a9-ae3b-dcdee35059ab",
   "metadata": {
    "execution": {
     "iopub.execute_input": "2023-01-28T19:05:18.016777Z",
     "iopub.status.busy": "2023-01-28T19:05:18.016355Z",
     "iopub.status.idle": "2023-01-28T19:05:18.873286Z",
     "shell.execute_reply": "2023-01-28T19:05:18.872532Z",
     "shell.execute_reply.started": "2023-01-28T19:05:18.016744Z"
    },
    "tags": []
   },
   "outputs": [
    {
     "name": "stdout",
     "output_type": "stream",
     "text": [
      "https://cloud.iexapis.com/stable/stock/SPY/chart/1mm?token=pk_79d147436c1349f3abbec37591323e52&chartIEXOnly=true\n"
     ]
    },
    {
     "data": {
      "text/html": [
       "<div>\n",
       "<style scoped>\n",
       "    .dataframe tbody tr th:only-of-type {\n",
       "        vertical-align: middle;\n",
       "    }\n",
       "\n",
       "    .dataframe tbody tr th {\n",
       "        vertical-align: top;\n",
       "    }\n",
       "\n",
       "    .dataframe thead th {\n",
       "        text-align: right;\n",
       "    }\n",
       "</style>\n",
       "<table border=\"1\" class=\"dataframe\">\n",
       "  <thead>\n",
       "    <tr style=\"text-align: right;\">\n",
       "      <th></th>\n",
       "      <th>date</th>\n",
       "      <th>minute</th>\n",
       "      <th>close</th>\n",
       "      <th>open</th>\n",
       "      <th>high</th>\n",
       "      <th>low</th>\n",
       "      <th>symbol</th>\n",
       "    </tr>\n",
       "  </thead>\n",
       "  <tbody>\n",
       "    <tr>\n",
       "      <th>0</th>\n",
       "      <td>2022-12-29</td>\n",
       "      <td>09:30</td>\n",
       "      <td>381.755</td>\n",
       "      <td>379.670</td>\n",
       "      <td>381.770</td>\n",
       "      <td>379.120</td>\n",
       "      <td>SPY</td>\n",
       "    </tr>\n",
       "    <tr>\n",
       "      <th>1</th>\n",
       "      <td>2022-12-29</td>\n",
       "      <td>10:00</td>\n",
       "      <td>382.230</td>\n",
       "      <td>381.720</td>\n",
       "      <td>382.885</td>\n",
       "      <td>381.395</td>\n",
       "      <td>SPY</td>\n",
       "    </tr>\n",
       "    <tr>\n",
       "      <th>2</th>\n",
       "      <td>2022-12-29</td>\n",
       "      <td>10:30</td>\n",
       "      <td>383.200</td>\n",
       "      <td>382.630</td>\n",
       "      <td>383.220</td>\n",
       "      <td>382.420</td>\n",
       "      <td>SPY</td>\n",
       "    </tr>\n",
       "    <tr>\n",
       "      <th>3</th>\n",
       "      <td>2022-12-29</td>\n",
       "      <td>11:00</td>\n",
       "      <td>382.840</td>\n",
       "      <td>383.100</td>\n",
       "      <td>383.200</td>\n",
       "      <td>382.275</td>\n",
       "      <td>SPY</td>\n",
       "    </tr>\n",
       "    <tr>\n",
       "      <th>4</th>\n",
       "      <td>2022-12-29</td>\n",
       "      <td>11:30</td>\n",
       "      <td>383.925</td>\n",
       "      <td>382.860</td>\n",
       "      <td>384.230</td>\n",
       "      <td>382.860</td>\n",
       "      <td>SPY</td>\n",
       "    </tr>\n",
       "    <tr>\n",
       "      <th>...</th>\n",
       "      <td>...</td>\n",
       "      <td>...</td>\n",
       "      <td>...</td>\n",
       "      <td>...</td>\n",
       "      <td>...</td>\n",
       "      <td>...</td>\n",
       "      <td>...</td>\n",
       "    </tr>\n",
       "    <tr>\n",
       "      <th>253</th>\n",
       "      <td>2023-01-27</td>\n",
       "      <td>13:30</td>\n",
       "      <td>406.420</td>\n",
       "      <td>406.100</td>\n",
       "      <td>406.535</td>\n",
       "      <td>406.025</td>\n",
       "      <td>SPY</td>\n",
       "    </tr>\n",
       "    <tr>\n",
       "      <th>254</th>\n",
       "      <td>2023-01-27</td>\n",
       "      <td>14:00</td>\n",
       "      <td>407.060</td>\n",
       "      <td>406.375</td>\n",
       "      <td>407.165</td>\n",
       "      <td>406.290</td>\n",
       "      <td>SPY</td>\n",
       "    </tr>\n",
       "    <tr>\n",
       "      <th>255</th>\n",
       "      <td>2023-01-27</td>\n",
       "      <td>14:30</td>\n",
       "      <td>407.440</td>\n",
       "      <td>407.145</td>\n",
       "      <td>407.580</td>\n",
       "      <td>406.930</td>\n",
       "      <td>SPY</td>\n",
       "    </tr>\n",
       "    <tr>\n",
       "      <th>256</th>\n",
       "      <td>2023-01-27</td>\n",
       "      <td>15:00</td>\n",
       "      <td>407.530</td>\n",
       "      <td>407.535</td>\n",
       "      <td>408.145</td>\n",
       "      <td>407.070</td>\n",
       "      <td>SPY</td>\n",
       "    </tr>\n",
       "    <tr>\n",
       "      <th>257</th>\n",
       "      <td>2023-01-27</td>\n",
       "      <td>15:30</td>\n",
       "      <td>405.710</td>\n",
       "      <td>407.620</td>\n",
       "      <td>407.870</td>\n",
       "      <td>405.665</td>\n",
       "      <td>SPY</td>\n",
       "    </tr>\n",
       "  </tbody>\n",
       "</table>\n",
       "<p>258 rows × 7 columns</p>\n",
       "</div>"
      ],
      "text/plain": [
       "          date minute    close     open     high      low symbol\n",
       "0   2022-12-29  09:30  381.755  379.670  381.770  379.120    SPY\n",
       "1   2022-12-29  10:00  382.230  381.720  382.885  381.395    SPY\n",
       "2   2022-12-29  10:30  383.200  382.630  383.220  382.420    SPY\n",
       "3   2022-12-29  11:00  382.840  383.100  383.200  382.275    SPY\n",
       "4   2022-12-29  11:30  383.925  382.860  384.230  382.860    SPY\n",
       "..         ...    ...      ...      ...      ...      ...    ...\n",
       "253 2023-01-27  13:30  406.420  406.100  406.535  406.025    SPY\n",
       "254 2023-01-27  14:00  407.060  406.375  407.165  406.290    SPY\n",
       "255 2023-01-27  14:30  407.440  407.145  407.580  406.930    SPY\n",
       "256 2023-01-27  15:00  407.530  407.535  408.145  407.070    SPY\n",
       "257 2023-01-27  15:30  405.710  407.620  407.870  405.665    SPY\n",
       "\n",
       "[258 rows x 7 columns]"
      ]
     },
     "execution_count": 37,
     "metadata": {},
     "output_type": "execute_result"
    }
   ],
   "source": [
    "syms=pd.DataFrame([{'symbol':'SPY'}])\n",
    "get_new_data_df(syms)\n"
   ]
  },
  {
   "cell_type": "code",
   "execution_count": null,
   "id": "eeed7ed0-7469-4eff-adf8-a977554f97ca",
   "metadata": {
    "execution": {
     "iopub.execute_input": "2023-01-28T19:15:24.255116Z",
     "iopub.status.busy": "2023-01-28T19:15:24.254707Z"
    },
    "tags": []
   },
   "outputs": [],
   "source": [
    "#@py_f.pandas_udf(\"date timestamp, close double, open double, symbol string\", py_f.PandasUDFType.GROUPED_MAP)\n",
    "#@py_f.pandas_udf(\"symbol string\", py_f.PandasUDFType.GROUPED_MAP)\n",
    "def get_new_data_df(symbol):\n",
    "    local_sym=str(symbol.values[0][0])\n",
    "    try:\n",
    "        hwm_l=highwatermark_pd_bc.value\n",
    "        columns_to_capture=columns_to_capture_bc.value\n",
    "        iex_base_url=iex_base_url_bc.value\n",
    "        sym_pd = hwm_l.query(f\"symbol=='{local_sym}'\")\n",
    "        if len(sym_pd)>0:\n",
    "            max_date = sym_pd['max_date'].iloc[0]\n",
    "        else:\n",
    "            max_date = datetime.datetime.now()-datetime.timedelta(days=365*50)\n",
    "        last_days=(datetime.datetime.now()-max_date).days\n",
    "\n",
    "        pyEX_cl = p.Client(api_token=iex_token_bc.value)\n",
    "        final_url = iex_base_url.format(local_sym,iex_token_bc.value,int(last_days))\n",
    "        #'https://cloud.iexapis.com/stable/stock/{}/chart/max?token={}&chartIEXOnly=true&chartLast={}'\n",
    "        print(final_url)\n",
    "        res = requests.get(final_url)\n",
    "        ret_pd = pd.DataFrame(json.loads(res.text))#[columns_to_capture]\n",
    "        ret_pd=ret_pd.query(f\"date>'{max_date.strftime('%Y-%m-%d')}'\")\n",
    "        ret_pd['date']=pd.to_datetime(ret_pd['date'])\n",
    "        ret_pd['symbol']=local_sym\n",
    "        #return(ret_pd[columns_to_capture].query(f\"date>'{max_date}'\"))\n",
    "    except:\n",
    "        ret_pd=pd.DataFrame([{'date': datetime.datetime.now()-datetime.timedelta(days=365*50),\n",
    "                              'minute':None,\n",
    "                              'close': None, \n",
    "                              'open': None, \n",
    "                              'high': None, \n",
    "                              'low': None, \n",
    "                              'symbol': local_sym}])\n",
    "    #return(ret_pd[columns_to_capture],max_date,hwm_l,local_sym,sym_pd)\n",
    "    return(ret_pd[columns_to_capture])\n",
    "    #return(pd.DataFrame([res.text],columns=['symbol']))\n",
    "    \n",
    "class MarketDataGateway():\n",
    "    def __init__(self,isSandbox=False):\n",
    "        self.fx_etf_symbols = ['FXA','FXY','FXE','FXB','UUP','FXC','FXF',]\n",
    "        self.bitcoin_etf_symbols = ['BITO','BTF','XBTF','BITS','GBTC','BITW','BLOK','BLCN','LEGR','SPBC','BITQ','BKCH','DAPP','BTCFX']\n",
    "        self.bitcoin_equity_proxy_symbols = ['COIN','MSTR']\n",
    "        self.crypto_mining_symbols = ['RIOT','CAN','HUT','HIVE','MARA','BTCM','BTBT','BITF']\n",
    "        self.commod_etf_symbols = ['USO','GLD','DBA','DBB','SLV',]\n",
    "        self.fi_etf_symbols = ['IAGG','AGG','IHY','EMLC','HYG',]\n",
    "        self.equity_etf_symbols = ['AMJ','AMLP','ARKF','ARKG','ARKK','ARKQ','ARKW','BOTZ','BUG','CGW','CIBR','COPX','CRBN','DRIV','EFV','EMLP','FBT','FDN','FIVG',\n",
    "                'FIW','FTXG','GDX','GNR','GUNR','HACK','IAT','IBB','ICLN','IEO','IFRA','IGE','IGF','IGM','IGV','IHF','IHI','ITB','ITZ','IWD','IWN','IWS','IYT','JETS','KBWB',\n",
    "                      'KOMP','KRE','KWEB','LCTU','LIT','MLPA',\n",
    "                    'MLPX','MOO','NFRA','OIH','PABU','PAVE','PBW','PEJ','PHO','PICK','PPA','QCLN','REET','REMX','ROBO','SCHH','SIL','SKYY','SMH','SOXX','SRVR','TAN','URA','URNM',\n",
    "                      'VUG','XAR','XBI','XHB','XME','XOP','XSD','QQQ','EWZ','AAXJ','VTI','EWJ','EWA','EWC','MCHI','EWU','EWQ','EWG','FM','EIS']\n",
    "        self.sectors = ['XLC','XLY','XLP','XLE','XLF','XLV','XLI','XLB','XLRE','XLK','XLU']\n",
    "        self.bench_symbol=['SPY','QQQ','IVV']\n",
    "        self.all_symbols =self.fx_etf_symbols+\\\n",
    "                            self.bitcoin_etf_symbols+\\\n",
    "                            self.commod_etf_symbols+\\\n",
    "                            self.bitcoin_equity_proxy_symbols+\\\n",
    "                            self.crypto_mining_symbols+\\\n",
    "                            self.fi_etf_symbols+\\\n",
    "                            self.equity_etf_symbols+\\\n",
    "                            self.bench_symbol+\\\n",
    "                            self.sectors\n",
    "        self.all_symbols_df = spark.createDataFrame(pd.DataFrame(self.all_symbols,columns=['symbol']))\n",
    "        #all_symbols\n",
    "        self.columns_to_capture = ['date','minute','close','open','high','low','symbol']\n",
    "        self.data_folder = 's3://fsidatalake/intraday_market_data/'\n",
    "        self.parquet_file_out =f\"{self.data_folder}/OHLC_30m.parquet\"\n",
    "        if isSandbox:\n",
    "            self.iex_token ='Tpk_02dcd2036e7641b880dd4cbb01fa9c67'\n",
    "            self.iex_ver = 'sandbox'\n",
    "        else:\n",
    "            #self.iex_token ='pk_2e94555e43da4135a6032433c6b18fa5' pk_79d147436c1349f3abbec37591323e52\n",
    "            self.iex_token ='pk_79d147436c1349f3abbec37591323e52' \n",
    "            self.iex_ver = 'stable'\n",
    "        self.iex_base_url = 'https://cloud.iexapis.com/'+self.iex_ver+'/stock/{}/chart/1mm?token={}&chartIEXOnly=true'\n",
    "        \n",
    "    def set_highwatermarks(self):\n",
    "        try:\n",
    "            self.old_df = spark.read.parquet(self.parquet_file_out)\n",
    "        except:\n",
    "            #self.old_df = spark.createDataFrame(pd.DataFrame([{'symbol':'----','date':datetime.datetime.now()-datetime.timedelta(days=365*50)}]))\n",
    "            self.old_pd=self.all_symbols_df.toPandas()\n",
    "            self.old_pd['date']=datetime.datetime.now()-datetime.timedelta(days=365*50)\n",
    "            self.old_df= spark.createDataFrame(self.old_pd)\n",
    "        self.highwatermark_pd = self.old_df.groupby('symbol').agg(py_f.max(\"date\").alias(\"max_date\"),\n",
    "                             py_f.min(\"date\").alias(\"min_date\"),\n",
    "                             (py_f.max(\"date\")-py_f.min(\"date\")).alias(\"date_length\")\n",
    "                            ).toPandas()\n",
    "    def set_new_symbol_df(self):\n",
    "        self.new_sym_df=self.all_symbols_df.groupby(\"symbol\")\\\n",
    "                        .applyInPandas(get_new_data_df, schema=\"date timestamp,minute string, close double, open double, high double,low double ,symbol string\")\\\n",
    "                        .where('close is not null')\n",
    "    def write_new_symbol_df(self):\n",
    "        self.write_stats=self.new_sym_df.groupby('symbol').agg(py_f.count('symbol').alias('data_count'))\n",
    "        self.new_sym_df.write\\\n",
    "            .option(\"header\",True)\\\n",
    "            .partitionBy('symbol')\\\n",
    "            .mode(\"append\")\\\n",
    "            .parquet(self.parquet_file_out)\n",
    "    def rewrite_if_dups(self):\n",
    "        self.old_df_after_write = spark.read.parquet(self.parquet_file_out)\n",
    "        self.dup_df = self.old_df_after_write.distinct().groupby('date','symbol').count()\n",
    "        dup_count=self.dup_df.where('count>1').count()\n",
    "        if dup_count>0:        \n",
    "            print(f\"found:{dup_count} dups; sample:{self.dup_df.show()}\")\n",
    "            self.old_df_after_write.groupby('date','symbol').agg(py_f.mean('close').alias('close'),py_f.mean('open').alias('open'))\\\n",
    "            .write\\\n",
    "            .option(\"header\",True)\\\n",
    "            .partitionBy('symbol')\\\n",
    "            .mode(\"overwrite\")\\\n",
    "            .parquet(self.parquet_file_out.replace('.parquet','_temp.parquet'))\n",
    "        else:\n",
    "            print(f\"no dups\")\n",
    "        \n",
    "\n",
    "mdg=MarketDataGateway()\n",
    "mdg.set_highwatermarks()\n",
    "# set bc vars\n",
    "highwatermark_pd_bc =sc.broadcast(mdg.highwatermark_pd)\n",
    "columns_to_capture_bc =sc.broadcast(mdg.columns_to_capture)\n",
    "iex_token_bc =sc.broadcast(mdg.iex_token)\n",
    "iex_base_url_bc =sc.broadcast(mdg.iex_base_url)\n",
    "# set bc vars\n",
    "mdg.set_new_symbol_df()\n",
    "mdg.write_new_symbol_df()\n",
    "print(mdg.write_stats.toPandas().sort_values(['symbol']))\n",
    "#mdg.rewrite_if_dups()"
   ]
  },
  {
   "cell_type": "code",
   "execution_count": 46,
   "id": "bfecb398-68e1-4367-8a4f-e82486f4ed3f",
   "metadata": {
    "execution": {
     "iopub.execute_input": "2023-01-28T19:12:05.388751Z",
     "iopub.status.busy": "2023-01-28T19:12:05.388303Z",
     "iopub.status.idle": "2023-01-28T19:12:05.403187Z",
     "shell.execute_reply": "2023-01-28T19:12:05.402091Z",
     "shell.execute_reply.started": "2023-01-28T19:12:05.388723Z"
    },
    "tags": []
   },
   "outputs": [
    {
     "ename": "AttributeError",
     "evalue": "'MarketDataGateway' object has no attribute 'old_df_after_write'",
     "output_type": "error",
     "traceback": [
      "\u001b[0;31m---------------------------------------------------------------------------\u001b[0m",
      "\u001b[0;31mAttributeError\u001b[0m                            Traceback (most recent call last)",
      "\u001b[0;32m/usr/local/bin/kernel-launchers/python/scripts/launch_ipykernel.py\u001b[0m in \u001b[0;36m<module>\u001b[0;34m\u001b[0m\n\u001b[0;32m----> 1\u001b[0;31m \u001b[0mmdg\u001b[0m\u001b[0;34m.\u001b[0m\u001b[0mold_df_after_write\u001b[0m\u001b[0;34m.\u001b[0m\u001b[0mdistinct\u001b[0m\u001b[0;34m(\u001b[0m\u001b[0;34m)\u001b[0m\u001b[0;34m.\u001b[0m\u001b[0mgroupby\u001b[0m\u001b[0;34m(\u001b[0m\u001b[0;34m'date'\u001b[0m\u001b[0;34m,\u001b[0m\u001b[0;34m'minute'\u001b[0m\u001b[0;34m,\u001b[0m\u001b[0;34m'symbol'\u001b[0m\u001b[0;34m)\u001b[0m\u001b[0;34m.\u001b[0m\u001b[0mcount\u001b[0m\u001b[0;34m(\u001b[0m\u001b[0;34m)\u001b[0m\u001b[0;34m.\u001b[0m\u001b[0mwhere\u001b[0m\u001b[0;34m(\u001b[0m\u001b[0;34m'count>1'\u001b[0m\u001b[0;34m)\u001b[0m\u001b[0;34m.\u001b[0m\u001b[0mcount\u001b[0m\u001b[0;34m(\u001b[0m\u001b[0;34m)\u001b[0m\u001b[0;31m#.orderBy(['count','symbol'],ascending=False).show()\u001b[0m\u001b[0;34m\u001b[0m\u001b[0;34m\u001b[0m\u001b[0m\n\u001b[0m",
      "\u001b[0;31mAttributeError\u001b[0m: 'MarketDataGateway' object has no attribute 'old_df_after_write'"
     ]
    }
   ],
   "source": [
    "mdg.old_df_after_write.distinct().groupby('date','minute','symbol').count().where('count>1').count()#.orderBy(['count','symbol'],ascending=False).show()"
   ]
  },
  {
   "cell_type": "code",
   "execution_count": 47,
   "id": "9711086d-f0e5-44bd-b32b-548816b9c6d8",
   "metadata": {
    "execution": {
     "iopub.execute_input": "2023-01-28T19:12:07.764813Z",
     "iopub.status.busy": "2023-01-28T19:12:07.764366Z",
     "iopub.status.idle": "2023-01-28T19:13:22.190061Z",
     "shell.execute_reply": "2023-01-28T19:13:22.188715Z",
     "shell.execute_reply.started": "2023-01-28T19:12:07.764783Z"
    },
    "tags": []
   },
   "outputs": [
    {
     "name": "stdout",
     "output_type": "stream",
     "text": [
      "+------+----------+\n",
      "|symbol|data_count|\n",
      "+------+----------+\n",
      "|   XLI|       245|\n",
      "|  PAVE|       134|\n",
      "|   EFV|       233|\n",
      "|   IWN|       169|\n",
      "|  ARKG|       204|\n",
      "|   SIL|       157|\n",
      "|  GUNR|       199|\n",
      "|  MLPX|        32|\n",
      "|   EIS|        16|\n",
      "|  EMLC|       209|\n",
      "|   SPY|       256|\n",
      "|   XSD|        43|\n",
      "|  ICLN|       247|\n",
      "|   LIT|       218|\n",
      "|  BITQ|        29|\n",
      "|  BITS|         3|\n",
      "|   XLK|       252|\n",
      "|   CGW|        69|\n",
      "|  PICK|       190|\n",
      "|  BLCN|        45|\n",
      "+------+----------+\n",
      "only showing top 20 rows\n",
      "\n"
     ]
    }
   ],
   "source": [
    "mdg.new_sym_df.groupby('symbol').agg(py_f.count('symbol').alias('data_count')).show()"
   ]
  },
  {
   "cell_type": "code",
   "execution_count": null,
   "id": "fb2d50bd-5ddd-4cd4-a3fb-e6d73d1ea364",
   "metadata": {
    "execution": {
     "iopub.status.busy": "2023-01-28T19:05:02.596412Z",
     "iopub.status.idle": "2023-01-28T19:05:02.596841Z",
     "shell.execute_reply": "2023-01-28T19:05:02.596672Z",
     "shell.execute_reply.started": "2023-01-28T19:05:02.596656Z"
    },
    "tags": []
   },
   "outputs": [],
   "source": [
    "#lpd=mdg.highwatermark_pd\n",
    "#sym='abc'\n",
    "#sym_pd = lpd.query(f\"symbol=='{sym}'\")['max_date']\n",
    "#if len(sym_pd)>0:\n",
    "#    max_date = lpd.query(f\"symbol=='{sym}'\")['max_date'].iloc[0]\n",
    "#else:\n",
    "#    max_date = datetime.datetime.now()-datetime.timedelta(days=365*50)\n",
    "#last_days=(datetime.datetime.now()-max_date).days\n",
    "#res_pd = pyEX_cl.chartDF(symbol=sym, timeframe=timeframe,last=last_days).query(f\"date>'{(max_date)}'\")\n",
    "res_pd.query(f\"date>'{max_date.strftime('%Y-%m-%d')}'\")"
   ]
  },
  {
   "cell_type": "code",
   "execution_count": 12,
   "id": "45a5624c-5627-43ab-834c-0bad2aba28d2",
   "metadata": {
    "execution": {
     "iopub.execute_input": "2023-01-28T18:49:58.812132Z",
     "iopub.status.busy": "2023-01-28T18:49:58.811686Z",
     "iopub.status.idle": "2023-01-28T18:49:58.904262Z",
     "shell.execute_reply": "2023-01-28T18:49:58.903350Z",
     "shell.execute_reply.started": "2023-01-28T18:49:58.812102Z"
    },
    "tags": []
   },
   "outputs": [
    {
     "data": {
      "text/html": [
       "<div>\n",
       "<style scoped>\n",
       "    .dataframe tbody tr th:only-of-type {\n",
       "        vertical-align: middle;\n",
       "    }\n",
       "\n",
       "    .dataframe tbody tr th {\n",
       "        vertical-align: top;\n",
       "    }\n",
       "\n",
       "    .dataframe thead th {\n",
       "        text-align: right;\n",
       "    }\n",
       "</style>\n",
       "<table border=\"1\" class=\"dataframe\">\n",
       "  <thead>\n",
       "    <tr style=\"text-align: right;\">\n",
       "      <th></th>\n",
       "      <th>symbol</th>\n",
       "    </tr>\n",
       "  </thead>\n",
       "  <tbody>\n",
       "    <tr>\n",
       "      <th>0</th>\n",
       "      <td>FXA</td>\n",
       "    </tr>\n",
       "    <tr>\n",
       "      <th>1</th>\n",
       "      <td>FXY</td>\n",
       "    </tr>\n",
       "    <tr>\n",
       "      <th>2</th>\n",
       "      <td>FXE</td>\n",
       "    </tr>\n",
       "    <tr>\n",
       "      <th>3</th>\n",
       "      <td>FXB</td>\n",
       "    </tr>\n",
       "    <tr>\n",
       "      <th>4</th>\n",
       "      <td>UUP</td>\n",
       "    </tr>\n",
       "    <tr>\n",
       "      <th>...</th>\n",
       "      <td>...</td>\n",
       "    </tr>\n",
       "    <tr>\n",
       "      <th>144</th>\n",
       "      <td>XLI</td>\n",
       "    </tr>\n",
       "    <tr>\n",
       "      <th>145</th>\n",
       "      <td>XLB</td>\n",
       "    </tr>\n",
       "    <tr>\n",
       "      <th>146</th>\n",
       "      <td>XLRE</td>\n",
       "    </tr>\n",
       "    <tr>\n",
       "      <th>147</th>\n",
       "      <td>XLK</td>\n",
       "    </tr>\n",
       "    <tr>\n",
       "      <th>148</th>\n",
       "      <td>XLU</td>\n",
       "    </tr>\n",
       "  </tbody>\n",
       "</table>\n",
       "<p>149 rows × 1 columns</p>\n",
       "</div>"
      ],
      "text/plain": [
       "    symbol\n",
       "0      FXA\n",
       "1      FXY\n",
       "2      FXE\n",
       "3      FXB\n",
       "4      UUP\n",
       "..     ...\n",
       "144    XLI\n",
       "145    XLB\n",
       "146   XLRE\n",
       "147    XLK\n",
       "148    XLU\n",
       "\n",
       "[149 rows x 1 columns]"
      ]
     },
     "execution_count": 12,
     "metadata": {},
     "output_type": "execute_result"
    }
   ],
   "source": [
    "#pd.DataFrame([{'symbol':'----','date':datetime.datetime.now()-datetime.timedelta(days=365*50)}])\n",
    "\n",
    "mdg.all_symbols_df.toPandas()"
   ]
  },
  {
   "cell_type": "code",
   "execution_count": null,
   "id": "9c2c739a-81cf-4989-9263-7af0f517695a",
   "metadata": {
    "execution": {
     "iopub.status.busy": "2023-01-28T18:46:19.567505Z",
     "iopub.status.idle": "2023-01-28T18:46:19.567893Z",
     "shell.execute_reply": "2023-01-28T18:46:19.567745Z",
     "shell.execute_reply.started": "2023-01-28T18:46:19.567729Z"
    },
    "tags": []
   },
   "outputs": [],
   "source": [
    "\n",
    "#base_url = 'https://cloud.iexapis.com/stable/stock/{}/chart/max?token={}&chartIEXOnly=true&chartLast={}'\n",
    "#headers = {\n",
    "#      'content-type': \"application/json\"\n",
    "#  }\n",
    "\n",
    "res = requests.get(base_url)\n",
    "pd.DataFrame(json.loads(res.text))\n"
   ]
  },
  {
   "cell_type": "code",
   "execution_count": null,
   "id": "24520251-97d6-492a-9fac-9475504d47c5",
   "metadata": {
    "execution": {
     "iopub.status.busy": "2023-01-28T18:46:19.569221Z",
     "iopub.status.idle": "2023-01-28T18:46:19.569607Z",
     "shell.execute_reply": "2023-01-28T18:46:19.569462Z",
     "shell.execute_reply.started": "2023-01-28T18:46:19.569445Z"
    },
    "tags": []
   },
   "outputs": [],
   "source": [
    "(max_date-10).strftime('%Y-%m-%d')"
   ]
  },
  {
   "cell_type": "code",
   "execution_count": 6,
   "id": "9d4ea8d3-4797-42e5-9991-c116cb05b642",
   "metadata": {
    "execution": {
     "iopub.execute_input": "2023-01-28T18:46:19.912597Z",
     "iopub.status.busy": "2023-01-28T18:46:19.912128Z",
     "iopub.status.idle": "2023-01-28T18:46:19.926526Z",
     "shell.execute_reply": "2023-01-28T18:46:19.925453Z",
     "shell.execute_reply.started": "2023-01-28T18:46:19.912566Z"
    },
    "tags": []
   },
   "outputs": [
    {
     "ename": "NameError",
     "evalue": "name 'lpd' is not defined",
     "output_type": "error",
     "traceback": [
      "\u001b[0;31m---------------------------------------------------------------------------\u001b[0m",
      "\u001b[0;31mNameError\u001b[0m                                 Traceback (most recent call last)",
      "\u001b[0;32m/usr/local/bin/kernel-launchers/python/scripts/launch_ipykernel.py\u001b[0m in \u001b[0;36m<module>\u001b[0;34m\u001b[0m\n\u001b[0;32m----> 1\u001b[0;31m \u001b[0mlpd\u001b[0m\u001b[0;34m\u001b[0m\u001b[0;34m\u001b[0m\u001b[0m\n\u001b[0m",
      "\u001b[0;31mNameError\u001b[0m: name 'lpd' is not defined"
     ]
    }
   ],
   "source": [
    "lpd"
   ]
  },
  {
   "cell_type": "code",
   "execution_count": null,
   "id": "05ad23ba-bfa8-4a5e-af25-184365c848c4",
   "metadata": {},
   "outputs": [],
   "source": []
  }
 ],
 "metadata": {
  "kernelspec": {
   "display_name": "PySpark (Kubernetes)",
   "language": "python",
   "name": "spark_python_kubernetes"
  },
  "language_info": {
   "codemirror_mode": {
    "name": "ipython",
    "version": 3
   },
   "file_extension": ".py",
   "mimetype": "text/x-python",
   "name": "python",
   "nbconvert_exporter": "python",
   "pygments_lexer": "ipython3",
   "version": "3.7.10"
  }
 },
 "nbformat": 4,
 "nbformat_minor": 5
}
