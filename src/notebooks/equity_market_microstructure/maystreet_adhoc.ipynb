{
 "cells": [
  {
   "cell_type": "code",
   "execution_count": 1,
   "id": "e27b0e40",
   "metadata": {
    "execution": {
     "iopub.execute_input": "2022-08-31T19:42:37.440722Z",
     "iopub.status.busy": "2022-08-31T19:42:37.440347Z",
     "iopub.status.idle": "2022-08-31T19:49:06.547596Z",
     "shell.execute_reply": "2022-08-31T19:49:06.546531Z",
     "shell.execute_reply.started": "2022-08-31T19:42:37.440645Z"
    }
   },
   "outputs": [
    {
     "name": "stdout",
     "output_type": "stream",
     "text": [
      "\u001b[33mWARNING: Retrying (Retry(total=4, connect=None, read=None, redirect=None, status=None)) after connection broken by 'NewConnectionError('<pip._vendor.urllib3.connection.HTTPSConnection object at 0x7f014593d190>: Failed to establish a new connection: [Errno 101] Network is unreachable')': /simple/awswrangler/\u001b[0m\u001b[33m\n",
      "\u001b[0m\u001b[33mWARNING: Retrying (Retry(total=3, connect=None, read=None, redirect=None, status=None)) after connection broken by 'NewConnectionError('<pip._vendor.urllib3.connection.HTTPSConnection object at 0x7f014593d5d0>: Failed to establish a new connection: [Errno 101] Network is unreachable')': /simple/awswrangler/\u001b[0m\u001b[33m\n",
      "\u001b[0m\u001b[33mWARNING: Retrying (Retry(total=2, connect=None, read=None, redirect=None, status=None)) after connection broken by 'NewConnectionError('<pip._vendor.urllib3.connection.HTTPSConnection object at 0x7f014593d810>: Failed to establish a new connection: [Errno 101] Network is unreachable')': /simple/awswrangler/\u001b[0m\u001b[33m\n",
      "\u001b[0m\u001b[33mWARNING: Retrying (Retry(total=1, connect=None, read=None, redirect=None, status=None)) after connection broken by 'NewConnectionError('<pip._vendor.urllib3.connection.HTTPSConnection object at 0x7f014593db10>: Failed to establish a new connection: [Errno 101] Network is unreachable')': /simple/awswrangler/\u001b[0m\u001b[33m\n",
      "\u001b[0m\u001b[33mWARNING: Retrying (Retry(total=0, connect=None, read=None, redirect=None, status=None)) after connection broken by 'NewConnectionError('<pip._vendor.urllib3.connection.HTTPSConnection object at 0x7f0145951110>: Failed to establish a new connection: [Errno 101] Network is unreachable')': /simple/awswrangler/\u001b[0m\u001b[33m\n",
      "\u001b[0m\u001b[31mERROR: Could not find a version that satisfies the requirement awswrangler (from versions: none)\u001b[0m\u001b[31m\n",
      "\u001b[0m\u001b[31mERROR: No matching distribution found for awswrangler\u001b[0m\u001b[31m\n",
      "\u001b[0m\u001b[33mWARNING: There was an error checking the latest version of pip.\u001b[0m\u001b[33m\n",
      "\u001b[0mNote: you may need to restart the kernel to use updated packages.\n"
     ]
    }
   ],
   "source": [
    "pip install awswrangler"
   ]
  },
  {
   "cell_type": "code",
   "execution_count": 2,
   "id": "ddd463cd",
   "metadata": {},
   "outputs": [],
   "source": [
    "import awswrangler as wr"
   ]
  },
  {
   "cell_type": "code",
   "execution_count": 3,
   "id": "a3838f8b",
   "metadata": {},
   "outputs": [],
   "source": [
    "mt_agg_sample_pd = wr.athena.read_sql_query(\"SELECT  *  FROM maystreet_mtnorm.mt_aggregated_price_update LIMIT 100\", database=\"maystreet_mtnorm\")"
   ]
  },
  {
   "cell_type": "code",
   "execution_count": 4,
   "id": "7f75b458",
   "metadata": {},
   "outputs": [
    {
     "data": {
      "text/plain": [
       "Index(['feed', 'firstsequencenumber', 'lastsequencenumber',\n",
       "       'firstproductsequencenumber', 'lastproductsequencenumber',\n",
       "       'marketparticipant', 'product', 'firstreceipttimestamp',\n",
       "       'lastreceipttimestamp', 'firstexchangetimestamp',\n",
       "       'lastexchangetimestamp', 'firstexchangesendtimestamp',\n",
       "       'lastexchangesendtimestamp', 'depthofbooklevel', 'biddepthofbooklevel',\n",
       "       'askdepthofbooklevel', 'isbidupdated', 'isaskupdated', 'tradingstatus',\n",
       "       'bookstatus', 'bidcustomerquantity', 'askcustomerquantity',\n",
       "       'bidprice_1', 'bidquantity_1', 'bidnumorders_1', 'bidprice_2',\n",
       "       'bidquantity_2', 'bidnumorders_2', 'bidprice_3', 'bidquantity_3',\n",
       "       'bidnumorders_3', 'bidprice_4', 'bidquantity_4', 'bidnumorders_4',\n",
       "       'bidprice_5', 'bidquantity_5', 'bidnumorders_5', 'bidprice_6',\n",
       "       'bidquantity_6', 'bidnumorders_6', 'bidprice_7', 'bidquantity_7',\n",
       "       'bidnumorders_7', 'bidprice_8', 'bidquantity_8', 'bidnumorders_8',\n",
       "       'bidprice_9', 'bidquantity_9', 'bidnumorders_9', 'bidprice_10',\n",
       "       'bidquantity_10', 'bidnumorders_10', 'askprice_1', 'askquantity_1',\n",
       "       'asknumorders_1', 'askprice_2', 'askquantity_2', 'asknumorders_2',\n",
       "       'askprice_3', 'askquantity_3', 'asknumorders_3', 'askprice_4',\n",
       "       'askquantity_4', 'asknumorders_4', 'askprice_5', 'askquantity_5',\n",
       "       'asknumorders_5', 'askprice_6', 'askquantity_6', 'asknumorders_6',\n",
       "       'askprice_7', 'askquantity_7', 'asknumorders_7', 'askprice_8',\n",
       "       'askquantity_8', 'asknumorders_8', 'askprice_9', 'askquantity_9',\n",
       "       'asknumorders_9', 'askprice_10', 'askquantity_10', 'asknumorders_10',\n",
       "       'counter', 'ex', 'f', 'y', 'm', 'd', 'dt'],\n",
       "      dtype='object')"
      ]
     },
     "execution_count": 4,
     "metadata": {},
     "output_type": "execute_result"
    }
   ],
   "source": [
    "mt_agg_sample_pd.columns"
   ]
  },
  {
   "cell_type": "code",
   "execution_count": 5,
   "id": "cc04f018",
   "metadata": {},
   "outputs": [
    {
     "name": "stdout",
     "output_type": "stream",
     "text": [
      "a e\n"
     ]
    },
    {
     "ename": "KeyboardInterrupt",
     "evalue": "",
     "output_type": "error",
     "traceback": [
      "\u001b[0;31m---------------------------------------------------------------------------\u001b[0m",
      "\u001b[0;31mKeyboardInterrupt\u001b[0m                         Traceback (most recent call last)",
      "\u001b[0;32m<ipython-input-5-c1d2dcb0c6ee>\u001b[0m in \u001b[0;36m<module>\u001b[0;34m\u001b[0m\n\u001b[1;32m      5\u001b[0m     wr.athena.read_sql_query(f\"select *  from (SELECT  feed,product,count(*) data_count  FROM maystreet_mtnorm.mt_aggregated_price_update \\\n\u001b[1;32m      6\u001b[0m                              group by feed,product order by feed,product ) t \\\n\u001b[0;32m----> 7\u001b[0;31m                              where lower(feed) >= '{l_s}' and lower(feed) < '{l_e}' \", database=\"maystreet_mtnorm\").\\\n\u001b[0m\u001b[1;32m      8\u001b[0m     \u001b[0mto_csv\u001b[0m\u001b[0;34m(\u001b[0m\u001b[0;34mf's3://maystreetdata/analysis/agg_feed_exch_product_{l_s}_{l_e}.csv'\u001b[0m\u001b[0;34m)\u001b[0m\u001b[0;34m\u001b[0m\u001b[0;34m\u001b[0m\u001b[0m\n",
      "\u001b[0;32m~/anaconda3/envs/mxnet_latest_p37/lib/python3.7/site-packages/awswrangler/_config.py\u001b[0m in \u001b[0;36mwrapper\u001b[0;34m(*args_raw, **kwargs)\u001b[0m\n\u001b[1;32m    459\u001b[0m                 \u001b[0;32mdel\u001b[0m \u001b[0margs\u001b[0m\u001b[0;34m[\u001b[0m\u001b[0mname\u001b[0m\u001b[0;34m]\u001b[0m\u001b[0;34m\u001b[0m\u001b[0;34m\u001b[0m\u001b[0m\n\u001b[1;32m    460\u001b[0m                 \u001b[0margs\u001b[0m \u001b[0;34m=\u001b[0m \u001b[0;34m{\u001b[0m\u001b[0;34m**\u001b[0m\u001b[0margs\u001b[0m\u001b[0;34m,\u001b[0m \u001b[0;34m**\u001b[0m\u001b[0mkeywords\u001b[0m\u001b[0;34m}\u001b[0m\u001b[0;34m\u001b[0m\u001b[0;34m\u001b[0m\u001b[0m\n\u001b[0;32m--> 461\u001b[0;31m         \u001b[0;32mreturn\u001b[0m \u001b[0mfunction\u001b[0m\u001b[0;34m(\u001b[0m\u001b[0;34m**\u001b[0m\u001b[0margs\u001b[0m\u001b[0;34m)\u001b[0m\u001b[0;34m\u001b[0m\u001b[0;34m\u001b[0m\u001b[0m\n\u001b[0m\u001b[1;32m    462\u001b[0m \u001b[0;34m\u001b[0m\u001b[0m\n\u001b[1;32m    463\u001b[0m     \u001b[0mwrapper\u001b[0m\u001b[0;34m.\u001b[0m\u001b[0m__doc__\u001b[0m \u001b[0;34m=\u001b[0m \u001b[0m_inject_config_doc\u001b[0m\u001b[0;34m(\u001b[0m\u001b[0mdoc\u001b[0m\u001b[0;34m=\u001b[0m\u001b[0mfunction\u001b[0m\u001b[0;34m.\u001b[0m\u001b[0m__doc__\u001b[0m\u001b[0;34m,\u001b[0m \u001b[0mavailable_configs\u001b[0m\u001b[0;34m=\u001b[0m\u001b[0mavailable_configs\u001b[0m\u001b[0;34m)\u001b[0m\u001b[0;34m\u001b[0m\u001b[0;34m\u001b[0m\u001b[0m\n",
      "\u001b[0;32m~/anaconda3/envs/mxnet_latest_p37/lib/python3.7/site-packages/awswrangler/athena/_read.py\u001b[0m in \u001b[0;36mread_sql_query\u001b[0;34m(sql, database, ctas_approach, unload_approach, unload_parameters, categories, chunksize, s3_output, workgroup, encryption, kms_key, keep_files, ctas_database_name, ctas_temp_table_name, ctas_bucketing_info, use_threads, boto3_session, max_cache_seconds, max_cache_query_inspections, max_remote_cache_entries, max_local_cache_entries, data_source, params, s3_additional_kwargs, pyarrow_additional_kwargs)\u001b[0m\n\u001b[1;32m    871\u001b[0m         \u001b[0ms3_additional_kwargs\u001b[0m\u001b[0;34m=\u001b[0m\u001b[0ms3_additional_kwargs\u001b[0m\u001b[0;34m,\u001b[0m\u001b[0;34m\u001b[0m\u001b[0;34m\u001b[0m\u001b[0m\n\u001b[1;32m    872\u001b[0m         \u001b[0mboto3_session\u001b[0m\u001b[0;34m=\u001b[0m\u001b[0msession\u001b[0m\u001b[0;34m,\u001b[0m\u001b[0;34m\u001b[0m\u001b[0;34m\u001b[0m\u001b[0m\n\u001b[0;32m--> 873\u001b[0;31m         \u001b[0mpyarrow_additional_kwargs\u001b[0m\u001b[0;34m=\u001b[0m\u001b[0mpyarrow_additional_kwargs\u001b[0m\u001b[0;34m,\u001b[0m\u001b[0;34m\u001b[0m\u001b[0;34m\u001b[0m\u001b[0m\n\u001b[0m\u001b[1;32m    874\u001b[0m     )\n\u001b[1;32m    875\u001b[0m \u001b[0;34m\u001b[0m\u001b[0m\n",
      "\u001b[0;32m~/anaconda3/envs/mxnet_latest_p37/lib/python3.7/site-packages/awswrangler/athena/_read.py\u001b[0m in \u001b[0;36m_resolve_query_without_cache\u001b[0;34m(sql, database, data_source, ctas_approach, unload_approach, unload_parameters, categories, chunksize, s3_output, workgroup, encryption, kms_key, keep_files, ctas_database_name, ctas_temp_table_name, ctas_bucketing_info, use_threads, s3_additional_kwargs, boto3_session, pyarrow_additional_kwargs)\u001b[0m\n\u001b[1;32m    437\u001b[0m                 \u001b[0ms3_additional_kwargs\u001b[0m\u001b[0;34m=\u001b[0m\u001b[0ms3_additional_kwargs\u001b[0m\u001b[0;34m,\u001b[0m\u001b[0;34m\u001b[0m\u001b[0;34m\u001b[0m\u001b[0m\n\u001b[1;32m    438\u001b[0m                 \u001b[0mboto3_session\u001b[0m\u001b[0;34m=\u001b[0m\u001b[0mboto3_session\u001b[0m\u001b[0;34m,\u001b[0m\u001b[0;34m\u001b[0m\u001b[0;34m\u001b[0m\u001b[0m\n\u001b[0;32m--> 439\u001b[0;31m                 \u001b[0mpyarrow_additional_kwargs\u001b[0m\u001b[0;34m=\u001b[0m\u001b[0mpyarrow_additional_kwargs\u001b[0m\u001b[0;34m,\u001b[0m\u001b[0;34m\u001b[0m\u001b[0;34m\u001b[0m\u001b[0m\n\u001b[0m\u001b[1;32m    440\u001b[0m             )\n\u001b[1;32m    441\u001b[0m         \u001b[0;32mfinally\u001b[0m\u001b[0;34m:\u001b[0m\u001b[0;34m\u001b[0m\u001b[0;34m\u001b[0m\u001b[0m\n",
      "\u001b[0;32m~/anaconda3/envs/mxnet_latest_p37/lib/python3.7/site-packages/awswrangler/athena/_read.py\u001b[0m in \u001b[0;36m_resolve_query_without_cache_ctas\u001b[0;34m(sql, database, data_source, s3_output, keep_files, chunksize, categories, encryption, workgroup, kms_key, alt_database, name, ctas_bucketing_info, use_threads, s3_additional_kwargs, boto3_session, pyarrow_additional_kwargs)\u001b[0m\n\u001b[1;32m    273\u001b[0m         \u001b[0mkms_key\u001b[0m\u001b[0;34m=\u001b[0m\u001b[0mkms_key\u001b[0m\u001b[0;34m,\u001b[0m\u001b[0;34m\u001b[0m\u001b[0;34m\u001b[0m\u001b[0m\n\u001b[1;32m    274\u001b[0m         \u001b[0mwait\u001b[0m\u001b[0;34m=\u001b[0m\u001b[0;32mTrue\u001b[0m\u001b[0;34m,\u001b[0m\u001b[0;34m\u001b[0m\u001b[0;34m\u001b[0m\u001b[0m\n\u001b[0;32m--> 275\u001b[0;31m         \u001b[0mboto3_session\u001b[0m\u001b[0;34m=\u001b[0m\u001b[0mboto3_session\u001b[0m\u001b[0;34m,\u001b[0m\u001b[0;34m\u001b[0m\u001b[0;34m\u001b[0m\u001b[0m\n\u001b[0m\u001b[1;32m    276\u001b[0m     )\n\u001b[1;32m    277\u001b[0m     \u001b[0mfully_qualified_name\u001b[0m\u001b[0;34m:\u001b[0m \u001b[0mstr\u001b[0m \u001b[0;34m=\u001b[0m \u001b[0;34mf'\"{ctas_query_info[\"ctas_database\"]}\".\"{ctas_query_info[\"ctas_table\"]}\"'\u001b[0m\u001b[0;34m\u001b[0m\u001b[0;34m\u001b[0m\u001b[0m\n",
      "\u001b[0;32m~/anaconda3/envs/mxnet_latest_p37/lib/python3.7/site-packages/awswrangler/_config.py\u001b[0m in \u001b[0;36mwrapper\u001b[0;34m(*args_raw, **kwargs)\u001b[0m\n\u001b[1;32m    459\u001b[0m                 \u001b[0;32mdel\u001b[0m \u001b[0margs\u001b[0m\u001b[0;34m[\u001b[0m\u001b[0mname\u001b[0m\u001b[0;34m]\u001b[0m\u001b[0;34m\u001b[0m\u001b[0;34m\u001b[0m\u001b[0m\n\u001b[1;32m    460\u001b[0m                 \u001b[0margs\u001b[0m \u001b[0;34m=\u001b[0m \u001b[0;34m{\u001b[0m\u001b[0;34m**\u001b[0m\u001b[0margs\u001b[0m\u001b[0;34m,\u001b[0m \u001b[0;34m**\u001b[0m\u001b[0mkeywords\u001b[0m\u001b[0;34m}\u001b[0m\u001b[0;34m\u001b[0m\u001b[0;34m\u001b[0m\u001b[0m\n\u001b[0;32m--> 461\u001b[0;31m         \u001b[0;32mreturn\u001b[0m \u001b[0mfunction\u001b[0m\u001b[0;34m(\u001b[0m\u001b[0;34m**\u001b[0m\u001b[0margs\u001b[0m\u001b[0;34m)\u001b[0m\u001b[0;34m\u001b[0m\u001b[0;34m\u001b[0m\u001b[0m\n\u001b[0m\u001b[1;32m    462\u001b[0m \u001b[0;34m\u001b[0m\u001b[0m\n\u001b[1;32m    463\u001b[0m     \u001b[0mwrapper\u001b[0m\u001b[0;34m.\u001b[0m\u001b[0m__doc__\u001b[0m \u001b[0;34m=\u001b[0m \u001b[0m_inject_config_doc\u001b[0m\u001b[0;34m(\u001b[0m\u001b[0mdoc\u001b[0m\u001b[0;34m=\u001b[0m\u001b[0mfunction\u001b[0m\u001b[0;34m.\u001b[0m\u001b[0m__doc__\u001b[0m\u001b[0;34m,\u001b[0m \u001b[0mavailable_configs\u001b[0m\u001b[0;34m=\u001b[0m\u001b[0mavailable_configs\u001b[0m\u001b[0;34m)\u001b[0m\u001b[0;34m\u001b[0m\u001b[0;34m\u001b[0m\u001b[0m\n",
      "\u001b[0;32m~/anaconda3/envs/mxnet_latest_p37/lib/python3.7/site-packages/awswrangler/athena/_utils.py\u001b[0m in \u001b[0;36mcreate_ctas_table\u001b[0;34m(sql, database, ctas_table, ctas_database, s3_output, storage_format, write_compression, partitioning_info, bucketing_info, field_delimiter, schema_only, workgroup, data_source, encryption, kms_key, categories, wait, boto3_session)\u001b[0m\n\u001b[1;32m    832\u001b[0m                 \u001b[0mboto3_session\u001b[0m\u001b[0;34m=\u001b[0m\u001b[0mboto3_session\u001b[0m\u001b[0;34m,\u001b[0m\u001b[0;34m\u001b[0m\u001b[0;34m\u001b[0m\u001b[0m\n\u001b[1;32m    833\u001b[0m                 \u001b[0mcategories\u001b[0m\u001b[0;34m=\u001b[0m\u001b[0mcategories\u001b[0m\u001b[0;34m,\u001b[0m\u001b[0;34m\u001b[0m\u001b[0;34m\u001b[0m\u001b[0m\n\u001b[0;32m--> 834\u001b[0;31m                 \u001b[0mmetadata_cache_manager\u001b[0m\u001b[0;34m=\u001b[0m\u001b[0m_cache_manager\u001b[0m\u001b[0;34m,\u001b[0m\u001b[0;34m\u001b[0m\u001b[0;34m\u001b[0m\u001b[0m\n\u001b[0m\u001b[1;32m    835\u001b[0m             )\n\u001b[1;32m    836\u001b[0m         \u001b[0;32mexcept\u001b[0m \u001b[0mexceptions\u001b[0m\u001b[0;34m.\u001b[0m\u001b[0mQueryFailed\u001b[0m \u001b[0;32mas\u001b[0m \u001b[0mex\u001b[0m\u001b[0;34m:\u001b[0m\u001b[0;34m\u001b[0m\u001b[0;34m\u001b[0m\u001b[0m\n",
      "\u001b[0;32m~/anaconda3/envs/mxnet_latest_p37/lib/python3.7/site-packages/awswrangler/athena/_utils.py\u001b[0m in \u001b[0;36m_get_query_metadata\u001b[0;34m(query_execution_id, boto3_session, categories, query_execution_payload, metadata_cache_manager)\u001b[0m\n\u001b[1;32m    195\u001b[0m         \u001b[0m_query_execution_payload\u001b[0m\u001b[0;34m:\u001b[0m \u001b[0mDict\u001b[0m\u001b[0;34m[\u001b[0m\u001b[0mstr\u001b[0m\u001b[0;34m,\u001b[0m \u001b[0mAny\u001b[0m\u001b[0;34m]\u001b[0m \u001b[0;34m=\u001b[0m \u001b[0mquery_execution_payload\u001b[0m\u001b[0;34m\u001b[0m\u001b[0;34m\u001b[0m\u001b[0m\n\u001b[1;32m    196\u001b[0m     \u001b[0;32melse\u001b[0m\u001b[0;34m:\u001b[0m\u001b[0;34m\u001b[0m\u001b[0;34m\u001b[0m\u001b[0m\n\u001b[0;32m--> 197\u001b[0;31m         \u001b[0m_query_execution_payload\u001b[0m \u001b[0;34m=\u001b[0m \u001b[0mwait_query\u001b[0m\u001b[0;34m(\u001b[0m\u001b[0mquery_execution_id\u001b[0m\u001b[0;34m=\u001b[0m\u001b[0mquery_execution_id\u001b[0m\u001b[0;34m,\u001b[0m \u001b[0mboto3_session\u001b[0m\u001b[0;34m=\u001b[0m\u001b[0mboto3_session\u001b[0m\u001b[0;34m)\u001b[0m\u001b[0;34m\u001b[0m\u001b[0;34m\u001b[0m\u001b[0m\n\u001b[0m\u001b[1;32m    198\u001b[0m     cols_types: Dict[str, str] = get_query_columns_types(\n\u001b[1;32m    199\u001b[0m         \u001b[0mquery_execution_id\u001b[0m\u001b[0;34m=\u001b[0m\u001b[0mquery_execution_id\u001b[0m\u001b[0;34m,\u001b[0m \u001b[0mboto3_session\u001b[0m\u001b[0;34m=\u001b[0m\u001b[0mboto3_session\u001b[0m\u001b[0;34m\u001b[0m\u001b[0;34m\u001b[0m\u001b[0m\n",
      "\u001b[0;32m~/anaconda3/envs/mxnet_latest_p37/lib/python3.7/site-packages/awswrangler/athena/_utils.py\u001b[0m in \u001b[0;36mwait_query\u001b[0;34m(query_execution_id, boto3_session)\u001b[0m\n\u001b[1;32m   1012\u001b[0m     \u001b[0mstate\u001b[0m\u001b[0;34m:\u001b[0m \u001b[0mstr\u001b[0m \u001b[0;34m=\u001b[0m \u001b[0mresponse\u001b[0m\u001b[0;34m[\u001b[0m\u001b[0;34m\"Status\"\u001b[0m\u001b[0;34m]\u001b[0m\u001b[0;34m[\u001b[0m\u001b[0;34m\"State\"\u001b[0m\u001b[0;34m]\u001b[0m\u001b[0;34m\u001b[0m\u001b[0;34m\u001b[0m\u001b[0m\n\u001b[1;32m   1013\u001b[0m     \u001b[0;32mwhile\u001b[0m \u001b[0mstate\u001b[0m \u001b[0;32mnot\u001b[0m \u001b[0;32min\u001b[0m \u001b[0m_QUERY_FINAL_STATES\u001b[0m\u001b[0;34m:\u001b[0m\u001b[0;34m\u001b[0m\u001b[0;34m\u001b[0m\u001b[0m\n\u001b[0;32m-> 1014\u001b[0;31m         \u001b[0mtime\u001b[0m\u001b[0;34m.\u001b[0m\u001b[0msleep\u001b[0m\u001b[0;34m(\u001b[0m\u001b[0m_QUERY_WAIT_POLLING_DELAY\u001b[0m\u001b[0;34m)\u001b[0m\u001b[0;34m\u001b[0m\u001b[0;34m\u001b[0m\u001b[0m\n\u001b[0m\u001b[1;32m   1015\u001b[0m         \u001b[0mresponse\u001b[0m \u001b[0;34m=\u001b[0m \u001b[0mget_query_execution\u001b[0m\u001b[0;34m(\u001b[0m\u001b[0mquery_execution_id\u001b[0m\u001b[0;34m=\u001b[0m\u001b[0mquery_execution_id\u001b[0m\u001b[0;34m,\u001b[0m \u001b[0mboto3_session\u001b[0m\u001b[0;34m=\u001b[0m\u001b[0msession\u001b[0m\u001b[0;34m)\u001b[0m\u001b[0;34m\u001b[0m\u001b[0;34m\u001b[0m\u001b[0m\n\u001b[1;32m   1016\u001b[0m         \u001b[0mstate\u001b[0m \u001b[0;34m=\u001b[0m \u001b[0mresponse\u001b[0m\u001b[0;34m[\u001b[0m\u001b[0;34m\"Status\"\u001b[0m\u001b[0;34m]\u001b[0m\u001b[0;34m[\u001b[0m\u001b[0;34m\"State\"\u001b[0m\u001b[0;34m]\u001b[0m\u001b[0;34m\u001b[0m\u001b[0;34m\u001b[0m\u001b[0m\n",
      "\u001b[0;31mKeyboardInterrupt\u001b[0m: "
     ]
    }
   ],
   "source": [
    "\n",
    "for l_chunk in [('a','e'),('e','j'),('j','o'),('o','t'),('t','z')]:\n",
    "    l_s=l_chunk[0]\n",
    "    l_e=l_chunk[1]\n",
    "    print(l_s,l_e)\n",
    "    wr.athena.read_sql_query(f\"select *  from (SELECT  feed,product,count(*) data_count  FROM maystreet_mtnorm.mt_aggregated_price_update \\\n",
    "                             group by feed,product order by feed,product ) t \\\n",
    "                             where lower(feed) >= '{l_s}' and lower(feed) < '{l_e}' \", database=\"maystreet_mtnorm\").\\\n",
    "    to_csv(f's3://maystreetdata/analysis/agg_feed_exch_product_{l_s}_{l_e}.csv')"
   ]
  },
  {
   "cell_type": "code",
   "execution_count": null,
   "id": "e0d277cd",
   "metadata": {},
   "outputs": [],
   "source": [
    "'sa'>'s'"
   ]
  },
  {
   "cell_type": "code",
   "execution_count": null,
   "id": "3c498982",
   "metadata": {},
   "outputs": [],
   "source": [
    "wr.athena.read_sql_query(\"select *  from (SELECT  feed,product,count(*) data_count  FROM maystreet_mtnorm.mt_aggregated_price_update \\\n",
    "                         group by feed,product order by feed,product ) t \\\n",
    "                         where lower(feed) >= 'a' and lower(feed) < 'e' \", database=\"maystreet_mtnorm\")"
   ]
  },
  {
   "cell_type": "code",
   "execution_count": null,
   "id": "ce100032",
   "metadata": {},
   "outputs": [],
   "source": [
    "sql_stmt=f\"SELECT *,CASE WHEN side IN ('Ask', 'rest', 'rstd')\\\n",
    "                 THEN 1*quantity ELSE -1*quantity\\\n",
    "            END quantity_signed FROM maystreet_mtnorm.mt_trade where side is not null and product ='{'AMZN'}' order by receipttimestamp desc\"\n",
    "single_name_flow=wr.athena.read_sql_query(sql_stmt, database=\"maystreet_mtnorm\")\n",
    "single_name_flow=single_name_flow.set_index('receipttimestamp').sort_index()\n",
    "single_name_flow['price']=single_name_flow['price'].astype(float)\n",
    "single_name_flow['quantity_signed']=single_name_flow['quantity_signed'].astype(float)"
   ]
  },
  {
   "cell_type": "code",
   "execution_count": null,
   "id": "172b4070",
   "metadata": {},
   "outputs": [],
   "source": [
    "single_name_flow['price_scaled']=single_name_flow['price']\n",
    "    \n",
    "single_name_flow['vol_change']=(single_name_flow['quantity_signed']*single_name_flow['price']).rolling(1000).sum()\n",
    "#single_name_flow['price']=single_name_flow['price']*10000\n",
    "single_name_flow.plot.scatter(x='vol_change',y='price_scaled')\n",
    "\n"
   ]
  },
  {
   "cell_type": "code",
   "execution_count": null,
   "id": "4beb1894",
   "metadata": {},
   "outputs": [],
   "source": [
    "import pandas as pd\n",
    "import numpy as np\n",
    "import statsmodels.tsa.stattools as smt\n",
    "\n",
    "for i in [1,2,3,5,6,7,8,9,10,100,500,1000]:\n",
    "    #single_name_flow[f'price_scaled_plus_{i}']=single_name_flow['price'].shift(i)\n",
    "    single_name_flow[f'price_scaled_minus_{i}']=single_name_flow['price'].shift(-i)"
   ]
  },
  {
   "cell_type": "code",
   "execution_count": null,
   "id": "2e426f17",
   "metadata": {},
   "outputs": [],
   "source": [
    "cols = [i for i in single_name_flow.columns if 'price_scaled' in i]+['vol_change']\n",
    "single_name_flow[cols].describe()"
   ]
  },
  {
   "cell_type": "code",
   "execution_count": null,
   "id": "403dcb1d",
   "metadata": {},
   "outputs": [],
   "source": [
    "single_name_flow[cols].corr()"
   ]
  },
  {
   "cell_type": "code",
   "execution_count": 6,
   "id": "ef53239e",
   "metadata": {},
   "outputs": [],
   "source": [
    "\n",
    "import pandas as pd\n",
    "import numpy as np\n",
    "import matplotlib.pyplot as plt\n",
    "import hashlib\n",
    "import pyarrow.parquet as pq\n",
    "import pyarrow as pa\n",
    "import s3fs\n",
    "import boto3\n",
    "import time\n",
    "from boto3.dynamodb.conditions import Key\n",
    "from copy import deepcopy\n",
    "import awswrangler as wr\n",
    "#import seaborn as sns\n",
    "import itertools\n",
    "import datetime\n",
    "import math\n",
    "#import asynch,asyncio"
   ]
  },
  {
   "cell_type": "code",
   "execution_count": null,
   "id": "5a90e970",
   "metadata": {},
   "outputs": [],
   "source": [
    "fs_s3 = s3fs.S3FileSystem(client_kwargs={'region_name': 'us-east-2'})\n",
    " \n",
    "file_name='s3://maystreetdata/feeds_norm/mstnorm_parquet_0_5_0/mt=aggregated_price_update/ex=amex/f=xdp_american_integrated/y=2022/m=07/d=05/dt=2022-07-05/0_1.parquet'\n",
    "pf = pq.ParquetDataset(file_name,filesystem=fs_s3)\n",
    "res_pd = pf.read().to_pandas()"
   ]
  },
  {
   "cell_type": "code",
   "execution_count": null,
   "id": "78d3a146",
   "metadata": {},
   "outputs": [],
   "source": [
    "res_pd"
   ]
  },
  {
   "cell_type": "code",
   "execution_count": null,
   "id": "92276f70",
   "metadata": {},
   "outputs": [],
   "source": []
  }
 ],
 "metadata": {
  "kernelspec": {
   "display_name": "Python 3",
   "language": "python",
   "name": "python3"
  },
  "language_info": {
   "codemirror_mode": {
    "name": "ipython",
    "version": 3
   },
   "file_extension": ".py",
   "mimetype": "text/x-python",
   "name": "python",
   "nbconvert_exporter": "python",
   "pygments_lexer": "ipython3",
   "version": "3.7.12"
  }
 },
 "nbformat": 4,
 "nbformat_minor": 5
}
