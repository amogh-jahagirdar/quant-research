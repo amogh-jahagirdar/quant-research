{
 "cells": [
  {
   "cell_type": "code",
   "execution_count": 112,
   "id": "52f0683d-273b-400f-99c5-22a5b251288d",
   "metadata": {
    "execution": {
     "iopub.execute_input": "2023-01-16T20:39:54.599996Z",
     "iopub.status.busy": "2023-01-16T20:39:54.599565Z",
     "iopub.status.idle": "2023-01-16T20:40:09.676550Z",
     "shell.execute_reply": "2023-01-16T20:40:09.676465Z",
     "shell.execute_reply.started": "2023-01-16 20:39:54.602029+00:00"
    },
    "tags": []
   },
   "outputs": [
    {
     "name": "stderr",
     "output_type": "stream",
     "text": [
      "[I 2023-01-16 20:39:54,601.601 configure_magic] Magic cell payload received: {\"conf\": {\"spark.pyspark.python\": \"python3\", \"spark.pyspark.virtualenv.enabled\": \"true\", \"spark.pyspark.virtualenv.type\": \"native\", \"spark.pyspark.virtualenv.bin.path\": \"/usr/bin/virtualenv\", \"spark.sql.execution.arrow.enabled\": \"true\"}, \"proxyUser\": \"assumed-role_fdp_blitvin-Isengard\"}\n",
      "\n",
      "[I 2023-01-16 20:39:54,602.602 configure_magic] Sending request to update kernel. Please wait while the kernel will be refreshed.\n"
     ]
    },
    {
     "name": "stdout",
     "output_type": "stream",
     "text": [
      "The kernel is successfully refreshed."
     ]
    }
   ],
   "source": [
    "%%configure -f\n",
    "{ \"conf\":{\n",
    "          \"spark.pyspark.python\": \"python3\",\n",
    "          \"spark.pyspark.virtualenv.enabled\": \"true\",\n",
    "          \"spark.pyspark.virtualenv.type\":\"native\",\n",
    "          \"spark.pyspark.virtualenv.bin.path\":\"/usr/bin/virtualenv\",\n",
    "          \"spark.sql.execution.arrow.enabled\":\"true\"\n",
    "         }\n",
    "}"
   ]
  },
  {
   "cell_type": "code",
   "execution_count": 6,
   "id": "1ab8a1bd-e038-49e6-a7b8-7aa66e90c24e",
   "metadata": {
    "execution": {
     "iopub.execute_input": "2023-01-16T20:40:48.517070Z",
     "iopub.status.busy": "2023-01-16T20:40:48.516605Z",
     "iopub.status.idle": "2023-01-16T20:40:52.112815Z",
     "shell.execute_reply": "2023-01-16T20:40:52.111894Z",
     "shell.execute_reply.started": "2023-01-16T20:40:48.517038Z"
    },
    "tags": []
   },
   "outputs": [
    {
     "name": "stdout",
     "output_type": "stream",
     "text": [
      "Collecting pyEX\n",
      "  Downloading pyEX-0.5.0-py2.py3-none-any.whl (163 kB)\n",
      "\u001b[K     |████████████████████████████████| 163 kB 26.9 MB/s eta 0:00:01\n",
      "\u001b[?25hCollecting deprecation>=2.0.6\n",
      "  Downloading deprecation-2.1.0-py2.py3-none-any.whl (11 kB)\n",
      "Requirement already satisfied: pandas>=0.22 in /usr/local/lib64/python3.7/site-packages (from pyEX) (1.3.5)\n",
      "Requirement already satisfied: requests>=2.21.0 in /usr/local/lib/python3.7/site-packages (from pyEX) (2.28.1)\n",
      "Requirement already satisfied: six in /usr/local/lib/python3.7/site-packages (from pyEX) (1.16.0)\n",
      "Requirement already satisfied: ipython>=7.2.0 in /usr/local/lib/python3.7/site-packages (from pyEX) (7.34.0)\n",
      "Requirement already satisfied: Pillow>=5.3.0 in /usr/local/lib64/python3.7/site-packages (from pyEX) (9.3.0)\n",
      "Collecting socketIO-client-nexus>=0.7.6\n",
      "  Downloading socketIO_client_nexus-0.7.6-py2.py3-none-any.whl (22 kB)\n",
      "Collecting temporal-cache>=0.1.1\n",
      "  Downloading temporal_cache-0.1.4-py2.py3-none-any.whl (17 kB)\n",
      "Collecting sseclient>=0.0.22\n",
      "  Downloading sseclient-0.0.27.tar.gz (7.5 kB)\n",
      "Requirement already satisfied: pytz>=2019.1 in /usr/local/lib/python3.7/site-packages (from pyEX) (2022.6)\n",
      "Requirement already satisfied: packaging in /usr/local/lib/python3.7/site-packages (from deprecation>=2.0.6->pyEX) (21.3)\n",
      "Requirement already satisfied: python-dateutil>=2.7.3 in /usr/local/lib/python3.7/site-packages (from pandas>=0.22->pyEX) (2.8.2)\n",
      "Requirement already satisfied: numpy>=1.17.3; platform_machine != \"aarch64\" and platform_machine != \"arm64\" and python_version < \"3.10\" in /usr/local/lib64/python3.7/site-packages (from pandas>=0.22->pyEX) (1.21.6)\n",
      "Requirement already satisfied: urllib3<1.27,>=1.21.1 in /usr/local/lib/python3.7/site-packages (from requests>=2.21.0->pyEX) (1.26.13)\n",
      "Requirement already satisfied: charset-normalizer<3,>=2 in /usr/local/lib/python3.7/site-packages (from requests>=2.21.0->pyEX) (2.1.1)\n",
      "Requirement already satisfied: certifi>=2017.4.17 in /usr/local/lib/python3.7/site-packages (from requests>=2.21.0->pyEX) (2022.9.24)\n",
      "Requirement already satisfied: idna<4,>=2.5 in /usr/local/lib/python3.7/site-packages (from requests>=2.21.0->pyEX) (3.4)\n",
      "Requirement already satisfied: jedi>=0.16 in /usr/local/lib/python3.7/site-packages (from ipython>=7.2.0->pyEX) (0.18.2)\n",
      "Requirement already satisfied: traitlets>=4.2 in /usr/local/lib/python3.7/site-packages (from ipython>=7.2.0->pyEX) (5.6.0)\n",
      "Requirement already satisfied: pickleshare in /usr/local/lib/python3.7/site-packages (from ipython>=7.2.0->pyEX) (0.7.5)\n",
      "Requirement already satisfied: pygments in /usr/local/lib/python3.7/site-packages (from ipython>=7.2.0->pyEX) (2.13.0)\n",
      "Requirement already satisfied: backcall in /usr/local/lib/python3.7/site-packages (from ipython>=7.2.0->pyEX) (0.2.0)\n",
      "Requirement already satisfied: setuptools>=18.5 in ./virtualenv_spark-eccfe7b75b074066aa729487fc5b306b_0/lib/python3.7/site-packages (from ipython>=7.2.0->pyEX) (28.8.0)\n",
      "Requirement already satisfied: prompt-toolkit!=3.0.0,!=3.0.1,<3.1.0,>=2.0.0 in /usr/local/lib/python3.7/site-packages (from ipython>=7.2.0->pyEX) (3.0.33)\n",
      "Requirement already satisfied: pexpect>4.3; sys_platform != \"win32\" in /usr/local/lib/python3.7/site-packages (from ipython>=7.2.0->pyEX) (4.8.0)\n",
      "Requirement already satisfied: matplotlib-inline in /usr/local/lib/python3.7/site-packages (from ipython>=7.2.0->pyEX) (0.1.6)\n",
      "Requirement already satisfied: decorator in /usr/local/lib/python3.7/site-packages (from ipython>=7.2.0->pyEX) (5.1.1)\n",
      "Requirement already satisfied: websocket-client in /usr/local/lib/python3.7/site-packages (from socketIO-client-nexus>=0.7.6->pyEX) (1.4.2)\n",
      "Requirement already satisfied: tzlocal>=2.0.0 in /usr/local/lib/python3.7/site-packages (from temporal-cache>=0.1.1->pyEX) (4.2)\n",
      "Collecting frozendict>=1.2\n",
      "  Downloading frozendict-2.3.4-cp37-cp37m-manylinux_2_17_x86_64.manylinux2014_x86_64.whl (99 kB)\n",
      "\u001b[K     |████████████████████████████████| 99 kB 17.4 MB/s eta 0:00:01\n",
      "\u001b[?25hRequirement already satisfied: pyparsing!=3.0.5,>=2.0.2 in /usr/local/lib/python3.7/site-packages (from packaging->deprecation>=2.0.6->pyEX) (3.0.9)\n",
      "Requirement already satisfied: parso<0.9.0,>=0.8.0 in /usr/local/lib/python3.7/site-packages (from jedi>=0.16->ipython>=7.2.0->pyEX) (0.8.3)\n",
      "Requirement already satisfied: wcwidth in /usr/local/lib/python3.7/site-packages (from prompt-toolkit!=3.0.0,!=3.0.1,<3.1.0,>=2.0.0->ipython>=7.2.0->pyEX) (0.2.5)\n",
      "Requirement already satisfied: ptyprocess>=0.5 in /usr/local/lib/python3.7/site-packages (from pexpect>4.3; sys_platform != \"win32\"->ipython>=7.2.0->pyEX) (0.7.0)\n",
      "Requirement already satisfied: pytz-deprecation-shim in /usr/local/lib/python3.7/site-packages (from tzlocal>=2.0.0->temporal-cache>=0.1.1->pyEX) (0.1.0.post0)\n",
      "Requirement already satisfied: backports.zoneinfo; python_version < \"3.9\" in /usr/local/lib64/python3.7/site-packages (from tzlocal>=2.0.0->temporal-cache>=0.1.1->pyEX) (0.2.1)\n",
      "Requirement already satisfied: tzdata; python_version >= \"3.6\" in /usr/local/lib/python3.7/site-packages (from pytz-deprecation-shim->tzlocal>=2.0.0->temporal-cache>=0.1.1->pyEX) (2022.7)\n",
      "Building wheels for collected packages: sseclient\n",
      "  Building wheel for sseclient (setup.py) ... \u001b[?25ldone\n",
      "\u001b[?25h  Created wheel for sseclient: filename=sseclient-0.0.27-py3-none-any.whl size=6744 sha256=67ccf0fab12040c3a3d1c2e07c833b6bdb8727d64903d72e65a85af702bb12c3\n",
      "  Stored in directory: /home/hadoop/.cache/pip/wheels/07/67/7e/96edf627ac746de1a5c5cbb8d59ed960f033b8352dc12c545d\n",
      "Successfully built sseclient\n",
      "Installing collected packages: deprecation, socketIO-client-nexus, frozendict, temporal-cache, sseclient, pyEX\n",
      "Successfully installed deprecation-2.1.0 frozendict-2.3.4 pyEX-0.5.0 socketIO-client-nexus-0.7.6 sseclient-0.0.27 temporal-cache-0.1.4\n",
      "Note: you may need to restart the kernel to use updated packages.\n"
     ]
    }
   ],
   "source": [
    "%pip install pyEX"
   ]
  },
  {
   "cell_type": "code",
   "execution_count": 7,
   "id": "3b1a13f6-a7a6-4999-bffd-0a4190e5ba02",
   "metadata": {
    "execution": {
     "iopub.execute_input": "2023-01-16T20:40:52.114697Z",
     "iopub.status.busy": "2023-01-16T20:40:52.114351Z",
     "iopub.status.idle": "2023-01-16T20:40:59.844103Z",
     "shell.execute_reply": "2023-01-16T20:40:59.843081Z",
     "shell.execute_reply.started": "2023-01-16T20:40:52.114667Z"
    },
    "tags": []
   },
   "outputs": [
    {
     "name": "stdout",
     "output_type": "stream",
     "text": [
      "Collecting awswrangler\n",
      "  Downloading awswrangler-2.19.0-py3-none-any.whl (267 kB)\n",
      "\u001b[K     |████████████████████████████████| 267 kB 20.6 MB/s eta 0:00:01\n",
      "\u001b[?25hRequirement already satisfied: botocore<2.0.0,>=1.27.11 in /usr/local/lib/python3.7/site-packages (from awswrangler) (1.27.59)\n",
      "Collecting gremlinpython<4.0.0,>=3.5.2\n",
      "  Downloading gremlinpython-3.6.1-py2.py3-none-any.whl (73 kB)\n",
      "\u001b[K     |████████████████████████████████| 73 kB 3.9 MB/s  eta 0:00:01\n",
      "\u001b[?25hRequirement already satisfied: numpy<=1.23.4,>=1.21.0; python_full_version >= \"3.7.1\" and python_full_version < \"3.11.0\" in /usr/local/lib64/python3.7/site-packages (from awswrangler) (1.21.6)\n",
      "Collecting redshift-connector<2.1.0,>=2.0.889\n",
      "  Downloading redshift_connector-2.0.909-py3-none-any.whl (112 kB)\n",
      "\u001b[K     |████████████████████████████████| 112 kB 89.0 MB/s eta 0:00:01\n",
      "\u001b[?25hCollecting backoff<3.0.0,>=1.11.1\n",
      "  Downloading backoff-2.2.1-py3-none-any.whl (15 kB)\n",
      "Collecting boto3<2.0.0,>=1.24.11\n",
      "  Downloading boto3-1.26.50-py3-none-any.whl (132 kB)\n",
      "\u001b[K     |████████████████████████████████| 132 kB 79.5 MB/s eta 0:00:01\n",
      "\u001b[?25hRequirement already satisfied: pyarrow<10.1.0,>=2.0.0 in /usr/local/lib64/python3.7/site-packages (from awswrangler) (10.0.1)\n",
      "Collecting jsonpath-ng<2.0.0,>=1.5.3\n",
      "  Downloading jsonpath_ng-1.5.3-py3-none-any.whl (29 kB)\n",
      "Collecting openpyxl<3.1.0,>=3.0.0\n",
      "  Downloading openpyxl-3.0.10-py2.py3-none-any.whl (242 kB)\n",
      "\u001b[K     |████████████████████████████████| 242 kB 103.8 MB/s eta 0:00:01\n",
      "\u001b[?25hCollecting opensearch-py<3,>=1\n",
      "  Downloading opensearch_py-2.0.1-py2.py3-none-any.whl (214 kB)\n",
      "\u001b[K     |████████████████████████████████| 214 kB 99.6 MB/s eta 0:00:01\n",
      "\u001b[?25hCollecting pg8000<2.0.0,>=1.20.0\n",
      "  Downloading pg8000-1.29.4-py3-none-any.whl (51 kB)\n",
      "\u001b[K     |████████████████████████████████| 51 kB 526 kB/s  eta 0:00:01\n",
      "\u001b[?25hCollecting progressbar2<5.0.0,>=4.0.0\n",
      "  Downloading progressbar2-4.2.0-py2.py3-none-any.whl (27 kB)\n",
      "Collecting requests-aws4auth<2.0.0,>=1.1.1\n",
      "  Downloading requests_aws4auth-1.1.2-py2.py3-none-any.whl (24 kB)\n",
      "Collecting pymysql<2.0.0,>=1.0.0\n",
      "  Downloading PyMySQL-1.0.2-py3-none-any.whl (43 kB)\n",
      "\u001b[K     |████████████████████████████████| 43 kB 4.6 MB/s  eta 0:00:01\n",
      "\u001b[?25hRequirement already satisfied: pandas!=1.5.0,<2.0.0,<=1.5.1,>=1.2.0 in /usr/local/lib64/python3.7/site-packages (from awswrangler) (1.3.5)\n",
      "Requirement already satisfied: jmespath<2.0.0,>=0.7.1 in /usr/local/lib/python3.7/site-packages (from botocore<2.0.0,>=1.27.11->awswrangler) (1.0.1)\n",
      "Requirement already satisfied: urllib3<1.27,>=1.25.4 in /usr/local/lib/python3.7/site-packages (from botocore<2.0.0,>=1.27.11->awswrangler) (1.26.13)\n",
      "Requirement already satisfied: python-dateutil<3.0.0,>=2.1 in /usr/local/lib/python3.7/site-packages (from botocore<2.0.0,>=1.27.11->awswrangler) (2.8.2)\n",
      "Requirement already satisfied: nest-asyncio in /usr/local/lib/python3.7/site-packages (from gremlinpython<4.0.0,>=3.5.2->awswrangler) (1.5.6)\n",
      "Collecting aiohttp<=3.8.1,>=3.8.0\n",
      "  Downloading aiohttp-3.8.1-cp37-cp37m-manylinux_2_5_x86_64.manylinux1_x86_64.manylinux_2_12_x86_64.manylinux2010_x86_64.whl (1.1 MB)\n",
      "\u001b[K     |████████████████████████████████| 1.1 MB 80.3 MB/s eta 0:00:01\n",
      "\u001b[?25hCollecting aenum<4.0.0,>=1.4.5\n",
      "  Downloading aenum-3.1.11-py3-none-any.whl (131 kB)\n",
      "\u001b[K     |████████████████████████████████| 131 kB 93.9 MB/s eta 0:00:01\n",
      "\u001b[?25hCollecting isodate<1.0.0,>=0.6.0\n",
      "  Downloading isodate-0.6.1-py2.py3-none-any.whl (41 kB)\n",
      "\u001b[K     |████████████████████████████████| 41 kB 1.8 MB/s  eta 0:00:01\n",
      "\u001b[?25hRequirement already satisfied: pytz>=2020.1 in /usr/local/lib/python3.7/site-packages (from redshift-connector<2.1.0,>=2.0.889->awswrangler) (2022.6)\n",
      "Collecting lxml>=4.6.5\n",
      "  Downloading lxml-4.9.2-cp37-cp37m-manylinux_2_17_x86_64.manylinux2014_x86_64.manylinux_2_24_x86_64.whl (6.6 MB)\n",
      "\u001b[K     |████████████████████████████████| 6.6 MB 80.8 MB/s eta 0:00:01\n",
      "\u001b[?25hRequirement already satisfied: beautifulsoup4<5.0.0,>=4.7.0 in /usr/local/lib/python3.7/site-packages (from redshift-connector<2.1.0,>=2.0.889->awswrangler) (4.11.1)\n",
      "Collecting scramp<1.5.0,>=1.2.0\n",
      "  Downloading scramp-1.4.4-py3-none-any.whl (13 kB)\n",
      "Requirement already satisfied: requests<3.0.0,>=2.23.0 in /usr/local/lib/python3.7/site-packages (from redshift-connector<2.1.0,>=2.0.889->awswrangler) (2.28.1)\n",
      "Requirement already satisfied: packaging in /usr/local/lib/python3.7/site-packages (from redshift-connector<2.1.0,>=2.0.889->awswrangler) (21.3)\n",
      "Requirement already satisfied: setuptools in ./virtualenv_spark-eccfe7b75b074066aa729487fc5b306b_0/lib/python3.7/site-packages (from redshift-connector<2.1.0,>=2.0.889->awswrangler) (28.8.0)\n",
      "Collecting s3transfer<0.7.0,>=0.6.0\n",
      "  Downloading s3transfer-0.6.0-py3-none-any.whl (79 kB)\n",
      "\u001b[K     |████████████████████████████████| 79 kB 19.7 MB/s eta 0:00:01\n",
      "\u001b[?25hCollecting ply\n",
      "  Downloading ply-3.11-py2.py3-none-any.whl (49 kB)\n",
      "\u001b[K     |████████████████████████████████| 49 kB 17.7 MB/s eta 0:00:01\n",
      "\u001b[?25hRequirement already satisfied: decorator in /usr/local/lib/python3.7/site-packages (from jsonpath-ng<2.0.0,>=1.5.3->awswrangler) (5.1.1)\n",
      "Requirement already satisfied: six in /usr/local/lib/python3.7/site-packages (from jsonpath-ng<2.0.0,>=1.5.3->awswrangler) (1.16.0)\n",
      "Collecting et-xmlfile\n",
      "  Downloading et_xmlfile-1.1.0-py3-none-any.whl (4.7 kB)\n",
      "Requirement already satisfied: certifi in /usr/local/lib/python3.7/site-packages (from opensearch-py<3,>=1->awswrangler) (2022.9.24)\n",
      "Requirement already satisfied: importlib-metadata>=1.0; python_version < \"3.8\" in /usr/local/lib/python3.7/site-packages (from pg8000<2.0.0,>=1.20.0->awswrangler) (5.1.0)\n",
      "Collecting python-utils>=3.0.0\n",
      "  Downloading python_utils-3.4.5-py2.py3-none-any.whl (23 kB)\n",
      "Requirement already satisfied: multidict<7.0,>=4.5 in /usr/local/lib64/python3.7/site-packages (from aiohttp<=3.8.1,>=3.8.0->gremlinpython<4.0.0,>=3.5.2->awswrangler) (6.0.4)\n",
      "Requirement already satisfied: charset-normalizer<3.0,>=2.0 in /usr/local/lib/python3.7/site-packages (from aiohttp<=3.8.1,>=3.8.0->gremlinpython<4.0.0,>=3.5.2->awswrangler) (2.1.1)\n",
      "Requirement already satisfied: frozenlist>=1.1.1 in /usr/local/lib64/python3.7/site-packages (from aiohttp<=3.8.1,>=3.8.0->gremlinpython<4.0.0,>=3.5.2->awswrangler) (1.3.3)\n",
      "Requirement already satisfied: yarl<2.0,>=1.0 in /usr/local/lib64/python3.7/site-packages (from aiohttp<=3.8.1,>=3.8.0->gremlinpython<4.0.0,>=3.5.2->awswrangler) (1.8.2)\n",
      "Requirement already satisfied: async-timeout<5.0,>=4.0.0a3 in /usr/local/lib/python3.7/site-packages (from aiohttp<=3.8.1,>=3.8.0->gremlinpython<4.0.0,>=3.5.2->awswrangler) (4.0.2)\n",
      "Requirement already satisfied: aiosignal>=1.1.2 in /usr/local/lib/python3.7/site-packages (from aiohttp<=3.8.1,>=3.8.0->gremlinpython<4.0.0,>=3.5.2->awswrangler) (1.3.1)\n",
      "Requirement already satisfied: typing-extensions>=3.7.4; python_version < \"3.8\" in /usr/local/lib/python3.7/site-packages (from aiohttp<=3.8.1,>=3.8.0->gremlinpython<4.0.0,>=3.5.2->awswrangler) (4.4.0)\n",
      "Requirement already satisfied: attrs>=17.3.0 in /usr/local/lib/python3.7/site-packages (from aiohttp<=3.8.1,>=3.8.0->gremlinpython<4.0.0,>=3.5.2->awswrangler) (22.1.0)\n",
      "Requirement already satisfied: asynctest==0.13.0; python_version < \"3.8\" in /usr/local/lib/python3.7/site-packages (from aiohttp<=3.8.1,>=3.8.0->gremlinpython<4.0.0,>=3.5.2->awswrangler) (0.13.0)\n",
      "Requirement already satisfied: soupsieve>1.2 in /usr/local/lib/python3.7/site-packages (from beautifulsoup4<5.0.0,>=4.7.0->redshift-connector<2.1.0,>=2.0.889->awswrangler) (2.3.2.post1)\n",
      "Collecting asn1crypto>=1.5.1\n",
      "  Downloading asn1crypto-1.5.1-py2.py3-none-any.whl (105 kB)\n",
      "\u001b[K     |████████████████████████████████| 105 kB 87.1 MB/s eta 0:00:01\n",
      "\u001b[?25hRequirement already satisfied: idna<4,>=2.5 in /usr/local/lib/python3.7/site-packages (from requests<3.0.0,>=2.23.0->redshift-connector<2.1.0,>=2.0.889->awswrangler) (3.4)\n",
      "Requirement already satisfied: pyparsing!=3.0.5,>=2.0.2 in /usr/local/lib/python3.7/site-packages (from packaging->redshift-connector<2.1.0,>=2.0.889->awswrangler) (3.0.9)\n",
      "Requirement already satisfied: zipp>=0.5 in /usr/local/lib/python3.7/site-packages (from importlib-metadata>=1.0; python_version < \"3.8\"->pg8000<2.0.0,>=1.20.0->awswrangler) (3.11.0)\n",
      "Installing collected packages: aiohttp, aenum, isodate, gremlinpython, lxml, s3transfer, boto3, asn1crypto, scramp, redshift-connector, backoff, ply, jsonpath-ng, et-xmlfile, openpyxl, opensearch-py, pg8000, python-utils, progressbar2, requests-aws4auth, pymysql, awswrangler\n",
      "\u001b[31mERROR: After October 2020 you may experience errors when installing or updating packages. This is because pip will change the way that it resolves dependency conflicts.\n",
      "\n",
      "We recommend you use --use-feature=2020-resolver to test your packages with the new resolver before it becomes the default.\n",
      "\n",
      "boto3 1.26.50 requires botocore<1.30.0,>=1.29.50, but you'll have botocore 1.27.59 which is incompatible.\u001b[0m\n",
      "Successfully installed aenum-3.1.11 aiohttp-3.8.1 asn1crypto-1.5.1 awswrangler-2.19.0 backoff-2.2.1 boto3-1.26.50 et-xmlfile-1.1.0 gremlinpython-3.6.1 isodate-0.6.1 jsonpath-ng-1.5.3 lxml-4.9.2 openpyxl-3.0.10 opensearch-py-2.0.1 pg8000-1.29.4 ply-3.11 progressbar2-4.2.0 pymysql-1.0.2 python-utils-3.4.5 redshift-connector-2.0.909 requests-aws4auth-1.1.2 s3transfer-0.6.0 scramp-1.4.4\n",
      "Note: you may need to restart the kernel to use updated packages.\n"
     ]
    }
   ],
   "source": [
    "%pip install awswrangler"
   ]
  },
  {
   "cell_type": "code",
   "execution_count": 116,
   "id": "e27b0e40",
   "metadata": {
    "execution": {
     "iopub.execute_input": "2023-01-16T21:52:24.486173Z",
     "iopub.status.busy": "2023-01-16T21:52:24.485741Z",
     "iopub.status.idle": "2023-01-16T21:52:26.393056Z",
     "shell.execute_reply": "2023-01-16T21:52:26.392165Z",
     "shell.execute_reply.started": "2023-01-16T21:52:24.486142Z"
    },
    "tags": []
   },
   "outputs": [],
   "source": [
    "import pyEX as p\n",
    "import pandas as pd\n",
    "import numpy as np\n",
    "#import vectorbt as vbt\n",
    "import matplotlib.pyplot as plt \n",
    "import itertools \n",
    "import datetime \n",
    "import awswrangler as wr\n",
    "import vectorbt as vbt\n",
    "import pyspark.sql.functions as py_f\n",
    "import pyspark.sql.types as py_t\n",
    "isSandbox = False\n",
    "if isSandbox:\n",
    "    token ='Tpk_02dcd2036e7641b880dd4cbb01fa9c67'\n",
    "    iex_ver = 'sandbox'\n",
    "else:\n",
    "    token ='pk_2e94555e43da4135a6032433c6b18fa5'\n",
    "    iex_ver = 'stable'\n",
    "pyEX_cl = p.Client(api_token=token)\n",
    "timeframe='max'"
   ]
  },
  {
   "cell_type": "code",
   "execution_count": 9,
   "id": "92276f70",
   "metadata": {
    "execution": {
     "iopub.execute_input": "2023-01-16T20:41:01.640664Z",
     "iopub.status.busy": "2023-01-16T20:41:01.640174Z",
     "iopub.status.idle": "2023-01-16T20:41:01.649378Z",
     "shell.execute_reply": "2023-01-16T20:41:01.648583Z",
     "shell.execute_reply.started": "2023-01-16T20:41:01.640637Z"
    },
    "tags": []
   },
   "outputs": [],
   "source": [
    "fx_etf_symbols = ['FXA','FXY','FXE','FXB','UUP','FXC','FXF',]\n",
    "bitcoin_etf_symbols = ['BITO']\n",
    "commod_etf_symbols = ['USO','GLD','DBA','DBB','SLV',]\n",
    "fi_etf_symbols = ['IAGG','AGG','IHY','EMLC','HYG',]\n",
    "equity_etf_symbols = ['AMJ','AMLP','ARKF','ARKG','ARKK','ARKQ','ARKW','BOTZ','BUG','CGW','CIBR','COPX','CRBN','DRIV','EFV','EMLP','FBT','FDN','FIVG',\n",
    "'FIW','FTXG','GDX','GNR','GUNR','HACK','IAT','IBB','ICLN','IEO','IFRA','IGE','IGF','IGM','IGV','IHF','IHI','ITB','ITZ','IWD','IWN','IWS','IYT','JETS','KBWB',\n",
    "                      'KOMP','KRE','KWEB','LCTU','LIT','MLPA',\n",
    "'MLPX','MOO','NFRA','OIH','PABU','PAVE','PBW','PEJ','PHO','PICK','PPA','QCLN','REET','REMX','ROBO','SCHH','SIL','SKYY','SMH','SOXX','SRVR','TAN','URA','URNM',\n",
    "                      'VUG','XAR','XBI','XHB','XME','XOP','XSD','QQQ','EWZ','AAXJ','VTI','EWJ','EWA','EWC','MCHI','EWU','EWQ','EWG','FM','EIS']\n",
    "sectors = ['XLC','XLY','XLP','XLE','XLF','XLV','XLI','XLB','XLRE','XLK','XLU']\n",
    "bench_symbol=['SPY','QQQ','IVV']\n",
    "all_symbols =fx_etf_symbols+bitcoin_etf_symbols+commod_etf_symbols+fi_etf_symbols+equity_etf_symbols+bench_symbol+sectors\n",
    "#all_symbols\n",
    "columns_to_capture = ['close','open','symbol']\n",
    "data_folder = 's3://fsidatalake/eod_market_data/etf_trend_following/'\n",
    "parquet_file_out =f\"{data_folder}/etf_market_data.parquet\""
   ]
  },
  {
   "cell_type": "code",
   "execution_count": 10,
   "id": "6876cc4f-8958-462f-952c-ff9dc7da6c96",
   "metadata": {
    "execution": {
     "iopub.execute_input": "2023-01-16T20:41:01.651409Z",
     "iopub.status.busy": "2023-01-16T20:41:01.651102Z",
     "iopub.status.idle": "2023-01-16T20:41:01.659391Z",
     "shell.execute_reply": "2023-01-16T20:41:01.658680Z",
     "shell.execute_reply.started": "2023-01-16T20:41:01.651384Z"
    },
    "tags": []
   },
   "outputs": [],
   "source": [
    "def get_full_file_name(data_folder,one_sym):\n",
    "    return(f\"{data_folder}{one_sym}.parquet\")\n",
    "def combine_new_and_stored_data(new_df,file_name,columns_to_capture):\n",
    "    try:\n",
    "        old_pd = pd.read_parquet(file_name)\n",
    "        final_df=pd.concat([old_pd,new_df[columns_to_capture]]).drop_duplicates().sort_index()\n",
    "    except Exception as l_exc:\n",
    "        final_df=new_df.drop_duplicates().sort_index()\n",
    "    return(final_df)\n",
    "if False:\n",
    "    md_df = None\n",
    "    for one_sym in all_symbols:\n",
    "        try:\n",
    "            new_df = pyEX_cl.chartDF(symbol=one_sym, timeframe=timeframe)\n",
    "            file_name = get_full_file_name(data_folder,one_sym)\n",
    "            final_df = combine_new_and_stored_data(new_df,file_name,columns_to_capture)\n",
    "            assert final_df['symbol'].values[0]==one_sym, 'STOP!!!'\n",
    "            assert one_sym in file_name, 'STOP!!!'\n",
    "            final_df[columns_to_capture].to_parquet(file_name,index=True)\n",
    "            if md_df is None:\n",
    "                md_df= spark.createDataFrame(final_df[columns_to_capture].reset_index())\n",
    "            else:\n",
    "                md_df=md_df.union(spark.createDataFrame(final_df[columns_to_capture].reset_index()))\n",
    "        except Exception as l_exc:\n",
    "            print(f\"exc:{one_sym}, {l_exc}\")\n",
    "        #break\n",
    "    md_df.write\\\n",
    "    .option(\"header\",True)\\\n",
    "    .partitionBy('symbol')\\\n",
    "    .mode(\"overwrite\")\\\n",
    "    .parquet(parquet_file_out)"
   ]
  },
  {
   "cell_type": "code",
   "execution_count": 11,
   "id": "91fd238c-883a-40ea-887b-9c32196e8779",
   "metadata": {
    "execution": {
     "iopub.execute_input": "2023-01-16T20:41:01.660656Z",
     "iopub.status.busy": "2023-01-16T20:41:01.660350Z",
     "iopub.status.idle": "2023-01-16T20:41:01.730902Z",
     "shell.execute_reply": "2023-01-16T20:41:01.729807Z",
     "shell.execute_reply.started": "2023-01-16T20:41:01.660631Z"
    },
    "tags": []
   },
   "outputs": [
    {
     "ename": "NameError",
     "evalue": "name 'new_df' is not defined",
     "output_type": "error",
     "traceback": [
      "\u001b[0;31m---------------------------------------------------------------------------\u001b[0m",
      "\u001b[0;31mNameError\u001b[0m                                 Traceback (most recent call last)",
      "\u001b[0;32m/usr/local/bin/kernel-launchers/python/scripts/launch_ipykernel.py\u001b[0m in \u001b[0;36m<module>\u001b[0;34m\u001b[0m\n\u001b[0;32m----> 1\u001b[0;31m \u001b[0mprint\u001b[0m\u001b[0;34m(\u001b[0m\u001b[0mnew_df\u001b[0m\u001b[0;34m.\u001b[0m\u001b[0mindex\u001b[0m\u001b[0;34m.\u001b[0m\u001b[0mmin\u001b[0m\u001b[0;34m(\u001b[0m\u001b[0;34m)\u001b[0m\u001b[0;34m,\u001b[0m\u001b[0mnew_df\u001b[0m\u001b[0;34m.\u001b[0m\u001b[0mindex\u001b[0m\u001b[0;34m.\u001b[0m\u001b[0mmax\u001b[0m\u001b[0;34m(\u001b[0m\u001b[0;34m)\u001b[0m\u001b[0;34m,\u001b[0m\u001b[0mfinal_df\u001b[0m\u001b[0;34m.\u001b[0m\u001b[0mindex\u001b[0m\u001b[0;34m.\u001b[0m\u001b[0mmin\u001b[0m\u001b[0;34m(\u001b[0m\u001b[0;34m)\u001b[0m\u001b[0;34m,\u001b[0m\u001b[0mfinal_df\u001b[0m\u001b[0;34m.\u001b[0m\u001b[0mindex\u001b[0m\u001b[0;34m.\u001b[0m\u001b[0mmax\u001b[0m\u001b[0;34m(\u001b[0m\u001b[0;34m)\u001b[0m \u001b[0;34m)\u001b[0m\u001b[0;34m\u001b[0m\u001b[0;34m\u001b[0m\u001b[0m\n\u001b[0m",
      "\u001b[0;31mNameError\u001b[0m: name 'new_df' is not defined"
     ]
    }
   ],
   "source": [
    "print(new_df.index.min(),new_df.index.max(),final_df.index.min(),final_df.index.max() )"
   ]
  },
  {
   "cell_type": "code",
   "execution_count": null,
   "id": "f7b548c2-0945-4b37-9a45-660c885d2663",
   "metadata": {
    "execution": {
     "iopub.status.busy": "2023-01-16T20:41:01.731866Z",
     "iopub.status.idle": "2023-01-16T20:41:01.732207Z",
     "shell.execute_reply": "2023-01-16T20:41:01.732053Z",
     "shell.execute_reply.started": "2023-01-16T20:41:01.732037Z"
    },
    "tags": []
   },
   "outputs": [],
   "source": [
    "all_symbols_rdd = sc.parallelize(all_symbols) "
   ]
  },
  {
   "cell_type": "code",
   "execution_count": 120,
   "id": "eeed7ed0-7469-4eff-adf8-a977554f97ca",
   "metadata": {
    "execution": {
     "iopub.execute_input": "2023-01-16T21:55:16.122197Z",
     "iopub.status.busy": "2023-01-16T21:55:16.121768Z",
     "iopub.status.idle": "2023-01-16T21:55:21.084910Z",
     "shell.execute_reply": "2023-01-16T21:55:21.083788Z",
     "shell.execute_reply.started": "2023-01-16T21:55:16.122153Z"
    },
    "tags": []
   },
   "outputs": [
    {
     "ename": "PicklingError",
     "evalue": "Can't pickle <function metadata at 0x7f78bc09e9e0>: it's not the same object as pyEX.account.metadata",
     "output_type": "error",
     "traceback": [
      "\u001b[0;31m---------------------------------------------------------------------------\u001b[0m",
      "\u001b[0;31mPicklingError\u001b[0m                             Traceback (most recent call last)",
      "\u001b[0;32m/usr/local/bin/kernel-launchers/python/scripts/launch_ipykernel.py\u001b[0m in \u001b[0;36m<module>\u001b[0;34m\u001b[0m\n\u001b[1;32m     51\u001b[0m \u001b[0mmdg\u001b[0m\u001b[0;34m.\u001b[0m\u001b[0mset_highwatermarks\u001b[0m\u001b[0;34m(\u001b[0m\u001b[0;34m)\u001b[0m\u001b[0;34m\u001b[0m\u001b[0;34m\u001b[0m\u001b[0m\n\u001b[1;32m     52\u001b[0m \u001b[0mhighwatermark_pd_bc\u001b[0m \u001b[0;34m=\u001b[0m\u001b[0msc\u001b[0m\u001b[0;34m.\u001b[0m\u001b[0mbroadcast\u001b[0m\u001b[0;34m(\u001b[0m\u001b[0mmdg\u001b[0m\u001b[0;34m.\u001b[0m\u001b[0mhighwatermark_pd\u001b[0m\u001b[0;34m)\u001b[0m\u001b[0;34m\u001b[0m\u001b[0;34m\u001b[0m\u001b[0m\n\u001b[0;32m---> 53\u001b[0;31m \u001b[0mpyEX_cl_bc\u001b[0m \u001b[0;34m=\u001b[0m\u001b[0msc\u001b[0m\u001b[0;34m.\u001b[0m\u001b[0mbroadcast\u001b[0m\u001b[0;34m(\u001b[0m\u001b[0mpyEX_cl\u001b[0m\u001b[0;34m)\u001b[0m\u001b[0;34m\u001b[0m\u001b[0;34m\u001b[0m\u001b[0m\n\u001b[0m\u001b[1;32m     54\u001b[0m \u001b[0mcolumns_to_capture_bc\u001b[0m \u001b[0;34m=\u001b[0m\u001b[0msc\u001b[0m\u001b[0;34m.\u001b[0m\u001b[0mbroadcast\u001b[0m\u001b[0;34m(\u001b[0m\u001b[0mmdg\u001b[0m\u001b[0;34m.\u001b[0m\u001b[0mcolumns_to_capture\u001b[0m\u001b[0;34m)\u001b[0m\u001b[0;34m\u001b[0m\u001b[0;34m\u001b[0m\u001b[0m\n",
      "\u001b[0;32m/usr/lib/spark/python/lib/pyspark.zip/pyspark/context.py\u001b[0m in \u001b[0;36mbroadcast\u001b[0;34m(self, value)\u001b[0m\n\u001b[1;32m   1199\u001b[0m         \u001b[0mbe\u001b[0m \u001b[0msent\u001b[0m \u001b[0mto\u001b[0m \u001b[0meach\u001b[0m \u001b[0mcluster\u001b[0m \u001b[0monly\u001b[0m \u001b[0monce\u001b[0m\u001b[0;34m.\u001b[0m\u001b[0;34m\u001b[0m\u001b[0;34m\u001b[0m\u001b[0m\n\u001b[1;32m   1200\u001b[0m         \"\"\"\n\u001b[0;32m-> 1201\u001b[0;31m         \u001b[0;32mreturn\u001b[0m \u001b[0mBroadcast\u001b[0m\u001b[0;34m(\u001b[0m\u001b[0mself\u001b[0m\u001b[0;34m,\u001b[0m \u001b[0mvalue\u001b[0m\u001b[0;34m,\u001b[0m \u001b[0mself\u001b[0m\u001b[0;34m.\u001b[0m\u001b[0m_pickled_broadcast_vars\u001b[0m\u001b[0;34m)\u001b[0m\u001b[0;34m\u001b[0m\u001b[0;34m\u001b[0m\u001b[0m\n\u001b[0m\u001b[1;32m   1202\u001b[0m \u001b[0;34m\u001b[0m\u001b[0m\n\u001b[1;32m   1203\u001b[0m     def accumulator(\n",
      "\u001b[0;32m/usr/lib/spark/python/lib/pyspark.zip/pyspark/broadcast.py\u001b[0m in \u001b[0;36m__init__\u001b[0;34m(self, sc, value, pickle_registry, path, sock_file)\u001b[0m\n\u001b[1;32m    129\u001b[0m                 \u001b[0;31m# no encryption, we can just write pickled data directly to the file from python\u001b[0m\u001b[0;34m\u001b[0m\u001b[0;34m\u001b[0m\u001b[0;34m\u001b[0m\u001b[0m\n\u001b[1;32m    130\u001b[0m                 \u001b[0mbroadcast_out\u001b[0m \u001b[0;34m=\u001b[0m \u001b[0mf\u001b[0m\u001b[0;34m\u001b[0m\u001b[0;34m\u001b[0m\u001b[0m\n\u001b[0;32m--> 131\u001b[0;31m             \u001b[0mself\u001b[0m\u001b[0;34m.\u001b[0m\u001b[0mdump\u001b[0m\u001b[0;34m(\u001b[0m\u001b[0mvalue\u001b[0m\u001b[0;34m,\u001b[0m \u001b[0mbroadcast_out\u001b[0m\u001b[0;34m)\u001b[0m  \u001b[0;31m# type: ignore[arg-type]\u001b[0m\u001b[0;34m\u001b[0m\u001b[0;34m\u001b[0m\u001b[0m\n\u001b[0m\u001b[1;32m    132\u001b[0m             \u001b[0;32mif\u001b[0m \u001b[0msc\u001b[0m\u001b[0;34m.\u001b[0m\u001b[0m_encryption_enabled\u001b[0m\u001b[0;34m:\u001b[0m\u001b[0;34m\u001b[0m\u001b[0;34m\u001b[0m\u001b[0m\n\u001b[1;32m    133\u001b[0m                 \u001b[0mself\u001b[0m\u001b[0;34m.\u001b[0m\u001b[0m_python_broadcast\u001b[0m\u001b[0;34m.\u001b[0m\u001b[0mwaitTillDataReceived\u001b[0m\u001b[0;34m(\u001b[0m\u001b[0;34m)\u001b[0m\u001b[0;34m\u001b[0m\u001b[0;34m\u001b[0m\u001b[0m\n",
      "\u001b[0;32m/usr/lib/spark/python/lib/pyspark.zip/pyspark/broadcast.py\u001b[0m in \u001b[0;36mdump\u001b[0;34m(self, value, f)\u001b[0m\n\u001b[1;32m    151\u001b[0m     \u001b[0;32mdef\u001b[0m \u001b[0mdump\u001b[0m\u001b[0;34m(\u001b[0m\u001b[0mself\u001b[0m\u001b[0;34m,\u001b[0m \u001b[0mvalue\u001b[0m\u001b[0;34m:\u001b[0m \u001b[0mT\u001b[0m\u001b[0;34m,\u001b[0m \u001b[0mf\u001b[0m\u001b[0;34m:\u001b[0m \u001b[0mBinaryIO\u001b[0m\u001b[0;34m)\u001b[0m \u001b[0;34m->\u001b[0m \u001b[0;32mNone\u001b[0m\u001b[0;34m:\u001b[0m\u001b[0;34m\u001b[0m\u001b[0;34m\u001b[0m\u001b[0m\n\u001b[1;32m    152\u001b[0m         \u001b[0;32mtry\u001b[0m\u001b[0;34m:\u001b[0m\u001b[0;34m\u001b[0m\u001b[0;34m\u001b[0m\u001b[0m\n\u001b[0;32m--> 153\u001b[0;31m             \u001b[0mpickle\u001b[0m\u001b[0;34m.\u001b[0m\u001b[0mdump\u001b[0m\u001b[0;34m(\u001b[0m\u001b[0mvalue\u001b[0m\u001b[0;34m,\u001b[0m \u001b[0mf\u001b[0m\u001b[0;34m,\u001b[0m \u001b[0mpickle_protocol\u001b[0m\u001b[0;34m)\u001b[0m\u001b[0;34m\u001b[0m\u001b[0;34m\u001b[0m\u001b[0m\n\u001b[0m\u001b[1;32m    154\u001b[0m         \u001b[0;32mexcept\u001b[0m \u001b[0mpickle\u001b[0m\u001b[0;34m.\u001b[0m\u001b[0mPickleError\u001b[0m\u001b[0;34m:\u001b[0m\u001b[0;34m\u001b[0m\u001b[0;34m\u001b[0m\u001b[0m\n\u001b[1;32m    155\u001b[0m             \u001b[0;32mraise\u001b[0m\u001b[0;34m\u001b[0m\u001b[0;34m\u001b[0m\u001b[0m\n",
      "\u001b[0;31mPicklingError\u001b[0m: Can't pickle <function metadata at 0x7f78bc09e9e0>: it's not the same object as pyEX.account.metadata"
     ]
    }
   ],
   "source": [
    "class MarketDataGateway():\n",
    "    def __init__(self):\n",
    "        self.fx_etf_symbols = ['FXA','FXY','FXE','FXB','UUP','FXC','FXF',]\n",
    "        self.bitcoin_etf_symbols = ['BITO','BTF','XBTF','BITS','GBTC','BITW','BLOK','BLCN','LEGR','SPBC','BITQ','BKCH','DAPP','BTCFX']\n",
    "        self.bitcoin_equity_proxy_symbols = ['COIN','MSTR']\n",
    "        self.crypto_mining_symbols = ['RIOT','CAN','HUT','HIVE','MARA','BTCM','BTBT','BITF']\n",
    "        self.commod_etf_symbols = ['USO','GLD','DBA','DBB','SLV',]\n",
    "        self.fi_etf_symbols = ['IAGG','AGG','IHY','EMLC','HYG',]\n",
    "        self.equity_etf_symbols = ['AMJ','AMLP','ARKF','ARKG','ARKK','ARKQ','ARKW','BOTZ','BUG','CGW','CIBR','COPX','CRBN','DRIV','EFV','EMLP','FBT','FDN','FIVG',\n",
    "                'FIW','FTXG','GDX','GNR','GUNR','HACK','IAT','IBB','ICLN','IEO','IFRA','IGE','IGF','IGM','IGV','IHF','IHI','ITB','ITZ','IWD','IWN','IWS','IYT','JETS','KBWB',\n",
    "                      'KOMP','KRE','KWEB','LCTU','LIT','MLPA',\n",
    "                    'MLPX','MOO','NFRA','OIH','PABU','PAVE','PBW','PEJ','PHO','PICK','PPA','QCLN','REET','REMX','ROBO','SCHH','SIL','SKYY','SMH','SOXX','SRVR','TAN','URA','URNM',\n",
    "                      'VUG','XAR','XBI','XHB','XME','XOP','XSD','QQQ','EWZ','AAXJ','VTI','EWJ','EWA','EWC','MCHI','EWU','EWQ','EWG','FM','EIS']\n",
    "        self.sectors = ['XLC','XLY','XLP','XLE','XLF','XLV','XLI','XLB','XLRE','XLK','XLU']\n",
    "        self.bench_symbol=['SPY','QQQ','IVV']\n",
    "        self.all_symbols =self.fx_etf_symbols+\\\n",
    "                            self.bitcoin_etf_symbols+\\\n",
    "                            self.commod_etf_symbols+\\\n",
    "                            self.bitcoin_equity_proxy_symbols+\\\n",
    "                            self.crypto_mining_symbols+\\\n",
    "                            self.fi_etf_symbols+\\\n",
    "                            self.equity_etf_symbols+\\\n",
    "                            self.bench_symbol+\\\n",
    "                            self.sectors\n",
    "        self.all_symbols_df = spark.createDataFrame(pd.DataFrame(self.all_symbols,columns=['symbol']))\n",
    "        #all_symbols\n",
    "        self.columns_to_capture = ['close','open','symbol']\n",
    "        self.data_folder = 's3://fsidatalake/eod_market_data/etf_trend_following/'\n",
    "        self.parquet_file_out =f\"{self.data_folder}/etf_market_data.parquet\"\n",
    "        \n",
    "    def set_highwatermarks(self):\n",
    "        self.old_df = spark.read.parquet(self.parquet_file_out)\n",
    "        self.highwatermark_pd = self.old_df.groupby('symbol').agg(py_f.max(\"date\").alias(\"max_date\"),\n",
    "                             py_f.min(\"date\").alias(\"min_date\"),\n",
    "                             (py_f.max(\"date\")-py_f.min(\"date\")).alias(\"date_length\")\n",
    "                            ).toPandas()\n",
    "\n",
    "#@py_f.pandas_udf(\"date timestamp, close double, open double, symbol string\", py_f.PandasUDFType.GROUPED_MAP)\n",
    "@py_f.pandas_udf(\"symbol string\", py_f.PandasUDFType.GROUPED_MAP)\n",
    "def get_new_data_df(symbol):\n",
    "    hwm_l=highwatermark_pd_bc.value\n",
    "    symbol=symbol\n",
    "    #pyEX_cl = p.Client(api_token=token)\n",
    "    l_pd= pyEX_cl_bc.chart(symbol=sym, timeframe=timeframe,last=last_days).query(f\"date>'{(max_date).strftime('%Y-%m-%d')}'\")\n",
    "    v= vbt.portfolio.SizeType.Value\n",
    "    #return(l_pd[columns_to_capture_bc.value])\n",
    "    return(symbol)\n",
    "        \n",
    "        \n",
    "mdg=MarketDataGateway()\n",
    "mdg.set_highwatermarks()\n",
    "highwatermark_pd_bc =sc.broadcast(mdg.highwatermark_pd)\n",
    "columns_to_capture_bc =sc.broadcast(mdg.columns_to_capture)"
   ]
  },
  {
   "cell_type": "code",
   "execution_count": null,
   "id": "9711086d-f0e5-44bd-b32b-548816b9c6d8",
   "metadata": {
    "execution": {
     "iopub.status.busy": "2023-01-16T21:55:21.085703Z",
     "iopub.status.idle": "2023-01-16T21:55:21.086091Z",
     "shell.execute_reply": "2023-01-16T21:55:21.085942Z",
     "shell.execute_reply.started": "2023-01-16T21:55:21.085927Z"
    },
    "tags": []
   },
   "outputs": [],
   "source": [
    "mdg.all_symbols_df.groupby(\"symbol\").apply(get_new_data_df).show()"
   ]
  },
  {
   "cell_type": "code",
   "execution_count": 30,
   "id": "fb2d50bd-5ddd-4cd4-a3fb-e6d73d1ea364",
   "metadata": {
    "execution": {
     "iopub.execute_input": "2023-01-16T20:51:34.941519Z",
     "iopub.status.busy": "2023-01-16T20:51:34.940802Z",
     "iopub.status.idle": "2023-01-16T20:51:34.956901Z",
     "shell.execute_reply": "2023-01-16T20:51:34.955888Z",
     "shell.execute_reply.started": "2023-01-16T20:51:34.941489Z"
    },
    "tags": []
   },
   "outputs": [],
   "source": [
    "lpd=mdg.highwatermark_pd\n",
    "sym='ARKF'\n",
    "max_date = lpd.query(f\"symbol=='{sym}'\")['max_date'].iloc[0]\n",
    "last_days=(datetime.datetime.now()-max_date).days\n",
    "res_pd = pyEX_cl.chartDF(symbol=sym, timeframe=timeframe,last=last_days).query(f\"date>'{(max_date).strftime('%Y-%m-%d')}'\")\n"
   ]
  },
  {
   "cell_type": "code",
   "execution_count": 117,
   "id": "45a5624c-5627-43ab-834c-0bad2aba28d2",
   "metadata": {
    "execution": {
     "iopub.execute_input": "2023-01-16T21:53:15.932083Z",
     "iopub.status.busy": "2023-01-16T21:53:15.931476Z",
     "iopub.status.idle": "2023-01-16T21:53:15.937661Z",
     "shell.execute_reply": "2023-01-16T21:53:15.936849Z",
     "shell.execute_reply.started": "2023-01-16T21:53:15.932048Z"
    },
    "tags": []
   },
   "outputs": [
    {
     "data": {
      "text/plain": [
       "1"
      ]
     },
     "execution_count": 117,
     "metadata": {},
     "output_type": "execute_result"
    }
   ],
   "source": [
    "vbt.portfolio.SizeType.Value"
   ]
  },
  {
   "cell_type": "code",
   "execution_count": 54,
   "id": "9c2c739a-81cf-4989-9263-7af0f517695a",
   "metadata": {
    "execution": {
     "iopub.execute_input": "2023-01-16T21:09:09.223672Z",
     "iopub.status.busy": "2023-01-16T21:09:09.223221Z",
     "iopub.status.idle": "2023-01-16T21:09:09.235004Z",
     "shell.execute_reply": "2023-01-16T21:09:09.234238Z",
     "shell.execute_reply.started": "2023-01-16T21:09:09.223641Z"
    },
    "tags": []
   },
   "outputs": [
    {
     "data": {
      "text/plain": [
       "[('symbol', 'FXA'),\n",
       " ('symbol', 'FXY'),\n",
       " ('symbol', 'FXE'),\n",
       " ('symbol', 'FXB'),\n",
       " ('symbol', 'UUP'),\n",
       " ('symbol', 'FXC'),\n",
       " ('symbol', 'FXF'),\n",
       " ('symbol', 'BITO'),\n",
       " ('symbol', 'BTF'),\n",
       " ('symbol', 'XBTF'),\n",
       " ('symbol', 'BITS'),\n",
       " ('symbol', 'GBTC'),\n",
       " ('symbol', 'BITW'),\n",
       " ('symbol', 'BLOK'),\n",
       " ('symbol', 'BLCN'),\n",
       " ('symbol', 'LEGR'),\n",
       " ('symbol', 'SPBC'),\n",
       " ('symbol', 'BITQ'),\n",
       " ('symbol', 'BKCH'),\n",
       " ('symbol', 'DAPP'),\n",
       " ('symbol', 'BTCFX'),\n",
       " ('symbol', 'USO'),\n",
       " ('symbol', 'GLD'),\n",
       " ('symbol', 'DBA'),\n",
       " ('symbol', 'DBB'),\n",
       " ('symbol', 'SLV'),\n",
       " ('symbol', 'COIN'),\n",
       " ('symbol', 'MSTR'),\n",
       " ('symbol', 'RIOT'),\n",
       " ('symbol', 'CAN'),\n",
       " ('symbol', 'HUT'),\n",
       " ('symbol', 'HIVE'),\n",
       " ('symbol', 'MARA'),\n",
       " ('symbol', 'BTCM'),\n",
       " ('symbol', 'BTBT'),\n",
       " ('symbol', 'BITF'),\n",
       " ('symbol', 'IAGG'),\n",
       " ('symbol', 'AGG'),\n",
       " ('symbol', 'IHY'),\n",
       " ('symbol', 'EMLC'),\n",
       " ('symbol', 'HYG'),\n",
       " ('symbol', 'AMJ'),\n",
       " ('symbol', 'AMLP'),\n",
       " ('symbol', 'ARKF'),\n",
       " ('symbol', 'ARKG'),\n",
       " ('symbol', 'ARKK'),\n",
       " ('symbol', 'ARKQ'),\n",
       " ('symbol', 'ARKW'),\n",
       " ('symbol', 'BOTZ'),\n",
       " ('symbol', 'BUG'),\n",
       " ('symbol', 'CGW'),\n",
       " ('symbol', 'CIBR'),\n",
       " ('symbol', 'COPX'),\n",
       " ('symbol', 'CRBN'),\n",
       " ('symbol', 'DRIV'),\n",
       " ('symbol', 'EFV'),\n",
       " ('symbol', 'EMLP'),\n",
       " ('symbol', 'FBT'),\n",
       " ('symbol', 'FDN'),\n",
       " ('symbol', 'FIVG'),\n",
       " ('symbol', 'FIW'),\n",
       " ('symbol', 'FTXG'),\n",
       " ('symbol', 'GDX'),\n",
       " ('symbol', 'GNR'),\n",
       " ('symbol', 'GUNR'),\n",
       " ('symbol', 'HACK'),\n",
       " ('symbol', 'IAT'),\n",
       " ('symbol', 'IBB'),\n",
       " ('symbol', 'ICLN'),\n",
       " ('symbol', 'IEO'),\n",
       " ('symbol', 'IFRA'),\n",
       " ('symbol', 'IGE'),\n",
       " ('symbol', 'IGF'),\n",
       " ('symbol', 'IGM'),\n",
       " ('symbol', 'IGV'),\n",
       " ('symbol', 'IHF'),\n",
       " ('symbol', 'IHI'),\n",
       " ('symbol', 'ITB'),\n",
       " ('symbol', 'ITZ'),\n",
       " ('symbol', 'IWD'),\n",
       " ('symbol', 'IWN'),\n",
       " ('symbol', 'IWS'),\n",
       " ('symbol', 'IYT'),\n",
       " ('symbol', 'JETS'),\n",
       " ('symbol', 'KBWB'),\n",
       " ('symbol', 'KOMP'),\n",
       " ('symbol', 'KRE'),\n",
       " ('symbol', 'KWEB'),\n",
       " ('symbol', 'LCTU'),\n",
       " ('symbol', 'LIT'),\n",
       " ('symbol', 'MLPA'),\n",
       " ('symbol', 'MLPX'),\n",
       " ('symbol', 'MOO'),\n",
       " ('symbol', 'NFRA'),\n",
       " ('symbol', 'OIH'),\n",
       " ('symbol', 'PABU'),\n",
       " ('symbol', 'PAVE'),\n",
       " ('symbol', 'PBW'),\n",
       " ('symbol', 'PEJ'),\n",
       " ('symbol', 'PHO'),\n",
       " ('symbol', 'PICK'),\n",
       " ('symbol', 'PPA'),\n",
       " ('symbol', 'QCLN'),\n",
       " ('symbol', 'REET'),\n",
       " ('symbol', 'REMX'),\n",
       " ('symbol', 'ROBO'),\n",
       " ('symbol', 'SCHH'),\n",
       " ('symbol', 'SIL'),\n",
       " ('symbol', 'SKYY'),\n",
       " ('symbol', 'SMH'),\n",
       " ('symbol', 'SOXX'),\n",
       " ('symbol', 'SRVR'),\n",
       " ('symbol', 'TAN'),\n",
       " ('symbol', 'URA'),\n",
       " ('symbol', 'URNM'),\n",
       " ('symbol', 'VUG'),\n",
       " ('symbol', 'XAR'),\n",
       " ('symbol', 'XBI'),\n",
       " ('symbol', 'XHB'),\n",
       " ('symbol', 'XME'),\n",
       " ('symbol', 'XOP'),\n",
       " ('symbol', 'XSD'),\n",
       " ('symbol', 'QQQ'),\n",
       " ('symbol', 'EWZ'),\n",
       " ('symbol', 'AAXJ'),\n",
       " ('symbol', 'VTI'),\n",
       " ('symbol', 'EWJ'),\n",
       " ('symbol', 'EWA'),\n",
       " ('symbol', 'EWC'),\n",
       " ('symbol', 'MCHI'),\n",
       " ('symbol', 'EWU'),\n",
       " ('symbol', 'EWQ'),\n",
       " ('symbol', 'EWG'),\n",
       " ('symbol', 'FM'),\n",
       " ('symbol', 'EIS'),\n",
       " ('symbol', 'SPY'),\n",
       " ('symbol', 'QQQ'),\n",
       " ('symbol', 'IVV'),\n",
       " ('symbol', 'XLC'),\n",
       " ('symbol', 'XLY'),\n",
       " ('symbol', 'XLP'),\n",
       " ('symbol', 'XLE'),\n",
       " ('symbol', 'XLF'),\n",
       " ('symbol', 'XLV'),\n",
       " ('symbol', 'XLI'),\n",
       " ('symbol', 'XLB'),\n",
       " ('symbol', 'XLRE'),\n",
       " ('symbol', 'XLK'),\n",
       " ('symbol', 'XLU')]"
      ]
     },
     "execution_count": 54,
     "metadata": {},
     "output_type": "execute_result"
    }
   ],
   "source": [
    "[('symbol',i) for i in mdg.all_symbols ]"
   ]
  },
  {
   "cell_type": "code",
   "execution_count": 109,
   "id": "24520251-97d6-492a-9fac-9475504d47c5",
   "metadata": {
    "execution": {
     "iopub.execute_input": "2023-01-16T20:33:42.761799Z",
     "iopub.status.busy": "2023-01-16T20:33:42.761364Z",
     "iopub.status.idle": "2023-01-16T20:33:42.780884Z",
     "shell.execute_reply": "2023-01-16T20:33:42.779778Z",
     "shell.execute_reply.started": "2023-01-16T20:33:42.761766Z"
    },
    "tags": []
   },
   "outputs": [
    {
     "ename": "TypeError",
     "evalue": "Addition/subtraction of integers and integer-arrays with Timestamp is no longer supported.  Instead of adding/subtracting `n`, use `n * obj.freq`",
     "output_type": "error",
     "traceback": [
      "\u001b[0;31m---------------------------------------------------------------------------\u001b[0m",
      "\u001b[0;31mTypeError\u001b[0m                                 Traceback (most recent call last)",
      "\u001b[0;32m/usr/local/bin/kernel-launchers/python/scripts/launch_ipykernel.py\u001b[0m in \u001b[0;36m<module>\u001b[0;34m\u001b[0m\n\u001b[0;32m----> 1\u001b[0;31m \u001b[0;34m(\u001b[0m\u001b[0mmax_date\u001b[0m\u001b[0;34m-\u001b[0m\u001b[0;36m10\u001b[0m\u001b[0;34m)\u001b[0m\u001b[0;34m.\u001b[0m\u001b[0mstrftime\u001b[0m\u001b[0;34m(\u001b[0m\u001b[0;34m'%Y-%m-%d'\u001b[0m\u001b[0;34m)\u001b[0m\u001b[0;34m\u001b[0m\u001b[0;34m\u001b[0m\u001b[0m\n\u001b[0m",
      "\u001b[0;32m/usr/local/lib64/python3.7/site-packages/pandas/_libs/tslibs/timestamps.pyx\u001b[0m in \u001b[0;36mpandas._libs.tslibs.timestamps._Timestamp.__sub__\u001b[0;34m()\u001b[0m\n",
      "\u001b[0;32m/usr/local/lib64/python3.7/site-packages/pandas/_libs/tslibs/timestamps.pyx\u001b[0m in \u001b[0;36mpandas._libs.tslibs.timestamps._Timestamp.__add__\u001b[0;34m()\u001b[0m\n",
      "\u001b[0;31mTypeError\u001b[0m: Addition/subtraction of integers and integer-arrays with Timestamp is no longer supported.  Instead of adding/subtracting `n`, use `n * obj.freq`"
     ]
    }
   ],
   "source": [
    "(max_date-10).strftime('%Y-%m-%d')"
   ]
  },
  {
   "cell_type": "code",
   "execution_count": 100,
   "id": "9d4ea8d3-4797-42e5-9991-c116cb05b642",
   "metadata": {
    "execution": {
     "iopub.execute_input": "2023-01-16T20:27:11.410442Z",
     "iopub.status.busy": "2023-01-16T20:27:11.409987Z",
     "iopub.status.idle": "2023-01-16T20:27:11.423811Z",
     "shell.execute_reply": "2023-01-16T20:27:11.422977Z",
     "shell.execute_reply.started": "2023-01-16T20:27:11.410412Z"
    }
   },
   "outputs": [
    {
     "data": {
      "text/html": [
       "<div>\n",
       "<style scoped>\n",
       "    .dataframe tbody tr th:only-of-type {\n",
       "        vertical-align: middle;\n",
       "    }\n",
       "\n",
       "    .dataframe tbody tr th {\n",
       "        vertical-align: top;\n",
       "    }\n",
       "\n",
       "    .dataframe thead th {\n",
       "        text-align: right;\n",
       "    }\n",
       "</style>\n",
       "<table border=\"1\" class=\"dataframe\">\n",
       "  <thead>\n",
       "    <tr style=\"text-align: right;\">\n",
       "      <th></th>\n",
       "      <th>symbol</th>\n",
       "      <th>max_date</th>\n",
       "      <th>min_date</th>\n",
       "      <th>date_length</th>\n",
       "    </tr>\n",
       "  </thead>\n",
       "  <tbody>\n",
       "    <tr>\n",
       "      <th>0</th>\n",
       "      <td>IWN</td>\n",
       "      <td>2023-01-13</td>\n",
       "      <td>2006-12-29</td>\n",
       "      <td>5859 days</td>\n",
       "    </tr>\n",
       "    <tr>\n",
       "      <th>1</th>\n",
       "      <td>EIS</td>\n",
       "      <td>2023-01-13</td>\n",
       "      <td>2008-05-29</td>\n",
       "      <td>5342 days</td>\n",
       "    </tr>\n",
       "    <tr>\n",
       "      <th>2</th>\n",
       "      <td>EMLC</td>\n",
       "      <td>2023-01-13</td>\n",
       "      <td>2010-07-23</td>\n",
       "      <td>4557 days</td>\n",
       "    </tr>\n",
       "    <tr>\n",
       "      <th>3</th>\n",
       "      <td>XSD</td>\n",
       "      <td>2023-01-13</td>\n",
       "      <td>2007-03-01</td>\n",
       "      <td>5797 days</td>\n",
       "    </tr>\n",
       "    <tr>\n",
       "      <th>4</th>\n",
       "      <td>REMX</td>\n",
       "      <td>2023-01-13</td>\n",
       "      <td>2010-10-28</td>\n",
       "      <td>4460 days</td>\n",
       "    </tr>\n",
       "    <tr>\n",
       "      <th>...</th>\n",
       "      <td>...</td>\n",
       "      <td>...</td>\n",
       "      <td>...</td>\n",
       "      <td>...</td>\n",
       "    </tr>\n",
       "    <tr>\n",
       "      <th>119</th>\n",
       "      <td>URNM</td>\n",
       "      <td>2023-01-13</td>\n",
       "      <td>2019-12-04</td>\n",
       "      <td>1136 days</td>\n",
       "    </tr>\n",
       "    <tr>\n",
       "      <th>120</th>\n",
       "      <td>KOMP</td>\n",
       "      <td>2023-01-13</td>\n",
       "      <td>2018-10-23</td>\n",
       "      <td>1543 days</td>\n",
       "    </tr>\n",
       "    <tr>\n",
       "      <th>121</th>\n",
       "      <td>XLC</td>\n",
       "      <td>2023-01-13</td>\n",
       "      <td>2018-06-19</td>\n",
       "      <td>1669 days</td>\n",
       "    </tr>\n",
       "    <tr>\n",
       "      <th>122</th>\n",
       "      <td>FIVG</td>\n",
       "      <td>2023-01-13</td>\n",
       "      <td>2019-03-05</td>\n",
       "      <td>1410 days</td>\n",
       "    </tr>\n",
       "    <tr>\n",
       "      <th>123</th>\n",
       "      <td>ARKF</td>\n",
       "      <td>2023-01-13</td>\n",
       "      <td>2019-02-04</td>\n",
       "      <td>1439 days</td>\n",
       "    </tr>\n",
       "  </tbody>\n",
       "</table>\n",
       "<p>124 rows × 4 columns</p>\n",
       "</div>"
      ],
      "text/plain": [
       "    symbol   max_date   min_date date_length\n",
       "0      IWN 2023-01-13 2006-12-29   5859 days\n",
       "1      EIS 2023-01-13 2008-05-29   5342 days\n",
       "2     EMLC 2023-01-13 2010-07-23   4557 days\n",
       "3      XSD 2023-01-13 2007-03-01   5797 days\n",
       "4     REMX 2023-01-13 2010-10-28   4460 days\n",
       "..     ...        ...        ...         ...\n",
       "119   URNM 2023-01-13 2019-12-04   1136 days\n",
       "120   KOMP 2023-01-13 2018-10-23   1543 days\n",
       "121    XLC 2023-01-13 2018-06-19   1669 days\n",
       "122   FIVG 2023-01-13 2019-03-05   1410 days\n",
       "123   ARKF 2023-01-13 2019-02-04   1439 days\n",
       "\n",
       "[124 rows x 4 columns]"
      ]
     },
     "execution_count": 100,
     "metadata": {},
     "output_type": "execute_result"
    }
   ],
   "source": [
    "lpd"
   ]
  },
  {
   "cell_type": "code",
   "execution_count": null,
   "id": "05ad23ba-bfa8-4a5e-af25-184365c848c4",
   "metadata": {},
   "outputs": [],
   "source": []
  }
 ],
 "metadata": {
  "kernelspec": {
   "display_name": "PySpark (Kubernetes)",
   "language": "python",
   "name": "spark_python_kubernetes"
  },
  "language_info": {
   "codemirror_mode": {
    "name": "ipython",
    "version": 3
   },
   "file_extension": ".py",
   "mimetype": "text/x-python",
   "name": "python",
   "nbconvert_exporter": "python",
   "pygments_lexer": "ipython3",
   "version": "3.7.10"
  }
 },
 "nbformat": 4,
 "nbformat_minor": 5
}
