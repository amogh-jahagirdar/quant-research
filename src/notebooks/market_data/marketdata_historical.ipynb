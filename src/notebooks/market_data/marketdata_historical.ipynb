{
 "cells": [
  {
   "cell_type": "code",
   "execution_count": null,
   "id": "52f0683d-273b-400f-99c5-22a5b251288d",
   "metadata": {
    "execution": {
     "iopub.execute_input": "2023-01-16T16:24:24.465051Z",
     "iopub.status.busy": "2023-01-16T16:24:24.464589Z"
    },
    "tags": []
   },
   "outputs": [
    {
     "name": "stderr",
     "output_type": "stream",
     "text": [
      "[I 2023-01-16 16:24:24,466.466 configure_magic] Magic cell payload received: {\"conf\": {\"spark.pyspark.python\": \"python\", \"spark.pyspark.virtualenv.enabled\": \"true\", \"spark.pyspark.virtualenv.type\": \"native\", \"spark.pyspark.virtualenv.bin.path\": \"/usr/bin/virtualenv\"}, \"proxyUser\": \"assumed-role_fdp_blitvin-Isengard\"}\n",
      "\n",
      "[I 2023-01-16 16:24:24,467.467 configure_magic] Sending request to update kernel. Please wait while the kernel will be refreshed.\n"
     ]
    }
   ],
   "source": [
    "%%configure -f\n",
    "{ \"conf\":{\n",
    "          \"spark.pyspark.python\": \"python3\",\n",
    "          \"spark.pyspark.virtualenv.enabled\": \"true\",\n",
    "          \"spark.pyspark.virtualenv.type\":\"native\",\n",
    "          \"spark.pyspark.virtualenv.bin.path\":\"/usr/bin/virtualenv\"\n",
    "         }\n",
    "}"
   ]
  },
  {
   "cell_type": "code",
   "execution_count": null,
   "id": "1ab8a1bd-e038-49e6-a7b8-7aa66e90c24e",
   "metadata": {},
   "outputs": [],
   "source": [
    "%pip install pyEX"
   ]
  },
  {
   "cell_type": "code",
   "execution_count": 5,
   "id": "e27b0e40",
   "metadata": {
    "execution": {
     "iopub.execute_input": "2023-01-16T16:22:39.298950Z",
     "iopub.status.busy": "2023-01-16T16:22:39.298499Z",
     "iopub.status.idle": "2023-01-16T16:22:39.309070Z",
     "shell.execute_reply": "2023-01-16T16:22:39.308179Z",
     "shell.execute_reply.started": "2023-01-16T16:22:39.298920Z"
    },
    "tags": []
   },
   "outputs": [
    {
     "ename": "ModuleNotFoundError",
     "evalue": "No module named 'pyEX'",
     "output_type": "error",
     "traceback": [
      "\u001b[0;31m---------------------------------------------------------------------------\u001b[0m",
      "\u001b[0;31mModuleNotFoundError\u001b[0m                       Traceback (most recent call last)",
      "\u001b[0;32m/usr/local/bin/kernel-launchers/python/scripts/launch_ipykernel.py\u001b[0m in \u001b[0;36m<module>\u001b[0;34m\u001b[0m\n\u001b[0;32m----> 1\u001b[0;31m \u001b[0;32mimport\u001b[0m \u001b[0mpyEX\u001b[0m \u001b[0;32mas\u001b[0m \u001b[0mp\u001b[0m\u001b[0;34m\u001b[0m\u001b[0;34m\u001b[0m\u001b[0m\n\u001b[0m\u001b[1;32m      2\u001b[0m \u001b[0;32mimport\u001b[0m \u001b[0mpandas\u001b[0m \u001b[0;32mas\u001b[0m \u001b[0mpd\u001b[0m\u001b[0;34m\u001b[0m\u001b[0;34m\u001b[0m\u001b[0m\n\u001b[1;32m      3\u001b[0m \u001b[0;32mimport\u001b[0m \u001b[0mnumpy\u001b[0m \u001b[0;32mas\u001b[0m \u001b[0mnp\u001b[0m\u001b[0;34m\u001b[0m\u001b[0;34m\u001b[0m\u001b[0m\n\u001b[1;32m      4\u001b[0m \u001b[0;32mimport\u001b[0m \u001b[0mpyfolio\u001b[0m \u001b[0;32mas\u001b[0m \u001b[0mpf\u001b[0m\u001b[0;34m\u001b[0m\u001b[0;34m\u001b[0m\u001b[0m\n\u001b[1;32m      5\u001b[0m \u001b[0;31m#import vectorbt as vbt\u001b[0m\u001b[0;34m\u001b[0m\u001b[0;34m\u001b[0m\u001b[0;34m\u001b[0m\u001b[0m\n",
      "\u001b[0;31mModuleNotFoundError\u001b[0m: No module named 'pyEX'"
     ]
    }
   ],
   "source": [
    "import pyEX as p\n",
    "import pandas as pd\n",
    "import numpy as np\n",
    "import pyfolio as pf\n",
    "#import vectorbt as vbt\n",
    "import matplotlib.pyplot as plt \n",
    "import itertools \n",
    "import awswrangler as wr\n",
    "isSandbox = False\n",
    "if isSandbox:\n",
    "    token ='Tpk_02dcd2036e7641b880dd4cbb01fa9c67'\n",
    "    iex_ver = 'sandbox'\n",
    "else:\n",
    "    token ='pk_2e94555e43da4135a6032433c6b18fa5'\n",
    "    iex_ver = 'stable'\n",
    "pyEX_cl = p.Client(api_token=token)\n",
    "timeframe='max'"
   ]
  },
  {
   "cell_type": "code",
   "execution_count": null,
   "id": "92276f70",
   "metadata": {},
   "outputs": [],
   "source": [
    "fx_etf_symbols = ['FXA','FXY','FXE','FXB','UUP','FXC','FXF',]\n",
    "bitcoin_etf_symbols = ['BITO']\n",
    "commod_etf_symbols = ['USO','GLD','DBA','DBB','SLV',]\n",
    "fi_etf_symbols = ['IAGG','AGG','IHY','EMLC','HYG',]\n",
    "equity_etf_symbols = ['AMJ','AMLP','ARKF','ARKG','ARKK','ARKQ','ARKW','BOTZ','BUG','CGW','CIBR','COPX','CRBN','DRIV','EFV','EMLP','FBT','FDN','FIVG',\n",
    "'FIW','FTXG','GDX','GNR','GUNR','HACK','IAT','IBB','ICLN','IEO','IFRA','IGE','IGF','IGM','IGV','IHF','IHI','ITB','ITZ','IWD','IWN','IWS','IYT','JETS','KBWB',\n",
    "                      'KOMP','KRE','KWEB','LCTU','LIT','MLPA',\n",
    "'MLPX','MOO','NFRA','OIH','PABU','PAVE','PBW','PEJ','PHO','PICK','PPA','QCLN','REET','REMX','ROBO','SCHH','SIL','SKYY','SMH','SOXX','SRVR','TAN','URA','URNM',\n",
    "                      'VUG','XAR','XBI','XHB','XME','XOP','XSD','QQQ','EWZ','AAXJ','VTI','EWJ','EWA','EWC','MCHI','EWU','EWQ','EWG','FM','EIS']\n",
    "sectors = ['XLC','XLY','XLP','XLE','XLF','XLV','XLI','XLB','XLRE','XLK','XLU']\n",
    "bench_symbol=['SPY','QQQ','IVV']\n",
    "all_symbols =fx_etf_symbols+bitcoin_etf_symbols+commod_etf_symbols+fi_etf_symbols+equity_etf_symbols+bench_symbol+sectors\n",
    "#all_symbols\n",
    "columns_to_capture = ['close','open','symbol']\n",
    "data_folder = 's3://fsidatalake/eod_market_data/etf_trend_following/'"
   ]
  },
  {
   "cell_type": "code",
   "execution_count": null,
   "id": "6876cc4f-8958-462f-952c-ff9dc7da6c96",
   "metadata": {},
   "outputs": [],
   "source": [
    "def get_full_file_name(data_folder,one_sym):\n",
    "    return(f\"{data_folder}{one_sym}.parquet\")\n",
    "def combine_new_and_stored_data(new_df,file_name,columns_to_capture):\n",
    "    try:\n",
    "        old_pd = pd.read_parquet(file_name)\n",
    "        final_df=pd.concat([old_pd,new_df[columns_to_capture]]).drop_duplicates().sort_index()\n",
    "    except Exception as l_exc:\n",
    "        final_df=new_df.drop_duplicates().sort_index()\n",
    "    return(final_df)\n",
    "if False:\n",
    "    for one_sym in all_symbols:\n",
    "        try:\n",
    "            new_df = pyEX_cl.chartDF(symbol=one_sym, timeframe=timeframe)\n",
    "            file_name = get_full_file_name(data_folder,one_sym)\n",
    "            final_df = combine_new_and_stored_data(new_df,file_name,columns_to_capture)\n",
    "            assert final_df['symbol'].values[0]==one_sym, 'STOP!!!'\n",
    "            assert one_sym in file_name, 'STOP!!!'\n",
    "            final_df[columns_to_capture].to_parquet(file_name,index=True)\n",
    "        except Exception as l_exc:\n",
    "            print(f\"exc:{one_sym}, {l_exc}\")\n",
    "        #break"
   ]
  },
  {
   "cell_type": "code",
   "execution_count": null,
   "id": "91fd238c-883a-40ea-887b-9c32196e8779",
   "metadata": {},
   "outputs": [],
   "source": [
    "print(new_df.index.min(),new_df.index.max(),final_df.index.min(),final_df.index.max() )"
   ]
  },
  {
   "cell_type": "code",
   "execution_count": null,
   "id": "029dc2fa-7fb3-4e77-bd69-f716a59ab36c",
   "metadata": {},
   "outputs": [],
   "source": []
  }
 ],
 "metadata": {
  "kernelspec": {
   "display_name": "PySpark (Kubernetes)",
   "language": "python",
   "name": "spark_python_kubernetes"
  },
  "language_info": {
   "codemirror_mode": {
    "name": "ipython",
    "version": 3
   },
   "file_extension": ".py",
   "mimetype": "text/x-python",
   "name": "python",
   "nbconvert_exporter": "python",
   "pygments_lexer": "ipython3",
   "version": "3.7.10"
  }
 },
 "nbformat": 4,
 "nbformat_minor": 5
}
