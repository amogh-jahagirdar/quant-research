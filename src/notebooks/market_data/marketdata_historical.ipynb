{
 "cells": [
  {
   "cell_type": "code",
   "execution_count": 2,
   "id": "52f0683d-273b-400f-99c5-22a5b251288d",
   "metadata": {
    "execution": {
     "iopub.execute_input": "2023-01-28T18:24:11.315918Z",
     "iopub.status.busy": "2023-01-28T18:24:11.315485Z",
     "iopub.status.idle": "2023-01-28T18:24:25.924452Z",
     "shell.execute_reply": "2023-01-28T18:24:25.924365Z",
     "shell.execute_reply.started": "2023-01-28 18:24:11.317794+00:00"
    },
    "tags": []
   },
   "outputs": [
    {
     "name": "stderr",
     "output_type": "stream",
     "text": [
      "[I 2023-01-28 18:24:11,317.317 configure_magic] Magic cell payload received: {\"conf\": {\"spark.pyspark.python\": \"python3\", \"spark.pyspark.virtualenv.enabled\": \"true\", \"spark.pyspark.virtualenv.type\": \"native\", \"spark.pyspark.virtualenv.bin.path\": \"/usr/bin/virtualenv\", \"spark.sql.execution.arrow.enabled\": \"true\"}, \"proxyUser\": \"assumed-role_fdp_blitvin-Isengard\"}\n",
      "\n",
      "[I 2023-01-28 18:24:11,317.317 configure_magic] Sending request to update kernel. Please wait while the kernel will be refreshed.\n"
     ]
    },
    {
     "name": "stdout",
     "output_type": "stream",
     "text": [
      "The kernel is successfully refreshed."
     ]
    }
   ],
   "source": [
    "%%configure -f\n",
    "{ \"conf\":{\n",
    "          \"spark.pyspark.python\": \"python3\",\n",
    "          \"spark.pyspark.virtualenv.enabled\": \"true\",\n",
    "          \"spark.pyspark.virtualenv.type\":\"native\",\n",
    "          \"spark.pyspark.virtualenv.bin.path\":\"/usr/bin/virtualenv\",\n",
    "          \"spark.sql.execution.arrow.enabled\":\"true\"\n",
    "         }\n",
    "}"
   ]
  },
  {
   "cell_type": "code",
   "execution_count": 3,
   "id": "1ab8a1bd-e038-49e6-a7b8-7aa66e90c24e",
   "metadata": {
    "execution": {
     "iopub.execute_input": "2023-01-28T18:24:41.295710Z",
     "iopub.status.busy": "2023-01-28T18:24:41.295242Z",
     "iopub.status.idle": "2023-01-28T18:24:41.299328Z",
     "shell.execute_reply": "2023-01-28T18:24:41.298633Z",
     "shell.execute_reply.started": "2023-01-28T18:24:41.295678Z"
    },
    "tags": []
   },
   "outputs": [],
   "source": [
    "#%pip install pyEX"
   ]
  },
  {
   "cell_type": "code",
   "execution_count": 4,
   "id": "3b1a13f6-a7a6-4999-bffd-0a4190e5ba02",
   "metadata": {
    "execution": {
     "iopub.execute_input": "2023-01-28T18:24:42.055923Z",
     "iopub.status.busy": "2023-01-28T18:24:42.055502Z",
     "iopub.status.idle": "2023-01-28T18:24:42.059472Z",
     "shell.execute_reply": "2023-01-28T18:24:42.058759Z",
     "shell.execute_reply.started": "2023-01-28T18:24:42.055891Z"
    },
    "tags": []
   },
   "outputs": [],
   "source": [
    "#%pip install awswrangler"
   ]
  },
  {
   "cell_type": "code",
   "execution_count": 5,
   "id": "e27b0e40",
   "metadata": {
    "execution": {
     "iopub.execute_input": "2023-01-28T18:24:42.893978Z",
     "iopub.status.busy": "2023-01-28T18:24:42.893541Z",
     "iopub.status.idle": "2023-01-28T18:24:46.479393Z",
     "shell.execute_reply": "2023-01-28T18:24:46.478450Z",
     "shell.execute_reply.started": "2023-01-28T18:24:42.893949Z"
    },
    "tags": []
   },
   "outputs": [
    {
     "name": "stderr",
     "output_type": "stream",
     "text": [
      "/usr/local/lib/python3.7/site-packages/tzlocal/unix.py:177: UserWarning: Can not find any timezone configuration, defaulting to UTC.\n",
      "  warnings.warn(\"Can not find any timezone configuration, defaulting to UTC.\")\n"
     ]
    }
   ],
   "source": [
    "import pyEX as p\n",
    "import requests\n",
    "import json\n",
    "import pandas as pd\n",
    "import numpy as np\n",
    "#import vectorbt as vbt\n",
    "import matplotlib.pyplot as plt \n",
    "import itertools \n",
    "import datetime \n",
    "import awswrangler as wr\n",
    "import vectorbt as vbt\n",
    "import pyspark.sql.functions as py_f\n",
    "import pyspark.sql.types as py_t\n",
    "isSandbox = False\n",
    "if isSandbox:\n",
    "    token ='Tpk_02dcd2036e7641b880dd4cbb01fa9c67'\n",
    "    iex_ver = 'sandbox'\n",
    "else:\n",
    "    #token ='pk_2e94555e43da4135a6032433c6b18fa5'pk_79d147436c1349f3abbec37591323e52\n",
    "    token ='pk_79d147436c1349f3abbec37591323e52'\n",
    "    iex_ver = 'stable'\n",
    "pyEX_cl = p.Client(api_token=token)\n",
    "timeframe='max'"
   ]
  },
  {
   "cell_type": "code",
   "execution_count": 15,
   "id": "eeed7ed0-7469-4eff-adf8-a977554f97ca",
   "metadata": {
    "execution": {
     "iopub.execute_input": "2023-01-28T18:41:40.281205Z",
     "iopub.status.busy": "2023-01-28T18:41:40.280509Z",
     "iopub.status.idle": "2023-01-28T18:43:05.413431Z",
     "shell.execute_reply": "2023-01-28T18:43:05.412314Z",
     "shell.execute_reply.started": "2023-01-28T18:41:40.281171Z"
    },
    "tags": []
   },
   "outputs": [
    {
     "name": "stdout",
     "output_type": "stream",
     "text": [
      "   symbol  data_count\n",
      "2    ARKG           8\n",
      "7    ARKW           8\n",
      "5    BITQ           8\n",
      "6    BLCN           9\n",
      "18   BTBT           9\n",
      "29   COPX           9\n",
      "34   DAPP           9\n",
      "12   DRIV           9\n",
      "36    EWZ           9\n",
      "40   FIVG           9\n",
      "41   FTXG           8\n",
      "17    GNR           8\n",
      "8    HACK           8\n",
      "37    HYG           9\n",
      "30    IGV           9\n",
      "1     IWN           9\n",
      "20   JETS           8\n",
      "26   KWEB           8\n",
      "4     LIT           9\n",
      "38   MLPA           9\n",
      "35   MSTR           9\n",
      "27    PPA           9\n",
      "10   REET           9\n",
      "25   RIOT           8\n",
      "39   SCHH           9\n",
      "14   SKYY           9\n",
      "42   SPBC           9\n",
      "13   SRVR           8\n",
      "11    URA           8\n",
      "9     UUP           8\n",
      "15    VUG           9\n",
      "16    XAR           8\n",
      "33    XBI           9\n",
      "19    XLB           9\n",
      "31    XLE           9\n",
      "28    XLF           9\n",
      "0     XLI           8\n",
      "22    XLP           9\n",
      "24   XLRE           9\n",
      "32    XLV           9\n",
      "21    XLY           8\n",
      "23    XOP           9\n",
      "3     XSD           8\n",
      "no dups\n"
     ]
    }
   ],
   "source": [
    "#@py_f.pandas_udf(\"date timestamp, close double, open double, symbol string\", py_f.PandasUDFType.GROUPED_MAP)\n",
    "#@py_f.pandas_udf(\"symbol string\", py_f.PandasUDFType.GROUPED_MAP)\n",
    "def get_new_data_df(symbol):\n",
    "    local_sym=str(symbol.values[0][0])\n",
    "    try:\n",
    "        hwm_l=highwatermark_pd_bc.value\n",
    "        columns_to_capture=columns_to_capture_bc.value\n",
    "        iex_base_url=iex_base_url_bc.value\n",
    "        sym_pd = hwm_l.query(f\"symbol=='{local_sym}'\")\n",
    "        if len(sym_pd)>0:\n",
    "            max_date = sym_pd['max_date'].iloc[0]\n",
    "        else:\n",
    "            max_date = datetime.datetime.now()-datetime.timedelta(days=365*50)\n",
    "        last_days=(datetime.datetime.now()-max_date).days\n",
    "\n",
    "        pyEX_cl = p.Client(api_token=iex_token_bc.value)\n",
    "        final_url = iex_base_url.format(local_sym,iex_token_bc.value,int(last_days))\n",
    "        #'https://cloud.iexapis.com/stable/stock/{}/chart/max?token={}&chartIEXOnly=true&chartLast={}'\n",
    "        res = requests.get(final_url)\n",
    "        ret_pd = pd.DataFrame(json.loads(res.text))#[columns_to_capture]\n",
    "        ret_pd=ret_pd.query(f\"date>'{max_date.strftime('%Y-%m-%d')}'\")\n",
    "        ret_pd['date']=pd.to_datetime(ret_pd['date'])\n",
    "        print('panda UDF')\n",
    "        #return(ret_pd[columns_to_capture].query(f\"date>'{max_date}'\"))\n",
    "    except:\n",
    "        ret_pd=pd.DataFrame([{'date': datetime.datetime.now()-datetime.timedelta(days=365*50),\n",
    "                              'close': None, \n",
    "                              'open': None, \n",
    "                              'symbol': local_sym}])\n",
    "    #return(ret_pd[columns_to_capture],max_date,hwm_l,local_sym,sym_pd)\n",
    "    return(ret_pd[columns_to_capture])\n",
    "    #return(pd.DataFrame([res.text],columns=['symbol']))\n",
    "    \n",
    "class MarketDataGateway():\n",
    "    def __init__(self,isSandbox=False):\n",
    "        self.fx_etf_symbols = ['FXA','FXY','FXE','FXB','UUP','FXC','FXF',]\n",
    "        self.bitcoin_etf_symbols = ['BITO','BTF','XBTF','BITS','GBTC','BITW','BLOK','BLCN','LEGR','SPBC','BITQ','BKCH','DAPP','BTCFX']\n",
    "        self.bitcoin_equity_proxy_symbols = ['COIN','MSTR']\n",
    "        self.crypto_mining_symbols = ['RIOT','CAN','HUT','HIVE','MARA','BTCM','BTBT','BITF']\n",
    "        self.commod_etf_symbols = ['USO','GLD','DBA','DBB','SLV',]\n",
    "        self.fi_etf_symbols = ['IAGG','AGG','IHY','EMLC','HYG',]\n",
    "        self.equity_etf_symbols = ['AMJ','AMLP','ARKF','ARKG','ARKK','ARKQ','ARKW','BOTZ','BUG','CGW','CIBR','COPX','CRBN','DRIV','EFV','EMLP','FBT','FDN','FIVG',\n",
    "                'FIW','FTXG','GDX','GNR','GUNR','HACK','IAT','IBB','ICLN','IEO','IFRA','IGE','IGF','IGM','IGV','IHF','IHI','ITB','ITZ','IWD','IWN','IWS','IYT','JETS','KBWB',\n",
    "                      'KOMP','KRE','KWEB','LCTU','LIT','MLPA',\n",
    "                    'MLPX','MOO','NFRA','OIH','PABU','PAVE','PBW','PEJ','PHO','PICK','PPA','QCLN','REET','REMX','ROBO','SCHH','SIL','SKYY','SMH','SOXX','SRVR','TAN','URA','URNM',\n",
    "                      'VUG','XAR','XBI','XHB','XME','XOP','XSD','QQQ','EWZ','AAXJ','VTI','EWJ','EWA','EWC','MCHI','EWU','EWQ','EWG','FM','EIS']\n",
    "        self.sectors = ['XLC','XLY','XLP','XLE','XLF','XLV','XLI','XLB','XLRE','XLK','XLU']\n",
    "        self.bench_symbol=['SPY','QQQ','IVV']\n",
    "        self.all_symbols =self.fx_etf_symbols+\\\n",
    "                            self.bitcoin_etf_symbols+\\\n",
    "                            self.commod_etf_symbols+\\\n",
    "                            self.bitcoin_equity_proxy_symbols+\\\n",
    "                            self.crypto_mining_symbols+\\\n",
    "                            self.fi_etf_symbols+\\\n",
    "                            self.equity_etf_symbols+\\\n",
    "                            self.bench_symbol+\\\n",
    "                            self.sectors\n",
    "        self.all_symbols_df = spark.createDataFrame(pd.DataFrame(self.all_symbols,columns=['symbol']))\n",
    "        #all_symbols\n",
    "        self.columns_to_capture = ['date','close','open','symbol']\n",
    "        self.secrets = {\n",
    "            'IEX':{},\n",
    "            'alpaca':{ 'token':'alpaca_marketdata_key',\n",
    "                      'secret':'alpaca_marketdata_secret'}\n",
    "                       }\n",
    "        self.data_folder = 's3://fsidatalake/eod_market_data/etf_trend_following/'\n",
    "        self.parquet_file_out =f\"{self.data_folder}/etf_market_data.parquet\"\n",
    "        if isSandbox:\n",
    "            self.iex_token ='Tpk_02dcd2036e7641b880dd4cbb01fa9c67'\n",
    "            self.iex_ver = 'sandbox'\n",
    "        else:\n",
    "            #self.iex_token ='pk_2e94555e43da4135a6032433c6b18fa5' pk_79d147436c1349f3abbec37591323e52\n",
    "            self.iex_token ='pk_79d147436c1349f3abbec37591323e52' \n",
    "            self.iex_ver = 'stable'\n",
    "        self.iex_base_url = 'https://cloud.iexapis.com/'+self.iex_ver+'/stock/{}/chart/max?token={}&chartIEXOnly=true&chartLast={}'\n",
    "        \n",
    "    def set_highwatermarks(self):\n",
    "        try:\n",
    "            self.old_df = spark.read.parquet(self.parquet_file_out)\n",
    "        except:\n",
    "            self.old_df = spark.createDataFrame(pd.DataFrame([{'symbol':'----','date':datetime.datetime.now()-datetime.timedelta(days=365*50)}]))\n",
    "        self.highwatermark_pd = self.old_df.groupby('symbol').agg(py_f.max(\"date\").alias(\"max_date\"),\n",
    "                             py_f.min(\"date\").alias(\"min_date\"),\n",
    "                             (py_f.max(\"date\")-py_f.min(\"date\")).alias(\"date_length\")\n",
    "                            ).toPandas()\n",
    "    def set_new_symbol_df(self):\n",
    "        self.new_sym_df=self.all_symbols_df.groupby(\"symbol\")\\\n",
    "                        .applyInPandas(get_new_data_df, schema=\"date timestamp, close double, open double, symbol string\")\\\n",
    "                        .where('close is not null')\n",
    "    def write_new_symbol_df(self):\n",
    "        self.write_stats=self.new_sym_df.groupby('symbol').agg(py_f.count('symbol').alias('data_count'))\n",
    "        self.new_sym_df.write\\\n",
    "            .option(\"header\",True)\\\n",
    "            .partitionBy('symbol')\\\n",
    "            .mode(\"append\")\\\n",
    "            .parquet(self.parquet_file_out)\n",
    "    def rewrite_if_dups(self):\n",
    "        self.old_df_after_write = spark.read.parquet(self.parquet_file_out)\n",
    "        self.dup_df = self.old_df_after_write.distinct().groupby('date','symbol').count()\n",
    "        dup_count=self.dup_df.where('count>1').count()\n",
    "        if dup_count>0:        \n",
    "            print(f\"found:{dup_count} dups; sample:{self.dup_df.show()}\")\n",
    "            self.old_df_after_write.groupby('date','symbol').agg(py_f.mean('close').alias('close'),py_f.mean('open').alias('open'))\\\n",
    "            .write\\\n",
    "            .option(\"header\",True)\\\n",
    "            .partitionBy('symbol')\\\n",
    "            .mode(\"overwrite\")\\\n",
    "            .parquet(self.parquet_file_out.replace('.parquet','_temp.parquet'))\n",
    "        else:\n",
    "            print(f\"no dups\")\n",
    "            \n",
    "    def get_secret(self,secret_name,region_name):\n",
    "        # Create a Secrets Manager client\n",
    "        session = boto3.session.Session()\n",
    "        client = session.client(\n",
    "            service_name='secretsmanager',\n",
    "            region_name=region_name\n",
    "        )\n",
    "\n",
    "        try:\n",
    "            get_secret_value_response = client.get_secret_value(\n",
    "                SecretId=secret_name\n",
    "            )\n",
    "        except ClientError as e:\n",
    "            # For a list of exceptions thrown, see\n",
    "            # https://docs.aws.amazon.com/secretsmanager/latest/apireference/API_GetSecretValue.html\n",
    "            raise e\n",
    "\n",
    "        # Decrypts secret using the associated KMS key.\n",
    "        secret = json.loads(get_secret_value_response['SecretString'])[secret_name]\n",
    "        return(secret)\n",
    "        \n",
    "\n",
    "mdg=MarketDataGateway()\n",
    "mdg.set_highwatermarks()\n",
    "# set bc vars\n",
    "highwatermark_pd_bc =sc.broadcast(mdg.highwatermark_pd)\n",
    "columns_to_capture_bc =sc.broadcast(mdg.columns_to_capture)\n",
    "iex_token_bc =sc.broadcast(mdg.iex_token)\n",
    "iex_base_url_bc =sc.broadcast(mdg.iex_base_url)\n",
    "# set bc vars\n",
    "mdg.set_new_symbol_df()\n",
    "mdg.write_new_symbol_df()\n",
    "print(mdg.write_stats.toPandas().sort_values(['symbol']))\n",
    "mdg.rewrite_if_dups()"
   ]
  },
  {
   "cell_type": "code",
   "execution_count": 16,
   "id": "bfecb398-68e1-4367-8a4f-e82486f4ed3f",
   "metadata": {
    "execution": {
     "iopub.execute_input": "2023-01-28T18:43:05.416488Z",
     "iopub.status.busy": "2023-01-28T18:43:05.415195Z",
     "iopub.status.idle": "2023-01-28T18:43:07.109601Z",
     "shell.execute_reply": "2023-01-28T18:43:07.108425Z",
     "shell.execute_reply.started": "2023-01-28T18:43:05.416446Z"
    },
    "tags": []
   },
   "outputs": [
    {
     "data": {
      "text/plain": [
       "0"
      ]
     },
     "execution_count": 16,
     "metadata": {},
     "output_type": "execute_result"
    }
   ],
   "source": [
    "mdg.old_df_after_write.distinct().groupby('date','symbol').count().where('count>1').count()#.orderBy(['count','symbol'],ascending=False).show()"
   ]
  },
  {
   "cell_type": "code",
   "execution_count": 17,
   "id": "9711086d-f0e5-44bd-b32b-548816b9c6d8",
   "metadata": {
    "execution": {
     "iopub.execute_input": "2023-01-28T18:43:07.111187Z",
     "iopub.status.busy": "2023-01-28T18:43:07.110816Z",
     "iopub.status.idle": "2023-01-28T18:43:07.132485Z",
     "shell.execute_reply": "2023-01-28T18:43:07.131012Z",
     "shell.execute_reply.started": "2023-01-28T18:43:07.111149Z"
    },
    "tags": []
   },
   "outputs": [
    {
     "data": {
      "text/html": [
       "<div>\n",
       "<style scoped>\n",
       "    .dataframe tbody tr th:only-of-type {\n",
       "        vertical-align: middle;\n",
       "    }\n",
       "\n",
       "    .dataframe tbody tr th {\n",
       "        vertical-align: top;\n",
       "    }\n",
       "\n",
       "    .dataframe thead th {\n",
       "        text-align: right;\n",
       "    }\n",
       "</style>\n",
       "<table border=\"1\" class=\"dataframe\">\n",
       "  <thead>\n",
       "    <tr style=\"text-align: right;\">\n",
       "      <th></th>\n",
       "      <th>symbol</th>\n",
       "      <th>max_date</th>\n",
       "      <th>min_date</th>\n",
       "      <th>date_length</th>\n",
       "    </tr>\n",
       "  </thead>\n",
       "  <tbody>\n",
       "    <tr>\n",
       "      <th>0</th>\n",
       "      <td>SPY</td>\n",
       "      <td>2023-01-27</td>\n",
       "      <td>2006-12-29</td>\n",
       "      <td>5873 days</td>\n",
       "    </tr>\n",
       "    <tr>\n",
       "      <th>1</th>\n",
       "      <td>XSD</td>\n",
       "      <td>2023-01-17</td>\n",
       "      <td>2007-03-01</td>\n",
       "      <td>5801 days</td>\n",
       "    </tr>\n",
       "    <tr>\n",
       "      <th>2</th>\n",
       "      <td>FXE</td>\n",
       "      <td>2023-01-27</td>\n",
       "      <td>2007-03-02</td>\n",
       "      <td>5810 days</td>\n",
       "    </tr>\n",
       "    <tr>\n",
       "      <th>3</th>\n",
       "      <td>SOXX</td>\n",
       "      <td>2023-01-17</td>\n",
       "      <td>2007-03-01</td>\n",
       "      <td>5801 days</td>\n",
       "    </tr>\n",
       "    <tr>\n",
       "      <th>4</th>\n",
       "      <td>FDN</td>\n",
       "      <td>2023-01-27</td>\n",
       "      <td>2006-12-29</td>\n",
       "      <td>5873 days</td>\n",
       "    </tr>\n",
       "    <tr>\n",
       "      <th>...</th>\n",
       "      <td>...</td>\n",
       "      <td>...</td>\n",
       "      <td>...</td>\n",
       "      <td>...</td>\n",
       "    </tr>\n",
       "    <tr>\n",
       "      <th>141</th>\n",
       "      <td>BITF</td>\n",
       "      <td>2023-01-13</td>\n",
       "      <td>2021-06-21</td>\n",
       "      <td>571 days</td>\n",
       "    </tr>\n",
       "    <tr>\n",
       "      <th>142</th>\n",
       "      <td>DAPP</td>\n",
       "      <td>2023-01-13</td>\n",
       "      <td>2021-04-14</td>\n",
       "      <td>639 days</td>\n",
       "    </tr>\n",
       "    <tr>\n",
       "      <th>143</th>\n",
       "      <td>HUT</td>\n",
       "      <td>2023-01-27</td>\n",
       "      <td>2021-06-15</td>\n",
       "      <td>591 days</td>\n",
       "    </tr>\n",
       "    <tr>\n",
       "      <th>144</th>\n",
       "      <td>FIVG</td>\n",
       "      <td>2023-01-13</td>\n",
       "      <td>2019-03-05</td>\n",
       "      <td>1410 days</td>\n",
       "    </tr>\n",
       "    <tr>\n",
       "      <th>145</th>\n",
       "      <td>SPBC</td>\n",
       "      <td>2023-01-13</td>\n",
       "      <td>2021-05-25</td>\n",
       "      <td>598 days</td>\n",
       "    </tr>\n",
       "  </tbody>\n",
       "</table>\n",
       "<p>146 rows × 4 columns</p>\n",
       "</div>"
      ],
      "text/plain": [
       "    symbol   max_date   min_date date_length\n",
       "0      SPY 2023-01-27 2006-12-29   5873 days\n",
       "1      XSD 2023-01-17 2007-03-01   5801 days\n",
       "2      FXE 2023-01-27 2007-03-02   5810 days\n",
       "3     SOXX 2023-01-17 2007-03-01   5801 days\n",
       "4      FDN 2023-01-27 2006-12-29   5873 days\n",
       "..     ...        ...        ...         ...\n",
       "141   BITF 2023-01-13 2021-06-21    571 days\n",
       "142   DAPP 2023-01-13 2021-04-14    639 days\n",
       "143    HUT 2023-01-27 2021-06-15    591 days\n",
       "144   FIVG 2023-01-13 2019-03-05   1410 days\n",
       "145   SPBC 2023-01-13 2021-05-25    598 days\n",
       "\n",
       "[146 rows x 4 columns]"
      ]
     },
     "execution_count": 17,
     "metadata": {},
     "output_type": "execute_result"
    }
   ],
   "source": [
    "mdg.highwatermark_pd"
   ]
  },
  {
   "cell_type": "code",
   "execution_count": 18,
   "id": "fb2d50bd-5ddd-4cd4-a3fb-e6d73d1ea364",
   "metadata": {
    "execution": {
     "iopub.execute_input": "2023-01-28T18:43:07.137599Z",
     "iopub.status.busy": "2023-01-28T18:43:07.137122Z",
     "iopub.status.idle": "2023-01-28T18:43:07.152936Z",
     "shell.execute_reply": "2023-01-28T18:43:07.151813Z",
     "shell.execute_reply.started": "2023-01-28T18:43:07.137561Z"
    },
    "tags": []
   },
   "outputs": [
    {
     "ename": "NameError",
     "evalue": "name 'res_pd' is not defined",
     "output_type": "error",
     "traceback": [
      "\u001b[0;31m---------------------------------------------------------------------------\u001b[0m",
      "\u001b[0;31mNameError\u001b[0m                                 Traceback (most recent call last)",
      "\u001b[0;32m/usr/local/bin/kernel-launchers/python/scripts/launch_ipykernel.py\u001b[0m in \u001b[0;36m<module>\u001b[0;34m\u001b[0m\n\u001b[1;32m      8\u001b[0m \u001b[0;31m#last_days=(datetime.datetime.now()-max_date).days\u001b[0m\u001b[0;34m\u001b[0m\u001b[0;34m\u001b[0m\u001b[0;34m\u001b[0m\u001b[0m\n\u001b[1;32m      9\u001b[0m \u001b[0;31m#res_pd = pyEX_cl.chartDF(symbol=sym, timeframe=timeframe,last=last_days).query(f\"date>'{(max_date)}'\")\u001b[0m\u001b[0;34m\u001b[0m\u001b[0;34m\u001b[0m\u001b[0;34m\u001b[0m\u001b[0m\n\u001b[0;32m---> 10\u001b[0;31m \u001b[0mres_pd\u001b[0m\u001b[0;34m.\u001b[0m\u001b[0mquery\u001b[0m\u001b[0;34m(\u001b[0m\u001b[0;34mf\"date>'{max_date.strftime('%Y-%m-%d')}'\"\u001b[0m\u001b[0;34m)\u001b[0m\u001b[0;34m\u001b[0m\u001b[0;34m\u001b[0m\u001b[0m\n\u001b[0m",
      "\u001b[0;31mNameError\u001b[0m: name 'res_pd' is not defined"
     ]
    }
   ],
   "source": [
    "#lpd=mdg.highwatermark_pd\n",
    "#sym='abc'\n",
    "#sym_pd = lpd.query(f\"symbol=='{sym}'\")['max_date']\n",
    "#if len(sym_pd)>0:\n",
    "#    max_date = lpd.query(f\"symbol=='{sym}'\")['max_date'].iloc[0]\n",
    "#else:\n",
    "#    max_date = datetime.datetime.now()-datetime.timedelta(days=365*50)\n",
    "#last_days=(datetime.datetime.now()-max_date).days\n",
    "#res_pd = pyEX_cl.chartDF(symbol=sym, timeframe=timeframe,last=last_days).query(f\"date>'{(max_date)}'\")\n",
    "res_pd.query(f\"date>'{max_date.strftime('%Y-%m-%d')}'\")"
   ]
  },
  {
   "cell_type": "code",
   "execution_count": null,
   "id": "45a5624c-5627-43ab-834c-0bad2aba28d2",
   "metadata": {
    "execution": {
     "iopub.status.busy": "2023-01-28T18:43:07.153683Z",
     "iopub.status.idle": "2023-01-28T18:43:07.154013Z",
     "shell.execute_reply": "2023-01-28T18:43:07.153852Z",
     "shell.execute_reply.started": "2023-01-28T18:43:07.153837Z"
    },
    "tags": []
   },
   "outputs": [],
   "source": [
    "max_date.strftime(\"%Y-%m-%d\")"
   ]
  },
  {
   "cell_type": "code",
   "execution_count": null,
   "id": "9c2c739a-81cf-4989-9263-7af0f517695a",
   "metadata": {
    "execution": {
     "iopub.status.busy": "2023-01-28T18:43:07.155165Z",
     "iopub.status.idle": "2023-01-28T18:43:07.155478Z",
     "shell.execute_reply": "2023-01-28T18:43:07.155333Z",
     "shell.execute_reply.started": "2023-01-28T18:43:07.155318Z"
    },
    "tags": []
   },
   "outputs": [],
   "source": [
    "\n",
    "#base_url = 'https://cloud.iexapis.com/stable/stock/{}/chart/max?token={}&chartIEXOnly=true&chartLast={}'\n",
    "#headers = {\n",
    "#      'content-type': \"application/json\"\n",
    "#  }\n",
    "\n",
    "res = requests.get(base_url)\n",
    "pd.DataFrame(json.loads(res.text))\n"
   ]
  },
  {
   "cell_type": "code",
   "execution_count": null,
   "id": "24520251-97d6-492a-9fac-9475504d47c5",
   "metadata": {
    "execution": {
     "iopub.status.busy": "2023-01-28T18:43:07.156566Z",
     "iopub.status.idle": "2023-01-28T18:43:07.157086Z",
     "shell.execute_reply": "2023-01-28T18:43:07.156937Z",
     "shell.execute_reply.started": "2023-01-28T18:43:07.156921Z"
    },
    "tags": []
   },
   "outputs": [],
   "source": [
    "(max_date-10).strftime('%Y-%m-%d')"
   ]
  },
  {
   "cell_type": "code",
   "execution_count": null,
   "id": "9d4ea8d3-4797-42e5-9991-c116cb05b642",
   "metadata": {
    "execution": {
     "iopub.status.busy": "2023-01-28T18:43:07.157915Z",
     "iopub.status.idle": "2023-01-28T18:43:07.158427Z",
     "shell.execute_reply": "2023-01-28T18:43:07.158277Z",
     "shell.execute_reply.started": "2023-01-28T18:43:07.158261Z"
    },
    "tags": []
   },
   "outputs": [],
   "source": [
    "lpd"
   ]
  },
  {
   "cell_type": "code",
   "execution_count": null,
   "id": "05ad23ba-bfa8-4a5e-af25-184365c848c4",
   "metadata": {},
   "outputs": [],
   "source": []
  }
 ],
 "metadata": {
  "kernelspec": {
   "display_name": "PySpark (Kubernetes)",
   "language": "python",
   "name": "spark_python_kubernetes"
  },
  "language_info": {
   "codemirror_mode": {
    "name": "ipython",
    "version": 3
   },
   "file_extension": ".py",
   "mimetype": "text/x-python",
   "name": "python",
   "nbconvert_exporter": "python",
   "pygments_lexer": "ipython3",
   "version": "3.7.10"
  }
 },
 "nbformat": 4,
 "nbformat_minor": 5
}
