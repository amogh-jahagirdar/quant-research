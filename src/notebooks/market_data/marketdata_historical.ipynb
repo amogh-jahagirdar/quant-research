{
 "cells": [
  {
   "cell_type": "code",
   "execution_count": 1,
   "id": "52f0683d-273b-400f-99c5-22a5b251288d",
   "metadata": {
    "execution": {
     "iopub.execute_input": "2023-03-13T23:34:15.819841Z",
     "iopub.status.busy": "2023-03-13T23:34:15.819352Z",
     "iopub.status.idle": "2023-03-13T23:34:31.587005Z",
     "shell.execute_reply": "2023-03-13T23:34:31.586897Z",
     "shell.execute_reply.started": "2023-03-13 23:34:15.826009+00:00"
    },
    "tags": []
   },
   "outputs": [
    {
     "name": "stderr",
     "output_type": "stream",
     "text": [
      "[I 2023-03-13 23:34:15,825.825 configure_magic] Magic cell payload received: {\"conf\": {\"spark.pyspark.python\": \"python3\", \"spark.pyspark.virtualenv.enabled\": \"true\", \"spark.pyspark.virtualenv.type\": \"native\", \"spark.pyspark.virtualenv.bin.path\": \"/usr/bin/virtualenv\", \"spark.sql.execution.arrow.enabled\": \"true\"}, \"proxyUser\": \"assumed-role_fdp_blitvin-Isengard\"}\n",
      "\n",
      "[I 2023-03-13 23:34:15,826.826 configure_magic] Sending request to update kernel. Please wait while the kernel will be refreshed.\n"
     ]
    },
    {
     "name": "stdout",
     "output_type": "stream",
     "text": [
      "The kernel is successfully refreshed."
     ]
    }
   ],
   "source": [
    "%%configure -f\n",
    "{ \"conf\":{\n",
    "          \"spark.pyspark.python\": \"python3\",\n",
    "          \"spark.pyspark.virtualenv.enabled\": \"true\",\n",
    "          \"spark.pyspark.virtualenv.type\":\"native\",\n",
    "          \"spark.pyspark.virtualenv.bin.path\":\"/usr/bin/virtualenv\",\n",
    "          \"spark.sql.execution.arrow.enabled\":\"true\"\n",
    "         }\n",
    "}"
   ]
  },
  {
   "cell_type": "code",
   "execution_count": null,
   "id": "1ab8a1bd-e038-49e6-a7b8-7aa66e90c24e",
   "metadata": {
    "tags": []
   },
   "outputs": [],
   "source": [
    "#%pip install pyEX"
   ]
  },
  {
   "cell_type": "code",
   "execution_count": null,
   "id": "3b1a13f6-a7a6-4999-bffd-0a4190e5ba02",
   "metadata": {
    "tags": []
   },
   "outputs": [],
   "source": [
    "#%pip install awswrangler"
   ]
  },
  {
   "cell_type": "code",
   "execution_count": 3,
   "id": "6f11f779-73bd-48b9-8a37-e4f5f9ece807",
   "metadata": {
    "execution": {
     "iopub.execute_input": "2023-03-14T23:57:15.710056Z",
     "iopub.status.busy": "2023-03-14T23:57:15.709577Z",
     "iopub.status.idle": "2023-03-14T23:57:15.902873Z",
     "shell.execute_reply": "2023-03-14T23:57:15.902048Z",
     "shell.execute_reply.started": "2023-03-14T23:57:15.710025Z"
    },
    "tags": []
   },
   "outputs": [
    {
     "name": "stdout",
     "output_type": "stream",
     "text": [
      "\n"
     ]
    }
   ],
   "source": [
    "import http.client\n",
    "\n",
    "conn = http.client.HTTPSConnection(\"api2.msci.com\")\n",
    "\n",
    "headers = { 'Authorization': \"Basic REPLACE_BASIC_AUTH\" }\n",
    "\n",
    "conn.request(\"GET\", \"/index/performance/v1.0/indexes/%7BentityId%7D/close?calc_date=20210405&as_of_date=20210405&distribution_zone=SOME_STRING_VALUE&cumulative=SOME_BOOLEAN_VALUE&index_variant=GRTR&currency=USD&data_frequency=SOME_STRING_VALUE&output=SOME_STRING_VALUE\", headers=headers)\n",
    "\n",
    "res = conn.getresponse()\n",
    "data = res.read()\n",
    "\n",
    "print(data.decode(\"utf-8\"))\n"
   ]
  },
  {
   "cell_type": "code",
   "execution_count": 5,
   "id": "ae867b8b-47a6-43f7-938d-ee2aaeb496bc",
   "metadata": {
    "execution": {
     "iopub.execute_input": "2023-03-14T23:57:30.160189Z",
     "iopub.status.busy": "2023-03-14T23:57:30.159685Z",
     "iopub.status.idle": "2023-03-14T23:57:30.165736Z",
     "shell.execute_reply": "2023-03-14T23:57:30.164919Z",
     "shell.execute_reply.started": "2023-03-14T23:57:30.160160Z"
    },
    "tags": []
   },
   "outputs": [
    {
     "data": {
      "text/plain": [
       "<http.client.HTTPResponse at 0x7fbccc3ea210>"
      ]
     },
     "execution_count": 5,
     "metadata": {},
     "output_type": "execute_result"
    }
   ],
   "source": [
    "vars(res)"
   ]
  },
  {
   "cell_type": "code",
   "execution_count": 1,
   "id": "e27b0e40",
   "metadata": {
    "execution": {
     "iopub.execute_input": "2023-03-13T23:34:35.299794Z",
     "iopub.status.busy": "2023-03-13T23:34:35.299277Z",
     "iopub.status.idle": "2023-03-13T23:34:38.887847Z",
     "shell.execute_reply": "2023-03-13T23:34:38.887019Z",
     "shell.execute_reply.started": "2023-03-13T23:34:35.299688Z"
    },
    "tags": []
   },
   "outputs": [
    {
     "name": "stderr",
     "output_type": "stream",
     "text": [
      "/usr/local/lib/python3.7/site-packages/tzlocal/unix.py:177: UserWarning: Can not find any timezone configuration, defaulting to UTC.\n",
      "  warnings.warn(\"Can not find any timezone configuration, defaulting to UTC.\")\n"
     ]
    }
   ],
   "source": [
    "import pyEX as p\n",
    "import requests\n",
    "import json\n",
    "import boto3\n",
    "import pandas as pd\n",
    "import numpy as np\n",
    "#import vectorbt as vbt\n",
    "import matplotlib.pyplot as plt \n",
    "import itertools \n",
    "import datetime \n",
    "import awswrangler as wr\n",
    "import vectorbt as vbt\n",
    "import pyspark.sql.functions as py_f\n",
    "import pyspark.sql.types as py_t\n",
    "from string import Template\n",
    "isSandbox = False\n",
    "if isSandbox:\n",
    "    token ='Tpk_02dcd2036e7641b880dd4cbb01fa9c67'\n",
    "    iex_ver = 'sandbox'\n",
    "else:\n",
    "    #token ='pk_2e94555e43da4135a6032433c6b18fa5'pk_79d147436c1349f3abbec37591323e52\n",
    "    token ='pk_79d147436c1349f3abbec37591323e52'\n",
    "    iex_ver = 'stable'\n",
    "pyEX_cl = p.Client(api_token=token)\n",
    "timeframe='max'"
   ]
  },
  {
   "cell_type": "code",
   "execution_count": 3,
   "id": "eeed7ed0-7469-4eff-adf8-a977554f97ca",
   "metadata": {
    "execution": {
     "iopub.execute_input": "2023-03-13T23:34:47.006792Z",
     "iopub.status.busy": "2023-03-13T23:34:47.006049Z",
     "iopub.status.idle": "2023-03-13T23:34:47.191351Z",
     "shell.execute_reply": "2023-03-13T23:34:47.190506Z",
     "shell.execute_reply.started": "2023-03-13T23:34:47.006756Z"
    },
    "tags": []
   },
   "outputs": [],
   "source": [
    "def get_ETF_constituents(symbol,etf_holdings_dates_url,etf_holdings_url,schema):\n",
    "    if isinstance(symbol, str):\n",
    "        pass\n",
    "    else:\n",
    "        symbol=symbol.values[0][0]\n",
    "         \n",
    "    cols= [i.split(\" \")[0] for i in schema.split(\",\")]\n",
    "    vals= ['' if i.split(\" \")[1] == 'string' else 0  for i in schema.split(\",\") ]\n",
    "    empty_pd= pd.DataFrame([vals],columns=cols)\n",
    "    findataprep_dates_url = etf_holdings_dates_url.substitute(symbol=symbol)\n",
    "    empty_pd['etf_symbol']=f\"{symbol} : {findataprep_dates_url} : {etf_holdings_url}\"\n",
    "    try:\n",
    "        dates = requests.get(findataprep_dates_url)\n",
    "    except  Exception as l_exc:\n",
    "        ret_pd=empty_pd\n",
    "        ret_pd['name']=l_exc \n",
    "        ret_pd['title']='exception' \n",
    "        return(ret_pd)\n",
    "    all_date_pd = []\n",
    "    for one_d in dates.json():  \n",
    "        try:\n",
    "            findataprep_url = etf_holdings_url.substitute(symbol=symbol,date=one_d.get('date'))\n",
    "            one_date_json = requests.get(findataprep_url).json()\n",
    "            one_date_pd=pd.DataFrame(one_date_json)\n",
    "            one_date_pd['etf_symbol']=symbol\n",
    "        except:\n",
    "            one_date_pd=empty_pd\n",
    "            one_date_pd['etf_symbol']=symbol    \n",
    "        all_date_pd=all_date_pd+[one_date_pd] \n",
    "    if len(all_date_pd)>0:\n",
    "        ret_pd = pd.concat(all_date_pd)\n",
    "    else:\n",
    "        ret_pd=empty_pd\n",
    "    return(ret_pd)\n",
    "#@py_f.pandas_udf(\"date timestamp, close double, open double, symbol string\", py_f.PandasUDFType.GROUPED_MAP)\n",
    "#@py_f.pandas_udf(\"symbol string\", py_f.PandasUDFType.GROUPED_MAP)\n",
    "def get_new_data_df(symbol):\n",
    "    local_sym=str(symbol.values[0][0])\n",
    "    try:\n",
    "        hwm_l=highwatermark_pd_bc.value\n",
    "        columns_to_capture=columns_to_capture_bc.value\n",
    "        iex_base_url=iex_base_url_bc.value\n",
    "        sym_pd = hwm_l.query(f\"symbol=='{local_sym}'\")\n",
    "        if len(sym_pd)>0:\n",
    "            max_date = sym_pd['max_date'].iloc[0]\n",
    "        else:\n",
    "            max_date = datetime.datetime.now()-datetime.timedelta(days=365*50)\n",
    "        last_days=(datetime.datetime.now()-max_date).days\n",
    "\n",
    "        pyEX_cl = p.Client(api_token=iex_token_bc.value)\n",
    "        final_url = iex_base_url.format(local_sym,iex_token_bc.value,int(last_days))\n",
    "        #'https://cloud.iexapis.com/stable/stock/{}/chart/max?token={}&chartIEXOnly=true&chartLast={}'\n",
    "        res = requests.get(final_url)\n",
    "        ret_pd = pd.DataFrame(json.loads(res.text))#[columns_to_capture]\n",
    "        ret_pd=ret_pd.query(f\"date>'{max_date.strftime('%Y-%m-%d')}'\")\n",
    "        ret_pd['date']=pd.to_datetime(ret_pd['date'])\n",
    "        print('panda UDF')\n",
    "        #return(ret_pd[columns_to_capture].query(f\"date>'{max_date}'\"))\n",
    "    except:\n",
    "        ret_pd=pd.DataFrame([{'date': datetime.datetime.now()-datetime.timedelta(days=365*50),\n",
    "                              'close': None, \n",
    "                              'open': None, \n",
    "                              'symbol': local_sym}])\n",
    "    #return(ret_pd[columns_to_capture],max_date,hwm_l,local_sym,sym_pd)\n",
    "    return(ret_pd[columns_to_capture])\n",
    "    #return(pd.DataFrame([res.text],columns=['symbol']))\n",
    "    \n",
    "class MarketDataGateway():\n",
    "    def __init__(self,isSandbox=False):\n",
    "        self.fx_etf_symbols = ['FXA','FXY','FXE','FXB','UUP','FXC','FXF',]\n",
    "        self.bitcoin_etf_symbols = ['BITO','BTF','XBTF','BITS','GBTC','BITW','BLOK','BLCN','LEGR','SPBC','BITQ','BKCH','DAPP','BTCFX']\n",
    "        self.bitcoin_equity_proxy_symbols = ['COIN','MSTR']\n",
    "        self.crypto_mining_symbols = ['RIOT','CAN','HUT','HIVE','MARA','BTCM','BTBT','BITF']\n",
    "        self.commod_etf_symbols = ['USO','GLD','DBA','DBB','SLV',]\n",
    "        self.fi_etf_symbols = ['IAGG','AGG','IHY','EMLC','HYG',]\n",
    "        self.equity_etf_symbols = ['AMJ','AMLP','ARKF','ARKG','ARKK','ARKQ','ARKW','BOTZ','BUG','CGW','CIBR','COPX','CRBN','DRIV','EFV','EMLP','FBT','FDN','FIVG',\n",
    "                'FIW','FTXG','GDX','GNR','GUNR','HACK','IAT','IBB','ICLN','IEO','IFRA','IGE','IGF','IGM','IGV','IHF','IHI','ITB','ITZ','IWD','IWN','IWS','IYT','JETS','KBWB',\n",
    "                      'KOMP','KRE','KWEB','LCTU','LIT','MLPA',\n",
    "                    'MLPX','MOO','NFRA','OIH','PABU','PAVE','PBW','PEJ','PHO','PICK','PPA','QCLN','REET','REMX','ROBO','SCHH','SIL','SKYY','SMH','SOXX','SRVR','TAN','URA','URNM',\n",
    "                      'VUG','XAR','XBI','XHB','XME','XOP','XSD','QQQ','EWZ','AAXJ','VTI','EWJ','EWA','EWC','MCHI','EWU','EWQ','EWG','FM','EIS']\n",
    "        self.sectors = ['XLC','XLY','XLP','XLE','XLF','XLV','XLI','XLB','XLRE','XLK','XLU']\n",
    "        self.bench_symbol=['SPY','QQQ','IVV']\n",
    "        self.all_symbols =self.fx_etf_symbols+\\\n",
    "                            self.bitcoin_etf_symbols+\\\n",
    "                            self.commod_etf_symbols+\\\n",
    "                            self.bitcoin_equity_proxy_symbols+\\\n",
    "                            self.crypto_mining_symbols+\\\n",
    "                            self.fi_etf_symbols+\\\n",
    "                            self.equity_etf_symbols+\\\n",
    "                            self.bench_symbol+\\\n",
    "                            self.sectors\n",
    "        self.all_symbols_df = spark.createDataFrame(pd.DataFrame(self.all_symbols,columns=['symbol']))\n",
    "        #all_symbols\n",
    "        self.columns_to_capture = ['date','close','open','symbol']\n",
    "        self.secrets = {\n",
    "            'IEX':{},\n",
    "            'alpaca':{ 'token':'alpaca_marketdata_key',\n",
    "                      'secret':'alpaca_marketdata_secret'}\n",
    "                       }\n",
    "        self.data_folder = 's3://fsidatalake/eod_market_data/etf_trend_following/'\n",
    "        self.parquet_file_out =f\"{self.data_folder}/etf_market_data.parquet\"\n",
    "        if isSandbox:\n",
    "            self.iex_token ='Tpk_02dcd2036e7641b880dd4cbb01fa9c67'\n",
    "            self.iex_ver = 'sandbox'\n",
    "        else:\n",
    "            #self.iex_token ='pk_2e94555e43da4135a6032433c6b18fa5' pk_79d147436c1349f3abbec37591323e52\n",
    "            self.iex_token ='pk_79d147436c1349f3abbec37591323e52' \n",
    "            self.iex_ver = 'stable'\n",
    "        self.iex_base_url = 'https://cloud.iexapis.com/'+self.iex_ver+'/stock/{}/chart/max?token={}&chartIEXOnly=true&chartLast={}'\n",
    "        \n",
    "        self.findataprep_config={}\n",
    "        self.findataprep_config['etf_holdings_dir']='b753de15443e37f6598e7702811dfad1'\n",
    "        self.findataprep_config['apikey']='b753de15443e37f6598e7702811dfad1'\n",
    "        self.findataprep_config['etf_holdings_dates_url']=Template(\n",
    "            f\"https://financialmodelingprep.com/api/v4/etf-holdings/portfolio-date?symbol=$symbol&apikey={self.findataprep_config['apikey']}\")\n",
    "        self.findataprep_config['etf_holdings_url']=Template(\n",
    "            f\"https://financialmodelingprep.com/api/v4/etf-holdings?symbol=$symbol&date=$date&apikey={self.findataprep_config['apikey']}\")\n",
    "        self.findataprep_config['etf_holdings_columns'] = ['cik', 'acceptanceTime', 'date', 'symbol', 'name', 'lei', 'title',\n",
    "                                                           'cusip', 'isin', 'balance', 'units', 'cur_cd', 'valUsd', 'pctVal',\n",
    "                                                           'payoffProfile', 'assetCat', 'issuerCat', 'invCountry',\n",
    "                                                           'isRestrictedSec', 'fairValLevel', 'isCashCollateral',\n",
    "                                                           'isNonCashCollateral', 'isLoanByFund', 'etf_symbol']\n",
    "        self.findataprep_config['etf_holdings_column_types']= ['string','string','string',\n",
    "                                                                'string','string','string','string','string','string',\n",
    "                                                                'int','string','string','int','float',\n",
    "                                                                'string','string','string','string','string',\n",
    "                                                                'string','string','string','string','string',]\n",
    "        self.findataprep_config['etf_holdings_udf_schema']=\",\".join([f\"{i[0]} {i[1]}\" for i in zip( self.findataprep_config['etf_holdings_columns'], self.findataprep_config['etf_holdings_column_types'])])\n",
    "        self.findataprep_config['etf_holdings_output_file']=\"s3://fsidatalake/ETF_constituents/etf_holdings.parquet\"\n",
    "        \n",
    "        \n",
    "    def set_highwatermarks(self):\n",
    "        try:\n",
    "            self.old_df = spark.read.parquet(self.parquet_file_out)\n",
    "        except:\n",
    "            self.old_df = spark.createDataFrame(pd.DataFrame([{'symbol':'----','date':datetime.datetime.now()-datetime.timedelta(days=365*50)}]))\n",
    "        self.highwatermark_pd = self.old_df.groupby('symbol').agg(py_f.max(\"date\").alias(\"max_date\"),\n",
    "                             py_f.min(\"date\").alias(\"min_date\"),\n",
    "                             (py_f.max(\"date\")-py_f.min(\"date\")).alias(\"date_length\")\n",
    "                            ).toPandas()\n",
    "    def set_new_symbol_df(self):\n",
    "        self.new_sym_df=self.all_symbols_df.groupby(\"symbol\")\\\n",
    "                        .applyInPandas(get_new_data_df, schema=\"date timestamp, close double, open double, symbol string\")\\\n",
    "                        .where('close is not null')\n",
    "    def write_new_symbol_df(self):\n",
    "        self.write_stats=self.new_sym_df.groupby('symbol').agg(py_f.count('symbol').alias('data_count'))\n",
    "        self.new_sym_df.write\\\n",
    "            .option(\"header\",True)\\\n",
    "            .partitionBy('symbol')\\\n",
    "            .mode(\"append\")\\\n",
    "            .parquet(self.parquet_file_out)\n",
    "    def rewrite_if_dups(self):\n",
    "        self.old_df_after_write = spark.read.parquet(self.parquet_file_out)\n",
    "        self.dup_df = self.old_df_after_write.distinct().groupby('date','symbol').count()\n",
    "        dup_count=self.dup_df.where('count>1').count()\n",
    "        if dup_count>0:        \n",
    "            print(f\"found:{dup_count} dups; sample:{self.dup_df.show()}\")\n",
    "            self.old_df_after_write.groupby('date','symbol').agg(py_f.mean('close').alias('close'),py_f.mean('open').alias('open'))\\\n",
    "            .write\\\n",
    "            .option(\"header\",True)\\\n",
    "            .partitionBy('symbol')\\\n",
    "            .mode(\"overwrite\")\\\n",
    "            .parquet(self.parquet_file_out.replace('.parquet','_temp.parquet'))\n",
    "        else:\n",
    "            print(f\"no dups\")\n",
    "            \n",
    "    def get_secret(self,secret_name,region_name):\n",
    "        # Create a Secrets Manager client\n",
    "        session = boto3.session.Session()\n",
    "        client = session.client(\n",
    "            service_name='secretsmanager',\n",
    "            region_name=region_name\n",
    "        )\n",
    "\n",
    "        try:\n",
    "            get_secret_value_response = client.get_secret_value(\n",
    "                SecretId=secret_name\n",
    "            )\n",
    "        except ClientError as e:\n",
    "            # For a list of exceptions thrown, see\n",
    "            # https://docs.aws.amazon.com/secretsmanager/latest/apireference/API_GetSecretValue.html\n",
    "            raise e\n",
    "\n",
    "        # Decrypts secret using the associated KMS key.\n",
    "        secret = json.loads(get_secret_value_response['SecretString'])[secret_name]\n",
    "        return(secret)\n",
    "        \n",
    "\n",
    "mdg=MarketDataGateway()\n",
    "if False:\n",
    "    mdg.set_highwatermarks()\n",
    "    # set bc vars\n",
    "    highwatermark_pd_bc =sc.broadcast(mdg.highwatermark_pd)\n",
    "    columns_to_capture_bc =sc.broadcast(mdg.columns_to_capture)\n",
    "    iex_token_bc =sc.broadcast(mdg.iex_token)\n",
    "    iex_base_url_bc =sc.broadcast(mdg.iex_base_url)\n",
    "    # set bc vars\n",
    "    mdg.set_new_symbol_df()\n",
    "    mdg.write_new_symbol_df()\n",
    "    print(mdg.write_stats.toPandas().sort_values(['symbol']))\n",
    "    mdg.rewrite_if_dups()\n",
    "\n"
   ]
  },
  {
   "cell_type": "code",
   "execution_count": null,
   "id": "355aadf1-f620-4b80-ac03-c6b4e250c318",
   "metadata": {
    "tags": []
   },
   "outputs": [],
   "source": []
  },
  {
   "cell_type": "code",
   "execution_count": null,
   "id": "bfecb398-68e1-4367-8a4f-e82486f4ed3f",
   "metadata": {
    "tags": []
   },
   "outputs": [],
   "source": []
  },
  {
   "cell_type": "code",
   "execution_count": null,
   "id": "9711086d-f0e5-44bd-b32b-548816b9c6d8",
   "metadata": {
    "execution": {
     "iopub.execute_input": "2023-03-13T23:54:40.332421Z",
     "iopub.status.busy": "2023-03-13T23:54:40.331956Z"
    },
    "tags": []
   },
   "outputs": [],
   "source": [
    "etf_holdings_dates_url,etf_holdings_url=mdg.findataprep_config['etf_holdings_dates_url'],mdg.findataprep_config['etf_holdings_url']\n",
    "schema=mdg.findataprep_config['etf_holdings_udf_schema']\n",
    "etf_const_df=mdg.all_symbols_df.where(py_f.col('symbol').isin(mdg.bench_symbol)).groupby('symbol').applyInPandas(lambda x: get_ETF_constituents(x,etf_holdings_dates_url,etf_holdings_url,schema), schema=schema )\n",
    "if True:\n",
    "    etf_const_df.coalesce(1).write\\\n",
    "            .option(\"header\",True)\\\n",
    "            .partitionBy('symbol')\\\n",
    "            .mode(\"overwrite\")\\\n",
    "            .parquet(mdg.findataprep_config['etf_holdings_output_file'])"
   ]
  },
  {
   "cell_type": "code",
   "execution_count": 5,
   "id": "24520251-97d6-492a-9fac-9475504d47c5",
   "metadata": {
    "execution": {
     "iopub.execute_input": "2023-03-13T23:34:49.865295Z",
     "iopub.status.busy": "2023-03-13T23:34:49.864871Z",
     "iopub.status.idle": "2023-03-13T23:35:31.647129Z",
     "shell.execute_reply": "2023-03-13T23:35:31.646039Z",
     "shell.execute_reply.started": "2023-03-13T23:34:49.865265Z"
    },
    "tags": []
   },
   "outputs": [
    {
     "name": "stdout",
     "output_type": "stream",
     "text": [
      "+---+--------------+----+------+----+---+-----+-----+----+-------+-----+------+------+------+-------------+--------+---------+----------+---------------+------------+----------------+-------------------+------------+----------+\n",
      "|cik|acceptanceTime|date|symbol|name|lei|title|cusip|isin|balance|units|cur_cd|valUsd|pctVal|payoffProfile|assetCat|issuerCat|invCountry|isRestrictedSec|fairValLevel|isCashCollateral|isNonCashCollateral|isLoanByFund|etf_symbol|\n",
      "+---+--------------+----+------+----+---+-----+-----+----+-------+-----+------+------+------+-------------+--------+---------+----------+---------------+------------+----------------+-------------------+------------+----------+\n",
      "+---+--------------+----+------+----+---+-----+-----+----+-------+-----+------+------+------+-------------+--------+---------+----------+---------------+------------+----------------+-------------------+------------+----------+\n",
      "\n"
     ]
    }
   ],
   "source": [
    "if False:\n",
    "    x=mdg.bench_symbol[2]\n",
    "    get_ETF_constituents(x,etf_holdings_dates_url,etf_holdings_url)\n",
    "else:\n",
    "    etf_const_df.where('title=\"exception\"').show(truncate=False)"
   ]
  },
  {
   "cell_type": "code",
   "execution_count": 6,
   "id": "0aa837fd-2e29-4de3-a550-5686d8815fc4",
   "metadata": {
    "execution": {
     "iopub.execute_input": "2023-03-13T23:35:31.649089Z",
     "iopub.status.busy": "2023-03-13T23:35:31.648731Z",
     "iopub.status.idle": "2023-03-13T23:36:10.655462Z",
     "shell.execute_reply": "2023-03-13T23:36:10.654431Z",
     "shell.execute_reply.started": "2023-03-13T23:35:31.649050Z"
    },
    "tags": []
   },
   "outputs": [
    {
     "name": "stdout",
     "output_type": "stream",
     "text": [
      "+----------+----------+-----+\n",
      "|etf_symbol|      date|count|\n",
      "+----------+----------+-----+\n",
      "|       IVV|2020-06-30|  394|\n",
      "|       IVV|2020-07-31|10748|\n",
      "|       IVV|2020-08-31| 7272|\n",
      "|       IVV|2020-09-30|   36|\n",
      "|       IVV|2020-10-31| 4881|\n",
      "|       IVV|2020-11-30| 2337|\n",
      "|       IVV|2020-12-31|  288|\n",
      "|       IVV|2021-01-31|   36|\n",
      "|       IVV|2021-02-28|11054|\n",
      "|       IVV|2021-03-31|   53|\n",
      "|       IVV|2021-04-30|   46|\n",
      "|       IVV|2021-05-31|   76|\n",
      "|       IVV|2021-06-30|  539|\n",
      "|       IVV|2021-07-31|  376|\n",
      "|       IVV|2021-08-31|  351|\n",
      "|       IVV|2021-09-30| 2710|\n",
      "|       IVV|2021-10-31| 2328|\n",
      "|       IVV|2021-11-30| 5012|\n",
      "|       IVV|2021-12-31|   76|\n",
      "|       IVV|2022-01-31|14119|\n",
      "|       IVV|2022-02-28|  103|\n",
      "|       IVV|2022-03-31|  852|\n",
      "|       IVV|2022-04-30| 2228|\n",
      "|       IVV|2022-05-31|   49|\n",
      "|       IVV|2022-06-30|   44|\n",
      "|       IVV|2022-07-31|    8|\n",
      "|       IVV|2022-08-31|  996|\n",
      "|       IVV|2022-09-30|  522|\n",
      "|       IVV|2022-10-31| 5215|\n",
      "|       IVV|2022-11-30|10291|\n",
      "|       QQQ|2019-09-30|  103|\n",
      "|       QQQ|2019-12-31|  103|\n",
      "|       QQQ|2020-03-31|  103|\n",
      "|       QQQ|2020-06-30|  103|\n",
      "|       QQQ|2020-09-30|  103|\n",
      "|       QQQ|2020-12-31|  102|\n",
      "|       QQQ|2021-03-31|  102|\n",
      "|       QQQ|2021-06-30|  102|\n",
      "|       QQQ|2021-09-30|  102|\n",
      "|       QQQ|2021-12-31|  101|\n",
      "|       QQQ|2022-03-31|  102|\n",
      "|       QQQ|2022-06-30|  102|\n",
      "|       QQQ|2022-09-30|  102|\n",
      "|       SPY|2019-09-30|  505|\n",
      "|       SPY|2019-12-31|  505|\n",
      "|       SPY|2020-03-31|  505|\n",
      "|       SPY|2020-06-30|  505|\n",
      "|       SPY|2020-09-30|  505|\n",
      "|       SPY|2020-12-31|  505|\n",
      "|       SPY|2021-03-31|  506|\n",
      "|       SPY|2021-06-30|  506|\n",
      "|       SPY|2021-09-30|  506|\n",
      "|       SPY|2021-12-31|  506|\n",
      "|       SPY|2022-03-31|  506|\n",
      "|       SPY|2022-09-30|  505|\n",
      "+----------+----------+-----+\n",
      "\n"
     ]
    }
   ],
   "source": [
    "etf_const_df.groupBy('etf_symbol','date').count().orderBy('etf_symbol','date').show(1000)"
   ]
  },
  {
   "cell_type": "code",
   "execution_count": 7,
   "id": "780be3e2-1e84-4d97-a758-04727d29a30c",
   "metadata": {
    "execution": {
     "iopub.execute_input": "2023-03-13T23:36:23.454077Z",
     "iopub.status.busy": "2023-03-13T23:36:23.453629Z",
     "iopub.status.idle": "2023-03-13T23:36:23.459248Z",
     "shell.execute_reply": "2023-03-13T23:36:23.458245Z",
     "shell.execute_reply.started": "2023-03-13T23:36:23.454046Z"
    }
   },
   "outputs": [
    {
     "name": "stdout",
     "output_type": "stream",
     "text": [
      "<string.Template object at 0x7f29d9959050> <string.Template object at 0x7f29d99e0b10> cik string,acceptanceTime string,date string,symbol string,name string,lei string,title string,cusip string,isin string,balance int,units string,cur_cd string,valUsd int,pctVal float,payoffProfile string,assetCat string,issuerCat string,invCountry string,isRestrictedSec string,fairValLevel string,isCashCollateral string,isNonCashCollateral string,isLoanByFund string,etf_symbol string\n"
     ]
    }
   ],
   "source": [
    "print(etf_holdings_dates_url,etf_holdings_url,schema)"
   ]
  },
  {
   "cell_type": "code",
   "execution_count": null,
   "id": "64176615-292b-4a20-8d26-e6ba7c27b633",
   "metadata": {},
   "outputs": [],
   "source": []
  }
 ],
 "metadata": {
  "kernelspec": {
   "display_name": "PySpark (Kubernetes)",
   "language": "python",
   "name": "spark_python_kubernetes"
  },
  "language_info": {
   "codemirror_mode": {
    "name": "ipython",
    "version": 3
   },
   "file_extension": ".py",
   "mimetype": "text/x-python",
   "name": "python",
   "nbconvert_exporter": "python",
   "pygments_lexer": "ipython3",
   "version": "3.7.10"
  }
 },
 "nbformat": 4,
 "nbformat_minor": 5
}
